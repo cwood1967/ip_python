{
 "cells": [
  {
   "cell_type": "markdown",
   "metadata": {},
   "source": [
    "# Part 2:  Segmentation"
   ]
  },
  {
   "cell_type": "markdown",
   "metadata": {},
   "source": [
    "# Setup"
   ]
  },
  {
   "cell_type": "markdown",
   "metadata": {},
   "source": [
    "### Our usual imports and initializing napari"
   ]
  },
  {
   "cell_type": "code",
   "execution_count": 43,
   "metadata": {},
   "outputs": [],
   "source": [
    "import numpy as np\n",
    "import pandas as pd\n",
    "import napari\n",
    "import tifffile\n",
    "import skimage as ski\n",
    "import scipy.ndimage as ndi\n",
    "import glob\n",
    "import plotly.express as px\n",
    "import cellpose.models as models\n",
    "import matplotlib.pyplot as plt\n",
    "import cv2\n",
    "import dask"
   ]
  },
  {
   "cell_type": "code",
   "execution_count": 44,
   "metadata": {},
   "outputs": [],
   "source": [
    "viewer = napari.Viewer()"
   ]
  },
  {
   "cell_type": "markdown",
   "metadata": {},
   "source": [
    "### Support functions for this notebook"
   ]
  },
  {
   "cell_type": "markdown",
   "metadata": {},
   "source": [
    "Skimage's rolling ball background subtraction (ski.restoration.rolling_ball), is slow and does not work as well as ImageJ's.  This function more closely matches ImageJ's rolling ball background subtraction."
   ]
  },
  {
   "cell_type": "code",
   "execution_count": 74,
   "metadata": {},
   "outputs": [],
   "source": [
    "def backsub_2D(inp, radius=60):\n",
    "    \"\"\"\n",
    "    This function performs background subtraction on a 2D image using a morphological operation called \"top-hat\".\n",
    "\n",
    "    Parameters:\n",
    "    inp (numpy.ndarray): The input 2D image.\n",
    "    radius (int, optional): The radius of the structuring element used for the top-hat operation. Default is 60.\n",
    "\n",
    "    Returns:\n",
    "    rtn (numpy.ndarray): The result image after background subtraction.\n",
    "\n",
    "    How it works:\n",
    "    1. It first creates an elliptical structuring element with the specified radius.\n",
    "    2. It then applies a Gaussian blur to the input image to reduce noise.\n",
    "    3. It performs a top-hat operation on the blurred image. The top-hat operation is the difference between the input image and its opening. It is used to isolate small elements and details from the larger ones.\n",
    "    4. It subtracts the result of the top-hat operation from the input image to get the final result.\n",
    "    5. Finally, it clips the result to have a minimum value of 0 (to remove any negative values that might have resulted from the subtraction).\n",
    "    \"\"\"\n",
    "    filterSize =(radius, radius)\n",
    "    kernel = cv2.getStructuringElement(cv2.MORPH_ELLIPSE, filterSize)\n",
    "    blurred = cv2.GaussianBlur(inp, (5, 5), 0)\n",
    "    tophat_img = cv2.morphologyEx(blurred, cv2.MORPH_TOPHAT, kernel)\n",
    "    rtn = inp.astype(np.single) - (blurred-tophat_img)\n",
    "    rtn = np.clip(rtn, 0, np.inf)\n",
    "    return rtn"
   ]
  },
  {
   "cell_type": "code",
   "execution_count": 75,
   "metadata": {},
   "outputs": [],
   "source": [
    "def remove_objects(label_image, area_min, area_max):\n",
    "    \"\"\"\n",
    "    This function removes objects from a labeled image based on their area.\n",
    "\n",
    "    Parameters:\n",
    "    label_image (numpy.ndarray): A 2D array where each unique non-zero value represents a unique object/region.\n",
    "    area_min (int): The minimum area threshold. Objects with area less than this will be removed.\n",
    "    area_max (int): The maximum area threshold. Objects with area more than this will be removed.\n",
    "\n",
    "    Returns:\n",
    "    cleaned_label_image (numpy.ndarray): A 2D array similar to label_image but with small and large objects removed.\n",
    "\n",
    "    How it works:\n",
    "    1. It first calculates the properties of each labeled region in the input image using skimage.measure.regionprops.\n",
    "    2. It then creates a boolean mask of the same size as the input image. This mask is True for pixels belonging to regions that are too small or too large.\n",
    "    3. Finally, it applies this mask to the input image, setting the labels of the small and large regions to zero, effectively removing them from the image.\n",
    "    \"\"\"\n",
    "    # Get properties of labeled regions\n",
    "    props = ski.measure.regionprops(label_image)\n",
    "\n",
    "    # Create a boolean mask where True indicates a region is too small or too large\n",
    "    object_mask = np.zeros_like(label_image, dtype=bool)\n",
    "    for prop in props:\n",
    "        if prop.area < area_min or prop.area > area_max:\n",
    "            object_mask[label_image == prop.label] = True\n",
    "\n",
    "    # Apply the mask to the label image\n",
    "    cleaned_label_image = np.where(object_mask, 0, label_image)\n",
    "\n",
    "    return cleaned_label_image"
   ]
  },
  {
   "cell_type": "code",
   "execution_count": 114,
   "metadata": {},
   "outputs": [],
   "source": [
    "def shrink_labels(label_image, shrinkage=3):\n",
    "    \"\"\"\n",
    "    This function shrinks the regions in a labeled image using morphological erosion.\n",
    "\n",
    "    Parameters:\n",
    "    label_image (numpy.ndarray): A 2D array where each unique non-zero value represents a unique object/region.\n",
    "    shrinkage (int, optional): The size of the structuring element used for the erosion operation. Default is 3.  This default shrinks by 1 pixel in each direction.\n",
    "\n",
    "    Returns:\n",
    "    shrunken_label_image (numpy.ndarray): A 2D array similar to label_image but with all regions shrunken.\n",
    "\n",
    "    How it works:\n",
    "    1. It first creates a circular structuring element of the specified size.\n",
    "    2. It then initializes an empty image of the same size as the input image.\n",
    "    3. It calculates the properties of each labeled region in the input image using skimage.measure.regionprops.\n",
    "    4. For each region, it extracts the region from the original label image, erodes it using the structuring element, and then updates the corresponding region in the shrunken_label_image.\n",
    "    5. The erosion operation shrinks the region by removing pixels from its boundary.\n",
    "    \"\"\"\n",
    "    kernel = cv2.getStructuringElement(cv2.MORPH_ELLIPSE, (shrinkage, shrinkage))\n",
    "\n",
    "    shrunken_label_image = np.zeros_like(label_image)\n",
    "    regions = ski.measure.regionprops(label_image)\n",
    "\n",
    "    for region in regions:\n",
    "        lbl = region.label\n",
    "        minr, minc, maxr, maxc = region.bbox\n",
    "\n",
    "        minr = max(minr - 1, 0)\n",
    "        minc = max(minc - 1, 0)\n",
    "        maxr = min(maxr + 1, label_image.shape[0])\n",
    "        maxc = min(maxc + 1, label_image.shape[1])\n",
    "\n",
    "        # Extract the region from the original label image\n",
    "        region_mask = label_image[minr:maxr, minc:maxc] == lbl\n",
    "\n",
    "        # Erode the region\n",
    "        eroded_region_mask = cv2.erode(region_mask.astype(np.uint8), kernel)\n",
    "\n",
    "        # Update the shrunken_label_image\n",
    "        shrunken_label_image[minr:maxr, minc:maxc][eroded_region_mask == 1] = lbl\n",
    "\n",
    "    return shrunken_label_image"
   ]
  },
  {
   "cell_type": "markdown",
   "metadata": {},
   "source": [
    "These support functions, since they are defined in THIS file and not in an imported module, can be called simply as backsub_2D(), they do not have a \"ski.\" prefix"
   ]
  },
  {
   "cell_type": "markdown",
   "metadata": {},
   "source": [
    "### Loading the image for this notebook"
   ]
  },
  {
   "cell_type": "code",
   "execution_count": 48,
   "metadata": {},
   "outputs": [
    {
     "data": {
      "text/plain": [
       "(512, 672, 3)"
      ]
     },
     "execution_count": 48,
     "metadata": {},
     "output_type": "execute_result"
    }
   ],
   "source": [
    "img = tifffile.imread('files/C-hela-cells.tif')\n",
    "img.shape"
   ]
  },
  {
   "cell_type": "markdown",
   "metadata": {},
   "source": [
    "And visualize in napari with the appropriate names and colors"
   ]
  },
  {
   "cell_type": "code",
   "execution_count": 49,
   "metadata": {},
   "outputs": [
    {
     "data": {
      "text/plain": [
       "[<Image layer 'lysosomes' at 0x2373d5a3b80>,\n",
       " <Image layer 'mitocondria' at 0x237895a06d0>,\n",
       " <Image layer 'nucleii' at 0x23789605390>]"
      ]
     },
     "execution_count": 49,
     "metadata": {},
     "output_type": "execute_result"
    }
   ],
   "source": [
    "viewer.layers.clear()\n",
    "viewer.add_image(img, name=['lysosomes', 'mitocondria', 'nucleii'], colormap=['red', 'green', 'blue'], channel_axis=2)"
   ]
  },
  {
   "cell_type": "markdown",
   "metadata": {},
   "source": [
    "# Pre-processing"
   ]
  },
  {
   "cell_type": "markdown",
   "metadata": {},
   "source": [
    "### Standard pipeline:  subtract background, gaussian blur, threshold"
   ]
  },
  {
   "cell_type": "markdown",
   "metadata": {},
   "source": [
    "To make things easier on ourselves, we split the 3 channels into 3 separate variables.  The contour of the 3 channels is very different:  the lysosomes are small puncta, the mitos are large networks with holes in them, and the nucleii are very large blobs.  We would not want to use the same rolling ball radius for all 3 channels."
   ]
  },
  {
   "cell_type": "code",
   "execution_count": 50,
   "metadata": {},
   "outputs": [],
   "source": [
    "lyso = img[:,:,0]\n",
    "mitos = img[:,:,1]\n",
    "nucleii = img[:,:,2]"
   ]
  },
  {
   "cell_type": "markdown",
   "metadata": {},
   "source": [
    "The nucleii are much larger than the lysos or mitos, so we will use a much larger rolling ball radius."
   ]
  },
  {
   "cell_type": "code",
   "execution_count": 51,
   "metadata": {},
   "outputs": [
    {
     "data": {
      "text/plain": [
       "<Image layer 'nucleii_backsubbed' at 0x2372dd4c190>"
      ]
     },
     "execution_count": 51,
     "metadata": {},
     "output_type": "execute_result"
    }
   ],
   "source": [
    "lyso_backsub = backsub_2D(lyso, radius=20)\n",
    "mito_backsub = backsub_2D(mitos, radius=20)\n",
    "nucleii_backsub = backsub_2D(nucleii, radius=200)\n",
    "\n",
    "viewer.add_image(lyso_backsub, name='lysosomes_backsubbed', colormap='red', blending='additive')\n",
    "viewer.add_image(mito_backsub, name='mito_backsubbed', colormap='green', blending='additive')\n",
    "viewer.add_image(nucleii_backsub, name='nucleii_backsubbed', colormap='blue', blending='additive')\n"
   ]
  },
  {
   "cell_type": "markdown",
   "metadata": {},
   "source": [
    "For segmentation we will use the nucleii primarily, we'll apply some blurring to make sure we avoid holes and small puncta."
   ]
  },
  {
   "cell_type": "code",
   "execution_count": 52,
   "metadata": {},
   "outputs": [
    {
     "data": {
      "text/plain": [
       "<Image layer 'blurred' at 0x2379ae25ff0>"
      ]
     },
     "execution_count": 52,
     "metadata": {},
     "output_type": "execute_result"
    }
   ],
   "source": [
    "blurred = ndi.gaussian_filter(nucleii_backsub, 10)\n",
    "viewer.add_image(blurred, name='blurred', colormap='gray', blending='additive')"
   ]
  },
  {
   "cell_type": "markdown",
   "metadata": {},
   "source": [
    "# Simple Segmentation"
   ]
  },
  {
   "cell_type": "markdown",
   "metadata": {},
   "source": [
    "## Thresholding"
   ]
  },
  {
   "cell_type": "markdown",
   "metadata": {},
   "source": [
    "Mousing over the image (make sure you have the \"blurred\" layer selected) we can see that nucleii have pixel intensities > 300, so we will use that as our threshold and visualize the binary image."
   ]
  },
  {
   "cell_type": "code",
   "execution_count": 53,
   "metadata": {},
   "outputs": [
    {
     "data": {
      "text/plain": [
       "<Image layer 'thresholded' at 0x2379ae58a60>"
      ]
     },
     "execution_count": 53,
     "metadata": {},
     "output_type": "execute_result"
    }
   ],
   "source": [
    "thresholded = blurred > 300\n",
    "viewer.add_image(thresholded, name='thresholded', colormap='gray', blending='additive')"
   ]
  },
  {
   "cell_type": "markdown",
   "metadata": {},
   "source": [
    "With the \"thresholded\" layer selected, try mousing over the pixels.  Turns out python, whenever given an expression of A > B, returns a boolean array of all \"True\" or \"False\".  Napari is smart enough to turn these into 1 and 0."
   ]
  },
  {
   "cell_type": "markdown",
   "metadata": {},
   "source": [
    "## Label images"
   ]
  },
  {
   "cell_type": "markdown",
   "metadata": {},
   "source": [
    "scipy.ndimage has a function called label that will take a binary image and return a \"labeled\" image.  A label image is an image where each pixel is assigned a number, and all pixels with the same number are connected.  This is exactly what we want for segmentation.  The function actually returns two arguments, the label_img and the number of objects it found."
   ]
  },
  {
   "cell_type": "code",
   "execution_count": 54,
   "metadata": {},
   "outputs": [],
   "source": [
    "label_img, number_objects = ndi.label(thresholded)"
   ]
  },
  {
   "cell_type": "markdown",
   "metadata": {},
   "source": [
    "If we add the label_img to napari, we can see each individual object is a different intensity"
   ]
  },
  {
   "cell_type": "code",
   "execution_count": 55,
   "metadata": {},
   "outputs": [
    {
     "data": {
      "text/plain": [
       "<Image layer 'label_img' at 0x2379b2f0130>"
      ]
     },
     "execution_count": 55,
     "metadata": {},
     "output_type": "execute_result"
    }
   ],
   "source": [
    "viewer.add_image(label_img, name='label_img', colormap='gray', blending='additive')"
   ]
  },
  {
   "cell_type": "markdown",
   "metadata": {},
   "source": [
    "...but this is not very conducive to seeing separation between objects if they have a label value that is very similar.  Napari has a nice feature where you can instead .add_labels(label_img) and it will automatically assign a random color to each label."
   ]
  },
  {
   "cell_type": "code",
   "execution_count": 56,
   "metadata": {},
   "outputs": [
    {
     "data": {
      "text/plain": [
       "<Labels layer 'label_img' at 0x23788ebac80>"
      ]
     },
     "execution_count": 56,
     "metadata": {},
     "output_type": "execute_result"
    }
   ],
   "source": [
    "viewer.layers.remove('label_img')\n",
    "viewer.add_labels(label_img, name='label_img')"
   ]
  },
  {
   "cell_type": "markdown",
   "metadata": {},
   "source": [
    "## Regionprops (analyze particles)"
   ]
  },
  {
   "cell_type": "markdown",
   "metadata": {},
   "source": [
    "### Regionprops (quantifying labels)"
   ]
  },
  {
   "cell_type": "markdown",
   "metadata": {},
   "source": [
    "We have a binary image (thresholded) that ImageJ would normally use for Analyze Particles, but we have managed to improve on it with a label image (label_img).  Label images are superior, as if two objects are touching in a binary image, ImageJ lumps them together into a single object.  With labeled images (as we shall see with cellpose), you can have objects touching but still be separated (each gets a different intensity value assigned to it).  Now we want to quantify each object, and we can do that with skimage.measure.regionprops_table.  We have to specify what properties we want to collect, it can be computationally expensive to collect all of them, so we will just collect the ones we need."
   ]
  },
  {
   "cell_type": "markdown",
   "metadata": {},
   "source": [
    "The available properties are:  https://scikit-image.org/docs/dev/api/skimage.measure.html#skimage.measure.regionprops\n",
    "\n",
    "The most useful ones are:  \n",
    "\n",
    "label (the index of the object in the image), \n",
    "\n",
    "area (in number of pixels), \n",
    "\n",
    "centroid (the z/y/x position of the center of the object), \n",
    "\n",
    "mean_intensity, max_intensity, min_intensity, \n",
    "\n",
    "perimeter,  \n",
    "\n",
    "eccentricity (how extended the object is, ranging from 0->1, with a circle having ecc=0), \n",
    "\n",
    "orientation (the angle the object makes in radians), \n",
    "\n",
    "axis_major_length, axis_minor_length"
   ]
  },
  {
   "cell_type": "markdown",
   "metadata": {},
   "source": [
    "Unfortunately regionprops_table returns a dictionary instead of a simple table, so we have to do some extra work to get it into a table.  We'll use pandas.DataFrame.from_dict to convert the dictionary into a table."
   ]
  },
  {
   "cell_type": "code",
   "execution_count": 57,
   "metadata": {},
   "outputs": [
    {
     "data": {
      "text/html": [
       "<div>\n",
       "<style scoped>\n",
       "    .dataframe tbody tr th:only-of-type {\n",
       "        vertical-align: middle;\n",
       "    }\n",
       "\n",
       "    .dataframe tbody tr th {\n",
       "        vertical-align: top;\n",
       "    }\n",
       "\n",
       "    .dataframe thead th {\n",
       "        text-align: right;\n",
       "    }\n",
       "</style>\n",
       "<table border=\"1\" class=\"dataframe\">\n",
       "  <thead>\n",
       "    <tr style=\"text-align: right;\">\n",
       "      <th></th>\n",
       "      <th>label</th>\n",
       "      <th>area</th>\n",
       "      <th>centroid-0</th>\n",
       "      <th>centroid-1</th>\n",
       "      <th>orientation</th>\n",
       "      <th>eccentricity</th>\n",
       "    </tr>\n",
       "  </thead>\n",
       "  <tbody>\n",
       "    <tr>\n",
       "      <th>0</th>\n",
       "      <td>1</td>\n",
       "      <td>14404.0</td>\n",
       "      <td>179.556651</td>\n",
       "      <td>463.463968</td>\n",
       "      <td>0.109041</td>\n",
       "      <td>0.787659</td>\n",
       "    </tr>\n",
       "    <tr>\n",
       "      <th>1</th>\n",
       "      <td>2</td>\n",
       "      <td>15433.0</td>\n",
       "      <td>171.781572</td>\n",
       "      <td>298.301173</td>\n",
       "      <td>-1.419267</td>\n",
       "      <td>0.549767</td>\n",
       "    </tr>\n",
       "    <tr>\n",
       "      <th>2</th>\n",
       "      <td>3</td>\n",
       "      <td>14937.0</td>\n",
       "      <td>279.708040</td>\n",
       "      <td>140.079199</td>\n",
       "      <td>-0.609245</td>\n",
       "      <td>0.726105</td>\n",
       "    </tr>\n",
       "    <tr>\n",
       "      <th>3</th>\n",
       "      <td>4</td>\n",
       "      <td>14258.0</td>\n",
       "      <td>408.910296</td>\n",
       "      <td>333.062141</td>\n",
       "      <td>-0.593316</td>\n",
       "      <td>0.736625</td>\n",
       "    </tr>\n",
       "  </tbody>\n",
       "</table>\n",
       "</div>"
      ],
      "text/plain": [
       "   label     area  centroid-0  centroid-1  orientation  eccentricity\n",
       "0      1  14404.0  179.556651  463.463968     0.109041      0.787659\n",
       "1      2  15433.0  171.781572  298.301173    -1.419267      0.549767\n",
       "2      3  14937.0  279.708040  140.079199    -0.609245      0.726105\n",
       "3      4  14258.0  408.910296  333.062141    -0.593316      0.736625"
      ]
     },
     "execution_count": 57,
     "metadata": {},
     "output_type": "execute_result"
    }
   ],
   "source": [
    "results = pd.DataFrame.from_dict(ski.measure.regionprops_table(label_img, properties=['label', 'area', 'centroid', 'orientation', 'eccentricity']))\n",
    "results"
   ]
  },
  {
   "cell_type": "markdown",
   "metadata": {},
   "source": [
    "'centroid-0' is the y position, 'centroid-1' is the x position.  Orientation in radians is not intuitive, so let's fix that."
   ]
  },
  {
   "cell_type": "code",
   "execution_count": 58,
   "metadata": {},
   "outputs": [
    {
     "data": {
      "text/html": [
       "<div>\n",
       "<style scoped>\n",
       "    .dataframe tbody tr th:only-of-type {\n",
       "        vertical-align: middle;\n",
       "    }\n",
       "\n",
       "    .dataframe tbody tr th {\n",
       "        vertical-align: top;\n",
       "    }\n",
       "\n",
       "    .dataframe thead th {\n",
       "        text-align: right;\n",
       "    }\n",
       "</style>\n",
       "<table border=\"1\" class=\"dataframe\">\n",
       "  <thead>\n",
       "    <tr style=\"text-align: right;\">\n",
       "      <th></th>\n",
       "      <th>label</th>\n",
       "      <th>area</th>\n",
       "      <th>centroid-0</th>\n",
       "      <th>centroid-1</th>\n",
       "      <th>orientation</th>\n",
       "      <th>eccentricity</th>\n",
       "    </tr>\n",
       "  </thead>\n",
       "  <tbody>\n",
       "    <tr>\n",
       "      <th>0</th>\n",
       "      <td>1</td>\n",
       "      <td>14404.0</td>\n",
       "      <td>179.556651</td>\n",
       "      <td>463.463968</td>\n",
       "      <td>96.247604</td>\n",
       "      <td>0.787659</td>\n",
       "    </tr>\n",
       "    <tr>\n",
       "      <th>1</th>\n",
       "      <td>2</td>\n",
       "      <td>15433.0</td>\n",
       "      <td>171.781572</td>\n",
       "      <td>298.301173</td>\n",
       "      <td>8.681978</td>\n",
       "      <td>0.549767</td>\n",
       "    </tr>\n",
       "    <tr>\n",
       "      <th>2</th>\n",
       "      <td>3</td>\n",
       "      <td>14937.0</td>\n",
       "      <td>279.708040</td>\n",
       "      <td>140.079199</td>\n",
       "      <td>55.092811</td>\n",
       "      <td>0.726105</td>\n",
       "    </tr>\n",
       "    <tr>\n",
       "      <th>3</th>\n",
       "      <td>4</td>\n",
       "      <td>14258.0</td>\n",
       "      <td>408.910296</td>\n",
       "      <td>333.062141</td>\n",
       "      <td>56.005484</td>\n",
       "      <td>0.736625</td>\n",
       "    </tr>\n",
       "  </tbody>\n",
       "</table>\n",
       "</div>"
      ],
      "text/plain": [
       "   label     area  centroid-0  centroid-1  orientation  eccentricity\n",
       "0      1  14404.0  179.556651  463.463968    96.247604      0.787659\n",
       "1      2  15433.0  171.781572  298.301173     8.681978      0.549767\n",
       "2      3  14937.0  279.708040  140.079199    55.092811      0.726105\n",
       "3      4  14258.0  408.910296  333.062141    56.005484      0.736625"
      ]
     },
     "execution_count": 58,
     "metadata": {},
     "output_type": "execute_result"
    }
   ],
   "source": [
    "results['orientation'] = (90+results['orientation']/np.pi*180)\n",
    "results"
   ]
  },
  {
   "cell_type": "markdown",
   "metadata": {},
   "source": [
    "Comparing to the image, we should see that label 2 (centered at 171/298) is pretty flat (8 degrees), and label 1 (centered at 180/463) is mostly vertical (96 degrees)."
   ]
  },
  {
   "cell_type": "markdown",
   "metadata": {},
   "source": [
    "### Regionprops (quantifying intensities)"
   ]
  },
  {
   "cell_type": "markdown",
   "metadata": {},
   "source": [
    "Note that the only argument we gave to ski.measure.regionprops_table that had an image in it was label_img which does not include any information about the raw intensities of our original image:  just shape information.  \n",
    "\n",
    "What if we want to quantify the intensities of the lysosome or mitocondrial channel?  ski.measure.regionprops_table lets use give an intensity image as an argument."
   ]
  },
  {
   "cell_type": "code",
   "execution_count": 59,
   "metadata": {},
   "outputs": [
    {
     "data": {
      "text/html": [
       "<div>\n",
       "<style scoped>\n",
       "    .dataframe tbody tr th:only-of-type {\n",
       "        vertical-align: middle;\n",
       "    }\n",
       "\n",
       "    .dataframe tbody tr th {\n",
       "        vertical-align: top;\n",
       "    }\n",
       "\n",
       "    .dataframe thead th {\n",
       "        text-align: right;\n",
       "    }\n",
       "</style>\n",
       "<table border=\"1\" class=\"dataframe\">\n",
       "  <thead>\n",
       "    <tr style=\"text-align: right;\">\n",
       "      <th></th>\n",
       "      <th>label</th>\n",
       "      <th>area</th>\n",
       "      <th>centroid-0</th>\n",
       "      <th>centroid-1</th>\n",
       "      <th>mean_intensity</th>\n",
       "    </tr>\n",
       "  </thead>\n",
       "  <tbody>\n",
       "    <tr>\n",
       "      <th>0</th>\n",
       "      <td>1</td>\n",
       "      <td>14404.0</td>\n",
       "      <td>179.556651</td>\n",
       "      <td>463.463968</td>\n",
       "      <td>65.834702</td>\n",
       "    </tr>\n",
       "    <tr>\n",
       "      <th>1</th>\n",
       "      <td>2</td>\n",
       "      <td>15433.0</td>\n",
       "      <td>171.781572</td>\n",
       "      <td>298.301173</td>\n",
       "      <td>66.851036</td>\n",
       "    </tr>\n",
       "    <tr>\n",
       "      <th>2</th>\n",
       "      <td>3</td>\n",
       "      <td>14937.0</td>\n",
       "      <td>279.708040</td>\n",
       "      <td>140.079199</td>\n",
       "      <td>73.726715</td>\n",
       "    </tr>\n",
       "    <tr>\n",
       "      <th>3</th>\n",
       "      <td>4</td>\n",
       "      <td>14258.0</td>\n",
       "      <td>408.910296</td>\n",
       "      <td>333.062141</td>\n",
       "      <td>82.320663</td>\n",
       "    </tr>\n",
       "  </tbody>\n",
       "</table>\n",
       "</div>"
      ],
      "text/plain": [
       "   label     area  centroid-0  centroid-1  mean_intensity\n",
       "0      1  14404.0  179.556651  463.463968       65.834702\n",
       "1      2  15433.0  171.781572  298.301173       66.851036\n",
       "2      3  14937.0  279.708040  140.079199       73.726715\n",
       "3      4  14258.0  408.910296  333.062141       82.320663"
      ]
     },
     "execution_count": 59,
     "metadata": {},
     "output_type": "execute_result"
    }
   ],
   "source": [
    "mito_results = pd.DataFrame.from_dict(ski.measure.regionprops_table(label_img, mito_backsub, properties=['label', 'area', 'centroid', 'mean_intensity']))\n",
    "mito_results"
   ]
  },
  {
   "cell_type": "markdown",
   "metadata": {},
   "source": [
    "Compare to the original image and mito_backsubbed, does this make sense?  Note a fun feature of napari label layers:  you can change the \"contour\" argument to 1, and it will show just the outline of the labels."
   ]
  },
  {
   "cell_type": "markdown",
   "metadata": {},
   "source": [
    "Regionprops is a very powerful tool, we can write our own custom functions to perform some kind of analysis on each object.  For instance you could write something to take find the 90th percentile of intensity in each object and the 10th percentile, useful for looking at things like how punctate the signal is in an object."
   ]
  },
  {
   "cell_type": "markdown",
   "metadata": {},
   "source": [
    "# Watershed segmentation"
   ]
  },
  {
   "cell_type": "markdown",
   "metadata": {},
   "source": [
    "## Masking cells vs background"
   ]
  },
  {
   "cell_type": "markdown",
   "metadata": {},
   "source": [
    "This is fine for finding the nucleii, but what if we wanted to find the whole cell, and keep them separate?  First we need to find a binary image of the cells.  The raw, unbackground subtracted lyso channel seems like a reasonable place to start.  First we'll blur it a little bit."
   ]
  },
  {
   "cell_type": "code",
   "execution_count": 17,
   "metadata": {},
   "outputs": [
    {
     "data": {
      "text/plain": [
       "<Image layer 'smoothed_lyso' at 0x2372e571e70>"
      ]
     },
     "execution_count": 17,
     "metadata": {},
     "output_type": "execute_result"
    }
   ],
   "source": [
    "smoothed_lyso = ndi.gaussian_filter(lyso, 10)\n",
    "viewer.add_image(smoothed_lyso, name='smoothed_lyso', colormap='gray', blending='additive')"
   ]
  },
  {
   "cell_type": "markdown",
   "metadata": {},
   "source": [
    "If we adjust the contrast lower limit to around ~350 we can see the cells, so we'll use that as our threshold."
   ]
  },
  {
   "cell_type": "code",
   "execution_count": 18,
   "metadata": {},
   "outputs": [
    {
     "data": {
      "text/plain": [
       "<Image layer 'masked_lyso' at 0x2372df7de40>"
      ]
     },
     "execution_count": 18,
     "metadata": {},
     "output_type": "execute_result"
    }
   ],
   "source": [
    "masked_lyso = smoothed_lyso>350\n",
    "viewer.add_image(masked_lyso, name='masked_lyso', colormap='gray', blending='additive')"
   ]
  },
  {
   "cell_type": "markdown",
   "metadata": {},
   "source": [
    "## Separating the cells"
   ]
  },
  {
   "cell_type": "markdown",
   "metadata": {},
   "source": [
    "Now we have a binary image of where there is cell vs no cell, but we have not separated them into individual cells.  To do so we are going to combine our nuclear mask with a little trick:  we are going to use the distance transform of the cell mask.  The distance transform is a measure of how far each pixel is from the nearest \"edge\" of the cell mask.  We can use this to \"push\" the cells apart from each other.\n",
    "\n",
    "The distance transform is actually a pretty simple concept:  for each pixel measure how many pixels away a background (False) pixel is and that is your new intensity."
   ]
  },
  {
   "cell_type": "code",
   "execution_count": 19,
   "metadata": {},
   "outputs": [
    {
     "data": {
      "text/plain": [
       "<Image layer 'edt' at 0x2372eba4460>"
      ]
     },
     "execution_count": 19,
     "metadata": {},
     "output_type": "execute_result"
    }
   ],
   "source": [
    "edt = ndi.distance_transform_edt(masked_lyso)\n",
    "viewer.add_image(edt, name='edt', colormap='gray', blending='additive')"
   ]
  },
  {
   "cell_type": "markdown",
   "metadata": {},
   "source": [
    "ski.segmenation.watershed takes an image that can be used to decide when to break two objects apart (the edt), our seed image with the nucleii labeled (label_img), and a final mask that limits how far we can grow our cells (masked_lyso)."
   ]
  },
  {
   "cell_type": "code",
   "execution_count": 20,
   "metadata": {},
   "outputs": [
    {
     "data": {
      "text/plain": [
       "<Labels layer 'watershedded' at 0x2372f228370>"
      ]
     },
     "execution_count": 20,
     "metadata": {},
     "output_type": "execute_result"
    }
   ],
   "source": [
    "watershedded = ski.segmentation.watershed(-edt, label_img, mask=masked_lyso)\n",
    "viewer.add_labels(watershedded, name='watershedded', blending='additive')"
   ]
  },
  {
   "cell_type": "markdown",
   "metadata": {},
   "source": [
    "If we turn the watershedded onto contour=1, and then adjust the contrast on the EDT, we can see kind of what it is doing.  It breaks the boundary between two cells where the distance transform is the smallest."
   ]
  },
  {
   "cell_type": "markdown",
   "metadata": {},
   "source": [
    "## Quantifying the cells"
   ]
  },
  {
   "cell_type": "markdown",
   "metadata": {},
   "source": [
    "Watershedded is a label image, but that contains the whole cells now.  We can use the same regionprops_table function to quantify the cells."
   ]
  },
  {
   "cell_type": "code",
   "execution_count": 21,
   "metadata": {},
   "outputs": [
    {
     "data": {
      "text/html": [
       "<div>\n",
       "<style scoped>\n",
       "    .dataframe tbody tr th:only-of-type {\n",
       "        vertical-align: middle;\n",
       "    }\n",
       "\n",
       "    .dataframe tbody tr th {\n",
       "        vertical-align: top;\n",
       "    }\n",
       "\n",
       "    .dataframe thead th {\n",
       "        text-align: right;\n",
       "    }\n",
       "</style>\n",
       "<table border=\"1\" class=\"dataframe\">\n",
       "  <thead>\n",
       "    <tr style=\"text-align: right;\">\n",
       "      <th></th>\n",
       "      <th>label</th>\n",
       "      <th>area</th>\n",
       "      <th>centroid-0</th>\n",
       "      <th>centroid-1</th>\n",
       "      <th>mean_intensity</th>\n",
       "    </tr>\n",
       "  </thead>\n",
       "  <tbody>\n",
       "    <tr>\n",
       "      <th>0</th>\n",
       "      <td>1</td>\n",
       "      <td>44235.0</td>\n",
       "      <td>188.152933</td>\n",
       "      <td>499.062462</td>\n",
       "      <td>71.550331</td>\n",
       "    </tr>\n",
       "    <tr>\n",
       "      <th>1</th>\n",
       "      <td>2</td>\n",
       "      <td>50295.0</td>\n",
       "      <td>131.969520</td>\n",
       "      <td>319.039407</td>\n",
       "      <td>54.592186</td>\n",
       "    </tr>\n",
       "    <tr>\n",
       "      <th>2</th>\n",
       "      <td>3</td>\n",
       "      <td>42868.0</td>\n",
       "      <td>243.536437</td>\n",
       "      <td>136.338947</td>\n",
       "      <td>73.122444</td>\n",
       "    </tr>\n",
       "    <tr>\n",
       "      <th>3</th>\n",
       "      <td>4</td>\n",
       "      <td>38548.0</td>\n",
       "      <td>397.226497</td>\n",
       "      <td>366.374883</td>\n",
       "      <td>94.249893</td>\n",
       "    </tr>\n",
       "  </tbody>\n",
       "</table>\n",
       "</div>"
      ],
      "text/plain": [
       "   label     area  centroid-0  centroid-1  mean_intensity\n",
       "0      1  44235.0  188.152933  499.062462       71.550331\n",
       "1      2  50295.0  131.969520  319.039407       54.592186\n",
       "2      3  42868.0  243.536437  136.338947       73.122444\n",
       "3      4  38548.0  397.226497  366.374883       94.249893"
      ]
     },
     "execution_count": 21,
     "metadata": {},
     "output_type": "execute_result"
    }
   ],
   "source": [
    "results = pd.DataFrame(ski.measure.regionprops_table(watershedded, lyso_backsub, properties=('label', 'area', 'centroid', 'mean_intensity')))\n",
    "results"
   ]
  },
  {
   "cell_type": "markdown",
   "metadata": {},
   "source": [
    "Let's say we want to also quantify the mitos, we will create a new table, but take the mito_intensity and just add it to the results table we already have by defining a new column 'mito_mean_intensity'"
   ]
  },
  {
   "cell_type": "code",
   "execution_count": 22,
   "metadata": {},
   "outputs": [
    {
     "data": {
      "text/html": [
       "<div>\n",
       "<style scoped>\n",
       "    .dataframe tbody tr th:only-of-type {\n",
       "        vertical-align: middle;\n",
       "    }\n",
       "\n",
       "    .dataframe tbody tr th {\n",
       "        vertical-align: top;\n",
       "    }\n",
       "\n",
       "    .dataframe thead th {\n",
       "        text-align: right;\n",
       "    }\n",
       "</style>\n",
       "<table border=\"1\" class=\"dataframe\">\n",
       "  <thead>\n",
       "    <tr style=\"text-align: right;\">\n",
       "      <th></th>\n",
       "      <th>label</th>\n",
       "      <th>area</th>\n",
       "      <th>centroid-0</th>\n",
       "      <th>centroid-1</th>\n",
       "      <th>mean_intensity</th>\n",
       "      <th>mito_mean_intensity</th>\n",
       "    </tr>\n",
       "  </thead>\n",
       "  <tbody>\n",
       "    <tr>\n",
       "      <th>0</th>\n",
       "      <td>1</td>\n",
       "      <td>44235.0</td>\n",
       "      <td>188.152933</td>\n",
       "      <td>499.062462</td>\n",
       "      <td>71.550331</td>\n",
       "      <td>101.695312</td>\n",
       "    </tr>\n",
       "    <tr>\n",
       "      <th>1</th>\n",
       "      <td>2</td>\n",
       "      <td>50295.0</td>\n",
       "      <td>131.969520</td>\n",
       "      <td>319.039407</td>\n",
       "      <td>54.592186</td>\n",
       "      <td>108.867981</td>\n",
       "    </tr>\n",
       "    <tr>\n",
       "      <th>2</th>\n",
       "      <td>3</td>\n",
       "      <td>42868.0</td>\n",
       "      <td>243.536437</td>\n",
       "      <td>136.338947</td>\n",
       "      <td>73.122444</td>\n",
       "      <td>99.088104</td>\n",
       "    </tr>\n",
       "    <tr>\n",
       "      <th>3</th>\n",
       "      <td>4</td>\n",
       "      <td>38548.0</td>\n",
       "      <td>397.226497</td>\n",
       "      <td>366.374883</td>\n",
       "      <td>94.249893</td>\n",
       "      <td>106.858253</td>\n",
       "    </tr>\n",
       "  </tbody>\n",
       "</table>\n",
       "</div>"
      ],
      "text/plain": [
       "   label     area  centroid-0  centroid-1  mean_intensity  mito_mean_intensity\n",
       "0      1  44235.0  188.152933  499.062462       71.550331           101.695312\n",
       "1      2  50295.0  131.969520  319.039407       54.592186           108.867981\n",
       "2      3  42868.0  243.536437  136.338947       73.122444            99.088104\n",
       "3      4  38548.0  397.226497  366.374883       94.249893           106.858253"
      ]
     },
     "execution_count": 22,
     "metadata": {},
     "output_type": "execute_result"
    }
   ],
   "source": [
    "lyso_results = pd.DataFrame(ski.measure.regionprops_table(watershedded, mito_backsub, properties=('label', 'area', 'centroid', 'mean_intensity')))\n",
    "results['mito_mean_intensity'] = lyso_results['mean_intensity']\n",
    "results"
   ]
  },
  {
   "cell_type": "markdown",
   "metadata": {},
   "source": [
    "# Visualizing results"
   ]
  },
  {
   "cell_type": "markdown",
   "metadata": {},
   "source": [
    "### Plotting"
   ]
  },
  {
   "cell_type": "markdown",
   "metadata": {},
   "source": [
    "Obviously we can plot results using plotly.  For those that don't know:  plotly functions take a datatable, and then you specify which columns you want to plot on which axis.  You can also specify which column you want to use to color the points, and which column you want to use to size the points."
   ]
  },
  {
   "cell_type": "code",
   "execution_count": 23,
   "metadata": {},
   "outputs": [
    {
     "data": {
      "application/vnd.plotly.v1+json": {
       "config": {
        "plotlyServerURL": "https://plot.ly"
       },
       "data": [
        {
         "alignmentgroup": "True",
         "hovertemplate": "label=%{x}<br>area=%{y}<extra></extra>",
         "legendgroup": "",
         "marker": {
          "color": "#636efa",
          "pattern": {
           "shape": ""
          }
         },
         "name": "",
         "offsetgroup": "",
         "orientation": "v",
         "showlegend": false,
         "textposition": "auto",
         "type": "bar",
         "x": [
          1,
          2,
          3,
          4
         ],
         "xaxis": "x",
         "y": [
          44235,
          50295,
          42868,
          38548
         ],
         "yaxis": "y"
        }
       ],
       "layout": {
        "barmode": "relative",
        "legend": {
         "tracegroupgap": 0
        },
        "margin": {
         "t": 60
        },
        "template": {
         "data": {
          "bar": [
           {
            "error_x": {
             "color": "#2a3f5f"
            },
            "error_y": {
             "color": "#2a3f5f"
            },
            "marker": {
             "line": {
              "color": "#E5ECF6",
              "width": 0.5
             },
             "pattern": {
              "fillmode": "overlay",
              "size": 10,
              "solidity": 0.2
             }
            },
            "type": "bar"
           }
          ],
          "barpolar": [
           {
            "marker": {
             "line": {
              "color": "#E5ECF6",
              "width": 0.5
             },
             "pattern": {
              "fillmode": "overlay",
              "size": 10,
              "solidity": 0.2
             }
            },
            "type": "barpolar"
           }
          ],
          "carpet": [
           {
            "aaxis": {
             "endlinecolor": "#2a3f5f",
             "gridcolor": "white",
             "linecolor": "white",
             "minorgridcolor": "white",
             "startlinecolor": "#2a3f5f"
            },
            "baxis": {
             "endlinecolor": "#2a3f5f",
             "gridcolor": "white",
             "linecolor": "white",
             "minorgridcolor": "white",
             "startlinecolor": "#2a3f5f"
            },
            "type": "carpet"
           }
          ],
          "choropleth": [
           {
            "colorbar": {
             "outlinewidth": 0,
             "ticks": ""
            },
            "type": "choropleth"
           }
          ],
          "contour": [
           {
            "colorbar": {
             "outlinewidth": 0,
             "ticks": ""
            },
            "colorscale": [
             [
              0,
              "#0d0887"
             ],
             [
              0.1111111111111111,
              "#46039f"
             ],
             [
              0.2222222222222222,
              "#7201a8"
             ],
             [
              0.3333333333333333,
              "#9c179e"
             ],
             [
              0.4444444444444444,
              "#bd3786"
             ],
             [
              0.5555555555555556,
              "#d8576b"
             ],
             [
              0.6666666666666666,
              "#ed7953"
             ],
             [
              0.7777777777777778,
              "#fb9f3a"
             ],
             [
              0.8888888888888888,
              "#fdca26"
             ],
             [
              1,
              "#f0f921"
             ]
            ],
            "type": "contour"
           }
          ],
          "contourcarpet": [
           {
            "colorbar": {
             "outlinewidth": 0,
             "ticks": ""
            },
            "type": "contourcarpet"
           }
          ],
          "heatmap": [
           {
            "colorbar": {
             "outlinewidth": 0,
             "ticks": ""
            },
            "colorscale": [
             [
              0,
              "#0d0887"
             ],
             [
              0.1111111111111111,
              "#46039f"
             ],
             [
              0.2222222222222222,
              "#7201a8"
             ],
             [
              0.3333333333333333,
              "#9c179e"
             ],
             [
              0.4444444444444444,
              "#bd3786"
             ],
             [
              0.5555555555555556,
              "#d8576b"
             ],
             [
              0.6666666666666666,
              "#ed7953"
             ],
             [
              0.7777777777777778,
              "#fb9f3a"
             ],
             [
              0.8888888888888888,
              "#fdca26"
             ],
             [
              1,
              "#f0f921"
             ]
            ],
            "type": "heatmap"
           }
          ],
          "heatmapgl": [
           {
            "colorbar": {
             "outlinewidth": 0,
             "ticks": ""
            },
            "colorscale": [
             [
              0,
              "#0d0887"
             ],
             [
              0.1111111111111111,
              "#46039f"
             ],
             [
              0.2222222222222222,
              "#7201a8"
             ],
             [
              0.3333333333333333,
              "#9c179e"
             ],
             [
              0.4444444444444444,
              "#bd3786"
             ],
             [
              0.5555555555555556,
              "#d8576b"
             ],
             [
              0.6666666666666666,
              "#ed7953"
             ],
             [
              0.7777777777777778,
              "#fb9f3a"
             ],
             [
              0.8888888888888888,
              "#fdca26"
             ],
             [
              1,
              "#f0f921"
             ]
            ],
            "type": "heatmapgl"
           }
          ],
          "histogram": [
           {
            "marker": {
             "pattern": {
              "fillmode": "overlay",
              "size": 10,
              "solidity": 0.2
             }
            },
            "type": "histogram"
           }
          ],
          "histogram2d": [
           {
            "colorbar": {
             "outlinewidth": 0,
             "ticks": ""
            },
            "colorscale": [
             [
              0,
              "#0d0887"
             ],
             [
              0.1111111111111111,
              "#46039f"
             ],
             [
              0.2222222222222222,
              "#7201a8"
             ],
             [
              0.3333333333333333,
              "#9c179e"
             ],
             [
              0.4444444444444444,
              "#bd3786"
             ],
             [
              0.5555555555555556,
              "#d8576b"
             ],
             [
              0.6666666666666666,
              "#ed7953"
             ],
             [
              0.7777777777777778,
              "#fb9f3a"
             ],
             [
              0.8888888888888888,
              "#fdca26"
             ],
             [
              1,
              "#f0f921"
             ]
            ],
            "type": "histogram2d"
           }
          ],
          "histogram2dcontour": [
           {
            "colorbar": {
             "outlinewidth": 0,
             "ticks": ""
            },
            "colorscale": [
             [
              0,
              "#0d0887"
             ],
             [
              0.1111111111111111,
              "#46039f"
             ],
             [
              0.2222222222222222,
              "#7201a8"
             ],
             [
              0.3333333333333333,
              "#9c179e"
             ],
             [
              0.4444444444444444,
              "#bd3786"
             ],
             [
              0.5555555555555556,
              "#d8576b"
             ],
             [
              0.6666666666666666,
              "#ed7953"
             ],
             [
              0.7777777777777778,
              "#fb9f3a"
             ],
             [
              0.8888888888888888,
              "#fdca26"
             ],
             [
              1,
              "#f0f921"
             ]
            ],
            "type": "histogram2dcontour"
           }
          ],
          "mesh3d": [
           {
            "colorbar": {
             "outlinewidth": 0,
             "ticks": ""
            },
            "type": "mesh3d"
           }
          ],
          "parcoords": [
           {
            "line": {
             "colorbar": {
              "outlinewidth": 0,
              "ticks": ""
             }
            },
            "type": "parcoords"
           }
          ],
          "pie": [
           {
            "automargin": true,
            "type": "pie"
           }
          ],
          "scatter": [
           {
            "fillpattern": {
             "fillmode": "overlay",
             "size": 10,
             "solidity": 0.2
            },
            "type": "scatter"
           }
          ],
          "scatter3d": [
           {
            "line": {
             "colorbar": {
              "outlinewidth": 0,
              "ticks": ""
             }
            },
            "marker": {
             "colorbar": {
              "outlinewidth": 0,
              "ticks": ""
             }
            },
            "type": "scatter3d"
           }
          ],
          "scattercarpet": [
           {
            "marker": {
             "colorbar": {
              "outlinewidth": 0,
              "ticks": ""
             }
            },
            "type": "scattercarpet"
           }
          ],
          "scattergeo": [
           {
            "marker": {
             "colorbar": {
              "outlinewidth": 0,
              "ticks": ""
             }
            },
            "type": "scattergeo"
           }
          ],
          "scattergl": [
           {
            "marker": {
             "colorbar": {
              "outlinewidth": 0,
              "ticks": ""
             }
            },
            "type": "scattergl"
           }
          ],
          "scattermapbox": [
           {
            "marker": {
             "colorbar": {
              "outlinewidth": 0,
              "ticks": ""
             }
            },
            "type": "scattermapbox"
           }
          ],
          "scatterpolar": [
           {
            "marker": {
             "colorbar": {
              "outlinewidth": 0,
              "ticks": ""
             }
            },
            "type": "scatterpolar"
           }
          ],
          "scatterpolargl": [
           {
            "marker": {
             "colorbar": {
              "outlinewidth": 0,
              "ticks": ""
             }
            },
            "type": "scatterpolargl"
           }
          ],
          "scatterternary": [
           {
            "marker": {
             "colorbar": {
              "outlinewidth": 0,
              "ticks": ""
             }
            },
            "type": "scatterternary"
           }
          ],
          "surface": [
           {
            "colorbar": {
             "outlinewidth": 0,
             "ticks": ""
            },
            "colorscale": [
             [
              0,
              "#0d0887"
             ],
             [
              0.1111111111111111,
              "#46039f"
             ],
             [
              0.2222222222222222,
              "#7201a8"
             ],
             [
              0.3333333333333333,
              "#9c179e"
             ],
             [
              0.4444444444444444,
              "#bd3786"
             ],
             [
              0.5555555555555556,
              "#d8576b"
             ],
             [
              0.6666666666666666,
              "#ed7953"
             ],
             [
              0.7777777777777778,
              "#fb9f3a"
             ],
             [
              0.8888888888888888,
              "#fdca26"
             ],
             [
              1,
              "#f0f921"
             ]
            ],
            "type": "surface"
           }
          ],
          "table": [
           {
            "cells": {
             "fill": {
              "color": "#EBF0F8"
             },
             "line": {
              "color": "white"
             }
            },
            "header": {
             "fill": {
              "color": "#C8D4E3"
             },
             "line": {
              "color": "white"
             }
            },
            "type": "table"
           }
          ]
         },
         "layout": {
          "annotationdefaults": {
           "arrowcolor": "#2a3f5f",
           "arrowhead": 0,
           "arrowwidth": 1
          },
          "autotypenumbers": "strict",
          "coloraxis": {
           "colorbar": {
            "outlinewidth": 0,
            "ticks": ""
           }
          },
          "colorscale": {
           "diverging": [
            [
             0,
             "#8e0152"
            ],
            [
             0.1,
             "#c51b7d"
            ],
            [
             0.2,
             "#de77ae"
            ],
            [
             0.3,
             "#f1b6da"
            ],
            [
             0.4,
             "#fde0ef"
            ],
            [
             0.5,
             "#f7f7f7"
            ],
            [
             0.6,
             "#e6f5d0"
            ],
            [
             0.7,
             "#b8e186"
            ],
            [
             0.8,
             "#7fbc41"
            ],
            [
             0.9,
             "#4d9221"
            ],
            [
             1,
             "#276419"
            ]
           ],
           "sequential": [
            [
             0,
             "#0d0887"
            ],
            [
             0.1111111111111111,
             "#46039f"
            ],
            [
             0.2222222222222222,
             "#7201a8"
            ],
            [
             0.3333333333333333,
             "#9c179e"
            ],
            [
             0.4444444444444444,
             "#bd3786"
            ],
            [
             0.5555555555555556,
             "#d8576b"
            ],
            [
             0.6666666666666666,
             "#ed7953"
            ],
            [
             0.7777777777777778,
             "#fb9f3a"
            ],
            [
             0.8888888888888888,
             "#fdca26"
            ],
            [
             1,
             "#f0f921"
            ]
           ],
           "sequentialminus": [
            [
             0,
             "#0d0887"
            ],
            [
             0.1111111111111111,
             "#46039f"
            ],
            [
             0.2222222222222222,
             "#7201a8"
            ],
            [
             0.3333333333333333,
             "#9c179e"
            ],
            [
             0.4444444444444444,
             "#bd3786"
            ],
            [
             0.5555555555555556,
             "#d8576b"
            ],
            [
             0.6666666666666666,
             "#ed7953"
            ],
            [
             0.7777777777777778,
             "#fb9f3a"
            ],
            [
             0.8888888888888888,
             "#fdca26"
            ],
            [
             1,
             "#f0f921"
            ]
           ]
          },
          "colorway": [
           "#636efa",
           "#EF553B",
           "#00cc96",
           "#ab63fa",
           "#FFA15A",
           "#19d3f3",
           "#FF6692",
           "#B6E880",
           "#FF97FF",
           "#FECB52"
          ],
          "font": {
           "color": "#2a3f5f"
          },
          "geo": {
           "bgcolor": "white",
           "lakecolor": "white",
           "landcolor": "#E5ECF6",
           "showlakes": true,
           "showland": true,
           "subunitcolor": "white"
          },
          "hoverlabel": {
           "align": "left"
          },
          "hovermode": "closest",
          "mapbox": {
           "style": "light"
          },
          "paper_bgcolor": "white",
          "plot_bgcolor": "#E5ECF6",
          "polar": {
           "angularaxis": {
            "gridcolor": "white",
            "linecolor": "white",
            "ticks": ""
           },
           "bgcolor": "#E5ECF6",
           "radialaxis": {
            "gridcolor": "white",
            "linecolor": "white",
            "ticks": ""
           }
          },
          "scene": {
           "xaxis": {
            "backgroundcolor": "#E5ECF6",
            "gridcolor": "white",
            "gridwidth": 2,
            "linecolor": "white",
            "showbackground": true,
            "ticks": "",
            "zerolinecolor": "white"
           },
           "yaxis": {
            "backgroundcolor": "#E5ECF6",
            "gridcolor": "white",
            "gridwidth": 2,
            "linecolor": "white",
            "showbackground": true,
            "ticks": "",
            "zerolinecolor": "white"
           },
           "zaxis": {
            "backgroundcolor": "#E5ECF6",
            "gridcolor": "white",
            "gridwidth": 2,
            "linecolor": "white",
            "showbackground": true,
            "ticks": "",
            "zerolinecolor": "white"
           }
          },
          "shapedefaults": {
           "line": {
            "color": "#2a3f5f"
           }
          },
          "ternary": {
           "aaxis": {
            "gridcolor": "white",
            "linecolor": "white",
            "ticks": ""
           },
           "baxis": {
            "gridcolor": "white",
            "linecolor": "white",
            "ticks": ""
           },
           "bgcolor": "#E5ECF6",
           "caxis": {
            "gridcolor": "white",
            "linecolor": "white",
            "ticks": ""
           }
          },
          "title": {
           "x": 0.05
          },
          "xaxis": {
           "automargin": true,
           "gridcolor": "white",
           "linecolor": "white",
           "ticks": "",
           "title": {
            "standoff": 15
           },
           "zerolinecolor": "white",
           "zerolinewidth": 2
          },
          "yaxis": {
           "automargin": true,
           "gridcolor": "white",
           "linecolor": "white",
           "ticks": "",
           "title": {
            "standoff": 15
           },
           "zerolinecolor": "white",
           "zerolinewidth": 2
          }
         }
        },
        "width": 400,
        "xaxis": {
         "anchor": "y",
         "domain": [
          0,
          1
         ],
         "title": {
          "text": "label"
         }
        },
        "yaxis": {
         "anchor": "x",
         "domain": [
          0,
          1
         ],
         "title": {
          "text": "area"
         }
        }
       }
      }
     },
     "metadata": {},
     "output_type": "display_data"
    }
   ],
   "source": [
    "px.bar(results, x='label', y='area', width=400)"
   ]
  },
  {
   "cell_type": "code",
   "execution_count": 24,
   "metadata": {},
   "outputs": [
    {
     "data": {
      "application/vnd.plotly.v1+json": {
       "config": {
        "plotlyServerURL": "https://plot.ly"
       },
       "data": [
        {
         "alignmentgroup": "True",
         "hovertemplate": "label=%{x}<br>mean_intensity=%{y}<extra></extra>",
         "legendgroup": "",
         "marker": {
          "color": "#636efa",
          "pattern": {
           "shape": ""
          }
         },
         "name": "",
         "offsetgroup": "",
         "orientation": "v",
         "showlegend": false,
         "textposition": "auto",
         "type": "bar",
         "x": [
          1,
          2,
          3,
          4
         ],
         "xaxis": "x",
         "y": [
          71.55033111572266,
          54.592185974121094,
          73.12244415283203,
          94.24989318847656
         ],
         "yaxis": "y"
        }
       ],
       "layout": {
        "barmode": "relative",
        "legend": {
         "tracegroupgap": 0
        },
        "template": {
         "data": {
          "bar": [
           {
            "error_x": {
             "color": "#2a3f5f"
            },
            "error_y": {
             "color": "#2a3f5f"
            },
            "marker": {
             "line": {
              "color": "#E5ECF6",
              "width": 0.5
             },
             "pattern": {
              "fillmode": "overlay",
              "size": 10,
              "solidity": 0.2
             }
            },
            "type": "bar"
           }
          ],
          "barpolar": [
           {
            "marker": {
             "line": {
              "color": "#E5ECF6",
              "width": 0.5
             },
             "pattern": {
              "fillmode": "overlay",
              "size": 10,
              "solidity": 0.2
             }
            },
            "type": "barpolar"
           }
          ],
          "carpet": [
           {
            "aaxis": {
             "endlinecolor": "#2a3f5f",
             "gridcolor": "white",
             "linecolor": "white",
             "minorgridcolor": "white",
             "startlinecolor": "#2a3f5f"
            },
            "baxis": {
             "endlinecolor": "#2a3f5f",
             "gridcolor": "white",
             "linecolor": "white",
             "minorgridcolor": "white",
             "startlinecolor": "#2a3f5f"
            },
            "type": "carpet"
           }
          ],
          "choropleth": [
           {
            "colorbar": {
             "outlinewidth": 0,
             "ticks": ""
            },
            "type": "choropleth"
           }
          ],
          "contour": [
           {
            "colorbar": {
             "outlinewidth": 0,
             "ticks": ""
            },
            "colorscale": [
             [
              0,
              "#0d0887"
             ],
             [
              0.1111111111111111,
              "#46039f"
             ],
             [
              0.2222222222222222,
              "#7201a8"
             ],
             [
              0.3333333333333333,
              "#9c179e"
             ],
             [
              0.4444444444444444,
              "#bd3786"
             ],
             [
              0.5555555555555556,
              "#d8576b"
             ],
             [
              0.6666666666666666,
              "#ed7953"
             ],
             [
              0.7777777777777778,
              "#fb9f3a"
             ],
             [
              0.8888888888888888,
              "#fdca26"
             ],
             [
              1,
              "#f0f921"
             ]
            ],
            "type": "contour"
           }
          ],
          "contourcarpet": [
           {
            "colorbar": {
             "outlinewidth": 0,
             "ticks": ""
            },
            "type": "contourcarpet"
           }
          ],
          "heatmap": [
           {
            "colorbar": {
             "outlinewidth": 0,
             "ticks": ""
            },
            "colorscale": [
             [
              0,
              "#0d0887"
             ],
             [
              0.1111111111111111,
              "#46039f"
             ],
             [
              0.2222222222222222,
              "#7201a8"
             ],
             [
              0.3333333333333333,
              "#9c179e"
             ],
             [
              0.4444444444444444,
              "#bd3786"
             ],
             [
              0.5555555555555556,
              "#d8576b"
             ],
             [
              0.6666666666666666,
              "#ed7953"
             ],
             [
              0.7777777777777778,
              "#fb9f3a"
             ],
             [
              0.8888888888888888,
              "#fdca26"
             ],
             [
              1,
              "#f0f921"
             ]
            ],
            "type": "heatmap"
           }
          ],
          "heatmapgl": [
           {
            "colorbar": {
             "outlinewidth": 0,
             "ticks": ""
            },
            "colorscale": [
             [
              0,
              "#0d0887"
             ],
             [
              0.1111111111111111,
              "#46039f"
             ],
             [
              0.2222222222222222,
              "#7201a8"
             ],
             [
              0.3333333333333333,
              "#9c179e"
             ],
             [
              0.4444444444444444,
              "#bd3786"
             ],
             [
              0.5555555555555556,
              "#d8576b"
             ],
             [
              0.6666666666666666,
              "#ed7953"
             ],
             [
              0.7777777777777778,
              "#fb9f3a"
             ],
             [
              0.8888888888888888,
              "#fdca26"
             ],
             [
              1,
              "#f0f921"
             ]
            ],
            "type": "heatmapgl"
           }
          ],
          "histogram": [
           {
            "marker": {
             "pattern": {
              "fillmode": "overlay",
              "size": 10,
              "solidity": 0.2
             }
            },
            "type": "histogram"
           }
          ],
          "histogram2d": [
           {
            "colorbar": {
             "outlinewidth": 0,
             "ticks": ""
            },
            "colorscale": [
             [
              0,
              "#0d0887"
             ],
             [
              0.1111111111111111,
              "#46039f"
             ],
             [
              0.2222222222222222,
              "#7201a8"
             ],
             [
              0.3333333333333333,
              "#9c179e"
             ],
             [
              0.4444444444444444,
              "#bd3786"
             ],
             [
              0.5555555555555556,
              "#d8576b"
             ],
             [
              0.6666666666666666,
              "#ed7953"
             ],
             [
              0.7777777777777778,
              "#fb9f3a"
             ],
             [
              0.8888888888888888,
              "#fdca26"
             ],
             [
              1,
              "#f0f921"
             ]
            ],
            "type": "histogram2d"
           }
          ],
          "histogram2dcontour": [
           {
            "colorbar": {
             "outlinewidth": 0,
             "ticks": ""
            },
            "colorscale": [
             [
              0,
              "#0d0887"
             ],
             [
              0.1111111111111111,
              "#46039f"
             ],
             [
              0.2222222222222222,
              "#7201a8"
             ],
             [
              0.3333333333333333,
              "#9c179e"
             ],
             [
              0.4444444444444444,
              "#bd3786"
             ],
             [
              0.5555555555555556,
              "#d8576b"
             ],
             [
              0.6666666666666666,
              "#ed7953"
             ],
             [
              0.7777777777777778,
              "#fb9f3a"
             ],
             [
              0.8888888888888888,
              "#fdca26"
             ],
             [
              1,
              "#f0f921"
             ]
            ],
            "type": "histogram2dcontour"
           }
          ],
          "mesh3d": [
           {
            "colorbar": {
             "outlinewidth": 0,
             "ticks": ""
            },
            "type": "mesh3d"
           }
          ],
          "parcoords": [
           {
            "line": {
             "colorbar": {
              "outlinewidth": 0,
              "ticks": ""
             }
            },
            "type": "parcoords"
           }
          ],
          "pie": [
           {
            "automargin": true,
            "type": "pie"
           }
          ],
          "scatter": [
           {
            "fillpattern": {
             "fillmode": "overlay",
             "size": 10,
             "solidity": 0.2
            },
            "type": "scatter"
           }
          ],
          "scatter3d": [
           {
            "line": {
             "colorbar": {
              "outlinewidth": 0,
              "ticks": ""
             }
            },
            "marker": {
             "colorbar": {
              "outlinewidth": 0,
              "ticks": ""
             }
            },
            "type": "scatter3d"
           }
          ],
          "scattercarpet": [
           {
            "marker": {
             "colorbar": {
              "outlinewidth": 0,
              "ticks": ""
             }
            },
            "type": "scattercarpet"
           }
          ],
          "scattergeo": [
           {
            "marker": {
             "colorbar": {
              "outlinewidth": 0,
              "ticks": ""
             }
            },
            "type": "scattergeo"
           }
          ],
          "scattergl": [
           {
            "marker": {
             "colorbar": {
              "outlinewidth": 0,
              "ticks": ""
             }
            },
            "type": "scattergl"
           }
          ],
          "scattermapbox": [
           {
            "marker": {
             "colorbar": {
              "outlinewidth": 0,
              "ticks": ""
             }
            },
            "type": "scattermapbox"
           }
          ],
          "scatterpolar": [
           {
            "marker": {
             "colorbar": {
              "outlinewidth": 0,
              "ticks": ""
             }
            },
            "type": "scatterpolar"
           }
          ],
          "scatterpolargl": [
           {
            "marker": {
             "colorbar": {
              "outlinewidth": 0,
              "ticks": ""
             }
            },
            "type": "scatterpolargl"
           }
          ],
          "scatterternary": [
           {
            "marker": {
             "colorbar": {
              "outlinewidth": 0,
              "ticks": ""
             }
            },
            "type": "scatterternary"
           }
          ],
          "surface": [
           {
            "colorbar": {
             "outlinewidth": 0,
             "ticks": ""
            },
            "colorscale": [
             [
              0,
              "#0d0887"
             ],
             [
              0.1111111111111111,
              "#46039f"
             ],
             [
              0.2222222222222222,
              "#7201a8"
             ],
             [
              0.3333333333333333,
              "#9c179e"
             ],
             [
              0.4444444444444444,
              "#bd3786"
             ],
             [
              0.5555555555555556,
              "#d8576b"
             ],
             [
              0.6666666666666666,
              "#ed7953"
             ],
             [
              0.7777777777777778,
              "#fb9f3a"
             ],
             [
              0.8888888888888888,
              "#fdca26"
             ],
             [
              1,
              "#f0f921"
             ]
            ],
            "type": "surface"
           }
          ],
          "table": [
           {
            "cells": {
             "fill": {
              "color": "#EBF0F8"
             },
             "line": {
              "color": "white"
             }
            },
            "header": {
             "fill": {
              "color": "#C8D4E3"
             },
             "line": {
              "color": "white"
             }
            },
            "type": "table"
           }
          ]
         },
         "layout": {
          "annotationdefaults": {
           "arrowcolor": "#2a3f5f",
           "arrowhead": 0,
           "arrowwidth": 1
          },
          "autotypenumbers": "strict",
          "coloraxis": {
           "colorbar": {
            "outlinewidth": 0,
            "ticks": ""
           }
          },
          "colorscale": {
           "diverging": [
            [
             0,
             "#8e0152"
            ],
            [
             0.1,
             "#c51b7d"
            ],
            [
             0.2,
             "#de77ae"
            ],
            [
             0.3,
             "#f1b6da"
            ],
            [
             0.4,
             "#fde0ef"
            ],
            [
             0.5,
             "#f7f7f7"
            ],
            [
             0.6,
             "#e6f5d0"
            ],
            [
             0.7,
             "#b8e186"
            ],
            [
             0.8,
             "#7fbc41"
            ],
            [
             0.9,
             "#4d9221"
            ],
            [
             1,
             "#276419"
            ]
           ],
           "sequential": [
            [
             0,
             "#0d0887"
            ],
            [
             0.1111111111111111,
             "#46039f"
            ],
            [
             0.2222222222222222,
             "#7201a8"
            ],
            [
             0.3333333333333333,
             "#9c179e"
            ],
            [
             0.4444444444444444,
             "#bd3786"
            ],
            [
             0.5555555555555556,
             "#d8576b"
            ],
            [
             0.6666666666666666,
             "#ed7953"
            ],
            [
             0.7777777777777778,
             "#fb9f3a"
            ],
            [
             0.8888888888888888,
             "#fdca26"
            ],
            [
             1,
             "#f0f921"
            ]
           ],
           "sequentialminus": [
            [
             0,
             "#0d0887"
            ],
            [
             0.1111111111111111,
             "#46039f"
            ],
            [
             0.2222222222222222,
             "#7201a8"
            ],
            [
             0.3333333333333333,
             "#9c179e"
            ],
            [
             0.4444444444444444,
             "#bd3786"
            ],
            [
             0.5555555555555556,
             "#d8576b"
            ],
            [
             0.6666666666666666,
             "#ed7953"
            ],
            [
             0.7777777777777778,
             "#fb9f3a"
            ],
            [
             0.8888888888888888,
             "#fdca26"
            ],
            [
             1,
             "#f0f921"
            ]
           ]
          },
          "colorway": [
           "#636efa",
           "#EF553B",
           "#00cc96",
           "#ab63fa",
           "#FFA15A",
           "#19d3f3",
           "#FF6692",
           "#B6E880",
           "#FF97FF",
           "#FECB52"
          ],
          "font": {
           "color": "#2a3f5f"
          },
          "geo": {
           "bgcolor": "white",
           "lakecolor": "white",
           "landcolor": "#E5ECF6",
           "showlakes": true,
           "showland": true,
           "subunitcolor": "white"
          },
          "hoverlabel": {
           "align": "left"
          },
          "hovermode": "closest",
          "mapbox": {
           "style": "light"
          },
          "paper_bgcolor": "white",
          "plot_bgcolor": "#E5ECF6",
          "polar": {
           "angularaxis": {
            "gridcolor": "white",
            "linecolor": "white",
            "ticks": ""
           },
           "bgcolor": "#E5ECF6",
           "radialaxis": {
            "gridcolor": "white",
            "linecolor": "white",
            "ticks": ""
           }
          },
          "scene": {
           "xaxis": {
            "backgroundcolor": "#E5ECF6",
            "gridcolor": "white",
            "gridwidth": 2,
            "linecolor": "white",
            "showbackground": true,
            "ticks": "",
            "zerolinecolor": "white"
           },
           "yaxis": {
            "backgroundcolor": "#E5ECF6",
            "gridcolor": "white",
            "gridwidth": 2,
            "linecolor": "white",
            "showbackground": true,
            "ticks": "",
            "zerolinecolor": "white"
           },
           "zaxis": {
            "backgroundcolor": "#E5ECF6",
            "gridcolor": "white",
            "gridwidth": 2,
            "linecolor": "white",
            "showbackground": true,
            "ticks": "",
            "zerolinecolor": "white"
           }
          },
          "shapedefaults": {
           "line": {
            "color": "#2a3f5f"
           }
          },
          "ternary": {
           "aaxis": {
            "gridcolor": "white",
            "linecolor": "white",
            "ticks": ""
           },
           "baxis": {
            "gridcolor": "white",
            "linecolor": "white",
            "ticks": ""
           },
           "bgcolor": "#E5ECF6",
           "caxis": {
            "gridcolor": "white",
            "linecolor": "white",
            "ticks": ""
           }
          },
          "title": {
           "x": 0.05
          },
          "xaxis": {
           "automargin": true,
           "gridcolor": "white",
           "linecolor": "white",
           "ticks": "",
           "title": {
            "standoff": 15
           },
           "zerolinecolor": "white",
           "zerolinewidth": 2
          },
          "yaxis": {
           "automargin": true,
           "gridcolor": "white",
           "linecolor": "white",
           "ticks": "",
           "title": {
            "standoff": 15
           },
           "zerolinecolor": "white",
           "zerolinewidth": 2
          }
         }
        },
        "title": {
         "text": "Lyosome background intensity"
        },
        "width": 400,
        "xaxis": {
         "anchor": "y",
         "domain": [
          0,
          1
         ],
         "title": {
          "text": "label"
         }
        },
        "yaxis": {
         "anchor": "x",
         "domain": [
          0,
          1
         ],
         "title": {
          "text": "mean_intensity"
         }
        }
       }
      }
     },
     "metadata": {},
     "output_type": "display_data"
    }
   ],
   "source": [
    "px.bar(results, x='label', y='mean_intensity', title='Lyosome background intensity', width=400)"
   ]
  },
  {
   "cell_type": "markdown",
   "metadata": {},
   "source": [
    "### With images"
   ]
  },
  {
   "cell_type": "markdown",
   "metadata": {},
   "source": [
    "But this is boring!  We can visualize this in a much more exciting way using napari.\n",
    "\n",
    "The ski.util.map_array() function lets us take a label image (in this case watershedded), and map intensities onto each object.  We can use this to visualize the lysosome intensity of each cell."
   ]
  },
  {
   "cell_type": "code",
   "execution_count": 25,
   "metadata": {},
   "outputs": [
    {
     "data": {
      "text/plain": [
       "<Image layer 'intensity_img' at 0x23781b7f1f0>"
      ]
     },
     "execution_count": 25,
     "metadata": {},
     "output_type": "execute_result"
    }
   ],
   "source": [
    "intensity_img = ski.util.map_array(watershedded, results['label'].values, results['mean_intensity'].values)\n",
    "viewer.add_image(intensity_img, name='intensity_img', colormap='blue', blending='additive')"
   ]
  },
  {
   "cell_type": "markdown",
   "metadata": {},
   "source": [
    "We can do this for any quantity."
   ]
  },
  {
   "cell_type": "code",
   "execution_count": 26,
   "metadata": {},
   "outputs": [
    {
     "data": {
      "text/plain": [
       "<Image layer 'area_img' at 0x23781c0f670>"
      ]
     },
     "execution_count": 26,
     "metadata": {},
     "output_type": "execute_result"
    }
   ],
   "source": [
    "intensity_img = ski.util.map_array(watershedded, results['label'].values, results['area'].values)\n",
    "viewer.add_image(intensity_img, name='area_img', colormap='blue', blending='additive')"
   ]
  },
  {
   "cell_type": "markdown",
   "metadata": {},
   "source": [
    "# HOMEWORK 2"
   ]
  },
  {
   "cell_type": "markdown",
   "metadata": {},
   "source": [
    "## Part 1:  Quantify nucleii in \"Easy.tif\""
   ]
  },
  {
   "cell_type": "markdown",
   "metadata": {},
   "source": [
    "Use similar analysis (rolling ball background subtraction, gaussian blur, threshold, label, regionprops_table) to make a label image of the nucleii in \"Easy.tif\".  "
   ]
  },
  {
   "cell_type": "code",
   "execution_count": 60,
   "metadata": {},
   "outputs": [
    {
     "data": {
      "text/plain": [
       "<Labels layer 'label_img' at 0x2379b35a6e0>"
      ]
     },
     "execution_count": 60,
     "metadata": {},
     "output_type": "execute_result"
    }
   ],
   "source": [
    "easy_img = ski.io.imread('files/Easy.tif')\n",
    "backsub_img = backsub_2D(easy_img, radius=10)\n",
    "blurred_img = ndi.gaussian_filter(backsub_img, 2)\n",
    "thresholded_img = blurred_img>10\n",
    "label_img, number_objects = ndi.label(thresholded_img)\n",
    "\n",
    "viewer.layers.clear()\n",
    "viewer.add_image(easy_img, name='easy_img', colormap='gray', blending='additive')\n",
    "viewer.add_image(backsub_img, name='backsub_img', colormap='gray', blending='additive')\n",
    "viewer.add_image(blurred_img, name='blurred_img', colormap='gray', blending='additive')\n",
    "viewer.add_image(thresholded_img, name='thresholded_img', colormap='gray', blending='additive')\n",
    "viewer.add_labels(label_img, name='label_img')"
   ]
  },
  {
   "cell_type": "markdown",
   "metadata": {},
   "source": [
    "Note that a lot of objects are merged that are single objects, we will find ways using watershed to clean this up later, but for now let's filter objects on size. \n",
    "\n",
    "Use the ski.measure.regionprops_table() to generate a results table and the ski.util.map_array() function to make \"area_img\" and then visualize this in napari."
   ]
  },
  {
   "cell_type": "code",
   "execution_count": 66,
   "metadata": {},
   "outputs": [],
   "source": [
    "results = pd.DataFrame(ski.measure.regionprops_table(label_img, easy_img, properties=('label', 'area', 'centroid', 'mean_intensity')))\n",
    "area_img = ski.util.map_array(label_img, results['label'].values, results['area'].values)\n"
   ]
  },
  {
   "cell_type": "markdown",
   "metadata": {},
   "source": [
    "## Part 2:  Filter the nucleii by size"
   ]
  },
  {
   "cell_type": "markdown",
   "metadata": {},
   "source": [
    "### Finding a minimum size"
   ]
  },
  {
   "cell_type": "markdown",
   "metadata": {},
   "source": [
    "We want to find area limits that let through objects that are single nucleii, but filter out objects that are multiple nucleii and garbage.  \n",
    "\n",
    "To find the low end (ie the MINIMUM size threshold) we can use our area_img.  Let's just adjust the contrast until the objects that are too small disappear and we are left only with the good ones.\n",
    "\n",
    "To see the actual VALUE of \"contrast\" being used (which is actually the object area in our case), we can right click on the \"contrast limits\" slider.\n",
    "\n",
    "Set a variable called \"min_area\" to the value you found."
   ]
  },
  {
   "cell_type": "code",
   "execution_count": 105,
   "metadata": {},
   "outputs": [],
   "source": [
    "min_area = 35"
   ]
  },
  {
   "cell_type": "markdown",
   "metadata": {},
   "source": [
    "### Finding a maximum size"
   ]
  },
  {
   "cell_type": "markdown",
   "metadata": {},
   "source": [
    "Now we want to find a \"max_area\" that filters out the double nucleii.\n",
    "\n",
    "To do this we can play a trick, we can use napari's \"gray_r\" colormap to visualize the inverse of the area_img.  First we have to play another trick, where we set the area_img's intensity values to be high wherever there is no object (otherwise the background will show as bright).  We will do this using area_img[area_img==0] = np.max(area_img)\n",
    "\n",
    "area_img==0 returns a binary image, where only the pixels that had value equal to 0 are True and all others are false.  When we ask area_img[..] on a binary image, numpy is smart and returns only the pixels that are True.  We then set all of these pixels to the maximum value in the image."
   ]
  },
  {
   "cell_type": "code",
   "execution_count": 104,
   "metadata": {},
   "outputs": [
    {
     "data": {
      "text/plain": [
       "<Image layer 'area_img [4]' at 0x237893e73a0>"
      ]
     },
     "execution_count": 104,
     "metadata": {},
     "output_type": "execute_result"
    }
   ],
   "source": [
    "### THIS CODE STAYS IN THE STUDENT VERSION\n",
    "area_img[area_img==0] = np.max(area_img)\n",
    "viewer.add_image(area_img, name='area_img', colormap='gray_r', blending='additive')"
   ]
  },
  {
   "cell_type": "markdown",
   "metadata": {},
   "source": [
    "We want to find a contrast that lets through all the single nucleii, but filters out the double nucleii.  By right clicking on \"contrast limits\" we can see the actual values of the contrast limits.  Adjusting the upper level is effectively adjusting the area of objects that we are allowing to be display.\n",
    "\n",
    "\n",
    "Once you find this contrast, use it to filter the results table to only include objects that are smaller than the best max area."
   ]
  },
  {
   "cell_type": "code",
   "execution_count": 70,
   "metadata": {},
   "outputs": [],
   "source": [
    "max_area = 175"
   ]
  },
  {
   "cell_type": "markdown",
   "metadata": {},
   "source": [
    "Alternatively, you can just guess a max_area, and see what results you get below."
   ]
  },
  {
   "cell_type": "markdown",
   "metadata": {},
   "source": [
    "### Filtering the objects"
   ]
  },
  {
   "cell_type": "markdown",
   "metadata": {},
   "source": [
    "Finally, use the \"remove_objects\" function written above to keep only the objects that are small enough to be single nucleii, then show this new labeled image in napari."
   ]
  },
  {
   "cell_type": "code",
   "execution_count": 72,
   "metadata": {},
   "outputs": [
    {
     "data": {
      "text/plain": [
       "<Labels layer 'filtered_labels [1]' at 0x2379aedc670>"
      ]
     },
     "execution_count": 72,
     "metadata": {},
     "output_type": "execute_result"
    }
   ],
   "source": [
    "filtered_labels = remove_objects(label_img, min_area, max_area)\n",
    "viewer.add_labels(filtered_labels, name='filtered_labels')"
   ]
  },
  {
   "cell_type": "markdown",
   "metadata": {},
   "source": [
    "## Extra credit: Looking at object standard deviations"
   ]
  },
  {
   "cell_type": "markdown",
   "metadata": {},
   "source": [
    "### Standard deviation of original labels"
   ]
  },
  {
   "cell_type": "markdown",
   "metadata": {},
   "source": [
    "Recall we can create our own functions for quantifying objects with regionprops, this function finds the standard deviation of the intensity of each object."
   ]
  },
  {
   "cell_type": "code",
   "execution_count": 108,
   "metadata": {},
   "outputs": [],
   "source": [
    "### DO NOT REMOVE FROM STUDENT VERSION\n",
    "\n",
    "def object_stdeviation(mask_img, intensity_img):\n",
    "    return np.std(intensity_img[mask_img])\n"
   ]
  },
  {
   "cell_type": "markdown",
   "metadata": {},
   "source": [
    "Use this function and the \"extra_properties\" argument of ski.measure.regionprops_table to find the standard deviation of the intensities of each nucleii (in addition to the usual 'label', 'area', 'centroid', 'mean_intensity').  Recall that if you want to quantify intensities, regionprops_table needs both the label image and the intensity image."
   ]
  },
  {
   "cell_type": "code",
   "execution_count": 107,
   "metadata": {},
   "outputs": [],
   "source": [
    "results = pd.DataFrame(ski.measure.regionprops_table(filtered_labels, easy_img, properties=('label', 'area', 'centroid', 'mean_intensity'), extra_properties=[object_stdeviation]))"
   ]
  },
  {
   "cell_type": "code",
   "execution_count": 109,
   "metadata": {},
   "outputs": [],
   "source": [
    "### DO NOT REMOVE FROM STUDENT VERSION\n",
    "results['SNR'] = results['mean_intensity']/results['object_stdeviation']\n",
    "results['Type'] = 'Regular'"
   ]
  },
  {
   "cell_type": "markdown",
   "metadata": {},
   "source": [
    "SNR is a quick way of evaluating how strong our signal to noise is.  Looking at our labels we can see that a lot of pixels that are associated with a nucleus are on the edge where there really is not nucleus.  Including these pixels is going to make our standard deviation much higher that it probably actually is."
   ]
  },
  {
   "cell_type": "markdown",
   "metadata": {},
   "source": [
    "### Shrinking the labels"
   ]
  },
  {
   "cell_type": "markdown",
   "metadata": {},
   "source": [
    "Create a new variable:  shrunk_labels, takes the filtered_labels and shrinks them by 1 pixel.  Add it to napari to make sure it worked."
   ]
  },
  {
   "cell_type": "code",
   "execution_count": 87,
   "metadata": {},
   "outputs": [],
   "source": [
    "shrunk_labels = shrink_labels(filtered_labels)"
   ]
  },
  {
   "cell_type": "code",
   "execution_count": 88,
   "metadata": {},
   "outputs": [
    {
     "data": {
      "text/plain": [
       "<Labels layer 'shrunk_labels [1]' at 0x2373d64c370>"
      ]
     },
     "execution_count": 88,
     "metadata": {},
     "output_type": "execute_result"
    }
   ],
   "source": [
    "viewer.add_labels(shrunk_labels, name='shrunk_labels')"
   ]
  },
  {
   "cell_type": "markdown",
   "metadata": {},
   "source": [
    "Create a new shrunk_results table that is the regionprops_table of the shrunk_labels, including the object_stdeviation as well."
   ]
  },
  {
   "cell_type": "code",
   "execution_count": 89,
   "metadata": {},
   "outputs": [],
   "source": [
    "shrunk_results = pd.DataFrame(ski.measure.regionprops_table(shrunk_labels, easy_img, properties=('label', 'area', 'centroid', 'mean_intensity'), extra_properties=[object_stdeviation]))"
   ]
  },
  {
   "cell_type": "code",
   "execution_count": 110,
   "metadata": {},
   "outputs": [],
   "source": [
    "### DO NOT REMOVE FROM STUDENT VERSION\n",
    "shrunk_results['SNR'] = shrunk_results['mean_intensity']/shrunk_results['object_stdeviation']\n",
    "shrunk_results['Type'] = 'Shrunk'"
   ]
  },
  {
   "cell_type": "markdown",
   "metadata": {},
   "source": [
    "### Plotting results of SNR"
   ]
  },
  {
   "cell_type": "markdown",
   "metadata": {},
   "source": [
    "If all went well we should get a nice plot of the SNR in shrunk vs unshrunk labels."
   ]
  },
  {
   "cell_type": "code",
   "execution_count": 113,
   "metadata": {},
   "outputs": [
    {
     "data": {
      "application/vnd.plotly.v1+json": {
       "config": {
        "plotlyServerURL": "https://plot.ly"
       },
       "data": [
        {
         "alignmentgroup": "True",
         "boxpoints": "all",
         "hovertemplate": "Type=%{x}<br>SNR=%{y}<extra></extra>",
         "legendgroup": "",
         "marker": {
          "color": "#636efa"
         },
         "name": "",
         "notched": false,
         "offsetgroup": "",
         "orientation": "v",
         "showlegend": false,
         "type": "box",
         "x": [
          "Regular",
          "Regular",
          "Regular",
          "Regular",
          "Regular",
          "Regular",
          "Regular",
          "Regular",
          "Regular",
          "Regular",
          "Regular",
          "Regular",
          "Regular",
          "Regular",
          "Regular",
          "Regular",
          "Regular",
          "Regular",
          "Regular",
          "Regular",
          "Regular",
          "Regular",
          "Regular",
          "Regular",
          "Regular",
          "Regular",
          "Regular",
          "Regular",
          "Regular",
          "Regular",
          "Regular",
          "Regular",
          "Regular",
          "Regular",
          "Regular",
          "Regular",
          "Regular",
          "Regular",
          "Regular",
          "Regular",
          "Regular",
          "Regular",
          "Regular",
          "Regular",
          "Regular",
          "Regular",
          "Regular",
          "Regular",
          "Regular",
          "Regular",
          "Regular",
          "Regular",
          "Regular",
          "Regular",
          "Regular",
          "Regular",
          "Regular",
          "Regular",
          "Regular",
          "Regular",
          "Regular",
          "Regular",
          "Regular",
          "Regular",
          "Regular",
          "Regular",
          "Regular",
          "Regular",
          "Regular",
          "Regular",
          "Regular",
          "Regular",
          "Regular",
          "Regular",
          "Regular",
          "Regular",
          "Regular",
          "Regular",
          "Regular",
          "Regular",
          "Regular",
          "Regular",
          "Regular",
          "Regular",
          "Regular",
          "Regular",
          "Regular",
          "Regular",
          "Regular",
          "Regular",
          "Regular",
          "Regular",
          "Regular",
          "Regular",
          "Regular",
          "Regular",
          "Regular",
          "Regular",
          "Regular",
          "Regular",
          "Regular",
          "Regular",
          "Regular",
          "Regular",
          "Regular",
          "Regular",
          "Regular",
          "Regular",
          "Regular",
          "Regular",
          "Regular",
          "Regular",
          "Regular",
          "Regular",
          "Regular",
          "Regular",
          "Regular",
          "Regular",
          "Regular",
          "Regular",
          "Regular",
          "Regular",
          "Regular",
          "Regular",
          "Regular",
          "Regular",
          "Regular",
          "Regular",
          "Regular",
          "Regular",
          "Regular",
          "Regular",
          "Regular",
          "Regular",
          "Regular",
          "Regular",
          "Regular",
          "Regular",
          "Regular",
          "Regular",
          "Regular",
          "Regular",
          "Regular",
          "Regular",
          "Regular",
          "Regular",
          "Regular",
          "Regular",
          "Regular",
          "Regular",
          "Regular",
          "Regular",
          "Regular",
          "Regular",
          "Regular",
          "Regular",
          "Regular",
          "Regular",
          "Regular",
          "Regular",
          "Regular",
          "Regular",
          "Regular",
          "Regular",
          "Regular",
          "Regular",
          "Regular",
          "Regular",
          "Regular",
          "Regular",
          "Regular",
          "Regular",
          "Regular",
          "Regular",
          "Regular",
          "Regular",
          "Regular",
          "Regular",
          "Regular",
          "Regular",
          "Regular",
          "Regular",
          "Regular",
          "Regular",
          "Regular",
          "Regular",
          "Regular",
          "Regular",
          "Regular",
          "Regular",
          "Regular",
          "Regular",
          "Regular",
          "Regular",
          "Regular",
          "Regular",
          "Regular",
          "Regular",
          "Regular",
          "Regular",
          "Regular",
          "Shrunk",
          "Shrunk",
          "Shrunk",
          "Shrunk",
          "Shrunk",
          "Shrunk",
          "Shrunk",
          "Shrunk",
          "Shrunk",
          "Shrunk",
          "Shrunk",
          "Shrunk",
          "Shrunk",
          "Shrunk",
          "Shrunk",
          "Shrunk",
          "Shrunk",
          "Shrunk",
          "Shrunk",
          "Shrunk",
          "Shrunk",
          "Shrunk",
          "Shrunk",
          "Shrunk",
          "Shrunk",
          "Shrunk",
          "Shrunk",
          "Shrunk",
          "Shrunk",
          "Shrunk",
          "Shrunk",
          "Shrunk",
          "Shrunk",
          "Shrunk",
          "Shrunk",
          "Shrunk",
          "Shrunk",
          "Shrunk",
          "Shrunk",
          "Shrunk",
          "Shrunk",
          "Shrunk",
          "Shrunk",
          "Shrunk",
          "Shrunk",
          "Shrunk",
          "Shrunk",
          "Shrunk",
          "Shrunk",
          "Shrunk",
          "Shrunk",
          "Shrunk",
          "Shrunk",
          "Shrunk",
          "Shrunk",
          "Shrunk",
          "Shrunk",
          "Shrunk",
          "Shrunk",
          "Shrunk",
          "Shrunk",
          "Shrunk",
          "Shrunk",
          "Shrunk",
          "Shrunk",
          "Shrunk",
          "Shrunk",
          "Shrunk",
          "Shrunk",
          "Shrunk",
          "Shrunk",
          "Shrunk",
          "Shrunk",
          "Shrunk",
          "Shrunk",
          "Shrunk",
          "Shrunk",
          "Shrunk",
          "Shrunk",
          "Shrunk",
          "Shrunk",
          "Shrunk",
          "Shrunk",
          "Shrunk",
          "Shrunk",
          "Shrunk",
          "Shrunk",
          "Shrunk",
          "Shrunk",
          "Shrunk",
          "Shrunk",
          "Shrunk",
          "Shrunk",
          "Shrunk",
          "Shrunk",
          "Shrunk",
          "Shrunk",
          "Shrunk",
          "Shrunk",
          "Shrunk",
          "Shrunk",
          "Shrunk",
          "Shrunk",
          "Shrunk",
          "Shrunk",
          "Shrunk",
          "Shrunk",
          "Shrunk",
          "Shrunk",
          "Shrunk",
          "Shrunk",
          "Shrunk",
          "Shrunk",
          "Shrunk",
          "Shrunk",
          "Shrunk",
          "Shrunk",
          "Shrunk",
          "Shrunk",
          "Shrunk",
          "Shrunk",
          "Shrunk",
          "Shrunk",
          "Shrunk",
          "Shrunk",
          "Shrunk",
          "Shrunk",
          "Shrunk",
          "Shrunk",
          "Shrunk",
          "Shrunk",
          "Shrunk",
          "Shrunk",
          "Shrunk",
          "Shrunk",
          "Shrunk",
          "Shrunk",
          "Shrunk",
          "Shrunk",
          "Shrunk",
          "Shrunk",
          "Shrunk",
          "Shrunk",
          "Shrunk",
          "Shrunk",
          "Shrunk",
          "Shrunk",
          "Shrunk",
          "Shrunk",
          "Shrunk",
          "Shrunk",
          "Shrunk",
          "Shrunk",
          "Shrunk",
          "Shrunk",
          "Shrunk",
          "Shrunk",
          "Shrunk",
          "Shrunk",
          "Shrunk",
          "Shrunk",
          "Shrunk",
          "Shrunk",
          "Shrunk",
          "Shrunk",
          "Shrunk",
          "Shrunk",
          "Shrunk",
          "Shrunk",
          "Shrunk",
          "Shrunk",
          "Shrunk",
          "Shrunk",
          "Shrunk",
          "Shrunk",
          "Shrunk",
          "Shrunk",
          "Shrunk",
          "Shrunk",
          "Shrunk",
          "Shrunk",
          "Shrunk",
          "Shrunk",
          "Shrunk",
          "Shrunk",
          "Shrunk",
          "Shrunk",
          "Shrunk",
          "Shrunk",
          "Shrunk",
          "Shrunk",
          "Shrunk",
          "Shrunk",
          "Shrunk",
          "Shrunk",
          "Shrunk",
          "Shrunk",
          "Shrunk",
          "Shrunk",
          "Shrunk",
          "Shrunk"
         ],
         "x0": " ",
         "xaxis": "x",
         "y": [
          9.728624535315985,
          1.915546943709241,
          6.6163882706242,
          3.5802583109249473,
          9.78411367843103,
          11.364392969377045,
          6.750859634700084,
          3.3773976370302274,
          7.4981746499858035,
          2.9224482359020705,
          9.657675646620659,
          5.13044040381122,
          7.252154852180144,
          2.2084453159624626,
          11.689164717909517,
          2.792875628495383,
          9.744466740171568,
          7.919102559930075,
          10.433005514229764,
          9.502647645305174,
          7.170441182742889,
          5.332254552556533,
          2.243686089064996,
          2.892990369873432,
          9.130820296615045,
          4.045318056654393,
          10.024841136949838,
          10.960537825208522,
          5.958510145135674,
          1.2711798304031363,
          10.77290890668409,
          2.1889227763334453,
          11.182034644768235,
          4.7243184427811,
          3.2947860452674864,
          2.5919517986482306,
          12.843291292873324,
          3.9738887795094033,
          2.990737930321478,
          1.7566090365202254,
          2.290763159654021,
          10.928254736798403,
          2.0783138115457094,
          11.297073010769559,
          1.733066165637806,
          6.341845170493428,
          3.7698892198349325,
          2.4675987863816924,
          3.644840480720828,
          1.8075162712196315,
          3.4182386607178143,
          2.059231712234971,
          9.438995300139437,
          2.898189626944379,
          12.663541728892424,
          4.394094677299309,
          9.864001259259421,
          11.41621961992854,
          3.845128048465256,
          11.704367712590443,
          2.5888567605205703,
          6.053612478513733,
          10.147207510471489,
          2.872946938682018,
          1.319521714370572,
          4.411623485116915,
          13.13960778061673,
          8.914098041487154,
          10.384664329297504,
          1.8269036962611551,
          9.131736410670728,
          9.504007479250674,
          2.2631116336244865,
          1.7126278559103023,
          1.8065563134542804,
          1.597116352447138,
          3.5653721980123017,
          5.582384756228448,
          5.193964233978278,
          2.6376387097303624,
          7.899405811038833,
          2.835653362824212,
          2.397742880216685,
          2.9400960268782104,
          5.7037916428447275,
          12.043731750199962,
          2.487523445491091,
          2.306045606361826,
          1.8752413403061683,
          2.047356154646385,
          3.62062245597285,
          1.8873157962336193,
          2.342046955096343,
          2.541890325800614,
          1.8893831402074952,
          2.4429957530129807,
          5.176893796609125,
          4.2287729472116045,
          9.564029442534624,
          2.2939589586478775,
          6.855866943498714,
          1.7017662364055806,
          16.628364865686105,
          1.721136404256174,
          5.657124692421122,
          7.970597817255282,
          7.554980124714507,
          6.898172115205525,
          2.770862264616264,
          1.3827797933346029,
          4.923086884505278,
          5.393977020901342,
          5.611668523898613,
          4.732256968739592,
          1.9041309908550836,
          8.93498212037099,
          3.0356768239539234,
          6.608132473971592,
          1.995036108040264,
          3.5869816691418692,
          4.516557752904043,
          2.5931091595904183,
          3.4719323750926265,
          3.021047908166297,
          6.277845133970222,
          7.489481109464335,
          3.1799114418791143,
          2.6153656428497536,
          2.2648946827174967,
          8.460682766599772,
          7.021236725787037,
          1.5577089679097151,
          7.090802837333717,
          2.426080536848767,
          1.8883788749864145,
          2.1677376994619793,
          4.146730406628127,
          5.062678168001515,
          12.57167504302046,
          7.262210795919614,
          11.288078265486545,
          2.645889474618456,
          8.541390147389144,
          8.051577685072802,
          6.8625665996108545,
          2.9605126823507066,
          9.454399357293822,
          2.8277444672309575,
          3.6670594263816048,
          5.540259195454519,
          2.2570418521657323,
          3.628445429743318,
          4.959176751041243,
          3.97951985682265,
          1.2057731884528073,
          4.215423255046829,
          8.12787370823423,
          9.522647269478517,
          9.959367555925274,
          4.177686600374755,
          10.52906481873569,
          2.302741842424048,
          4.7116862940918365,
          9.58734590230152,
          2.8522042530677734,
          10.877731942597958,
          5.366305794336379,
          2.5266674478364637,
          10.501570817438408,
          1.2171899323442474,
          11.049832817153867,
          2.4801504331057207,
          6.734528640396463,
          4.090293965962254,
          9.263137880177055,
          7.99315670195475,
          3.2673970533594434,
          2.299695884025948,
          3.7617426742690494,
          2.062631123267157,
          2.9350040023515485,
          4.523489904949622,
          3.2435202519247706,
          6.195357919030539,
          1.8137533114828348,
          6.115468395335955,
          4.976659581847661,
          3.979605748292934,
          3.3158077678218225,
          4.914868416168081,
          11.842300421996503,
          2.1051282108067473,
          1.7388761235528543,
          9.283542871720705,
          3.4318887954921724,
          3.38175349057618,
          3.344502837676725,
          1.8373166216135188,
          1.756086576606888,
          2.2918076656206585,
          5.1134116723208685,
          13.701242647439516,
          2.8441741231392115,
          16.62585303209378,
          9.816736500822019,
          13.00036077936787,
          13.292176532796741,
          16.080109143200374,
          7.0860374673714945,
          11.197729124333351,
          6.20253754328237,
          9.221244663022098,
          12.228696744102484,
          11.615391906938653,
          3.98513003781484,
          14.11824931026695,
          5.6171365129256,
          12.127395447717527,
          10.74987566467806,
          11.267087365805152,
          12.404778027449526,
          14.32283666245862,
          11.157420486604133,
          4.181214734580161,
          5.834564673523356,
          10.640704676964496,
          7.387472112099093,
          11.571362778234171,
          12.70394284041436,
          9.553906454826702,
          1.6506274137641839,
          9.387888787938818,
          3.9679273375846944,
          13.76441326952418,
          9.472802055995368,
          7.162990417075739,
          5.219058902305754,
          12.41678537215699,
          8.537163159965006,
          6.7310875214250165,
          2.5900090648504026,
          3.967705479007625,
          13.045217527831111,
          3.0199672375071223,
          12.964285714285715,
          2.511640682145108,
          10.04251427797122,
          7.763840605028816,
          4.9587163790994735,
          8.573919189848143,
          2.760811804113726,
          7.5242610558487435,
          3.4937792374004615,
          14.746255425228194,
          5.426709933586595,
          14.187148404669454,
          9.505678245246594,
          13.876782637592507,
          14.703452045351257,
          5.863100694661685,
          11.769397567243296,
          5.027836241826362,
          12.458708011636862,
          13.582702214461953,
          5.699956033459253,
          1.7279001982833775,
          7.873372677539265,
          15.525045153783838,
          15.604907836432735,
          15.619354097140798,
          2.865340849292136,
          12.597812585365684,
          14.859452338183845,
          4.036796289530224,
          2.6592462340671394,
          2.7780600381596723,
          2.3427403685738364,
          7.1504501295718255,
          11.032842837353638,
          8.880430992651517,
          4.280537928274234,
          11.777382110836845,
          6.708271039257771,
          4.860880427227724,
          6.330539796004496,
          9.838493151031312,
          13.057529849718378,
          5.513010157186769,
          4.529797388449162,
          3.1359522386218432,
          3.700537163267636,
          7.153126884389119,
          3.241820223898185,
          4.739031464492937,
          4.98219542152117,
          3.3546373236091696,
          4.3770445260774675,
          10.374215859781566,
          9.993702162912562,
          13.702359635788419,
          4.816762957678805,
          10.794009370844197,
          2.283593444990593,
          18.784968573583726,
          2.8171932982221644,
          10.381288401287595,
          11.771622714420326,
          12.205484104329217,
          11.422674511503232,
          5.87183056902076,
          1.9011994567943673,
          8.705646779273321,
          10.305071317141705,
          8.865713026425762,
          9.136656854186162,
          3.1693331927542197,
          9.926225873224583,
          6.512073932386899,
          11.796241013617223,
          3.3424542922938407,
          7.78861187649805,
          9.869075572620993,
          5.319390340401439,
          8.184706373891348,
          5.941885487917744,
          11.144718351684551,
          9.495268370817836,
          5.827850928133939,
          5.499538227998379,
          3.827930739671918,
          15.188883496449543,
          10.312141232673646,
          2.1980750918732523,
          14.056124635526409,
          4.664569613291614,
          3.15118887372503,
          3.9395938893419395,
          8.250551796927049,
          7.852624021821854,
          12.954174207212866,
          13.322904550423765,
          12.437298319445214,
          5.349637994334891,
          12.00170478272066,
          12.631653067507715,
          13.982039252686318,
          6.426121567735779,
          10.21764857369638,
          6.145733650834645,
          5.58049369568752,
          13.259156093038095,
          3.7080124145742035,
          8.268969566241044,
          7.825565029172164,
          8.434281067750431,
          1.5144639902105512,
          8.771718122469396,
          10.858688419854937,
          10.9892317079337,
          10.29279730332733,
          6.646765015810793,
          14.530821792353573,
          4.33047915667261,
          10.79675437328845,
          13.540099685161708,
          5.983308934433508,
          12.135310442702629,
          8.160786013961507,
          4.955141509222454,
          10.891061218052288,
          1.5365212589027564,
          12.010576191646324,
          4.549147093226263,
          17.624075031007358,
          9.643266018590401,
          15.890672889958784,
          11.305786112395236,
          7.078428296943579,
          4.141255260791098,
          5.873567051991374,
          3.420336305717779,
          5.5295972497816335,
          5.846576462839692,
          6.200778566560728,
          11.60305850617682,
          2.8488693907358615,
          8.581172369212652,
          8.738852010317412,
          7.798946729393567,
          7.166397184138658,
          13.642263316826366,
          14.871961944258684,
          3.6426043637390406,
          2.686855155088893,
          12.176035835022727,
          7.732464221263593,
          7.051147041618836,
          3.8000360531544186,
          2.531500997960414,
          2.503928552379081,
          4.441890242815621,
          9.197842217618101
         ],
         "y0": " ",
         "yaxis": "y"
        }
       ],
       "layout": {
        "boxmode": "group",
        "legend": {
         "tracegroupgap": 0
        },
        "margin": {
         "t": 60
        },
        "template": {
         "data": {
          "bar": [
           {
            "error_x": {
             "color": "#2a3f5f"
            },
            "error_y": {
             "color": "#2a3f5f"
            },
            "marker": {
             "line": {
              "color": "#E5ECF6",
              "width": 0.5
             },
             "pattern": {
              "fillmode": "overlay",
              "size": 10,
              "solidity": 0.2
             }
            },
            "type": "bar"
           }
          ],
          "barpolar": [
           {
            "marker": {
             "line": {
              "color": "#E5ECF6",
              "width": 0.5
             },
             "pattern": {
              "fillmode": "overlay",
              "size": 10,
              "solidity": 0.2
             }
            },
            "type": "barpolar"
           }
          ],
          "carpet": [
           {
            "aaxis": {
             "endlinecolor": "#2a3f5f",
             "gridcolor": "white",
             "linecolor": "white",
             "minorgridcolor": "white",
             "startlinecolor": "#2a3f5f"
            },
            "baxis": {
             "endlinecolor": "#2a3f5f",
             "gridcolor": "white",
             "linecolor": "white",
             "minorgridcolor": "white",
             "startlinecolor": "#2a3f5f"
            },
            "type": "carpet"
           }
          ],
          "choropleth": [
           {
            "colorbar": {
             "outlinewidth": 0,
             "ticks": ""
            },
            "type": "choropleth"
           }
          ],
          "contour": [
           {
            "colorbar": {
             "outlinewidth": 0,
             "ticks": ""
            },
            "colorscale": [
             [
              0,
              "#0d0887"
             ],
             [
              0.1111111111111111,
              "#46039f"
             ],
             [
              0.2222222222222222,
              "#7201a8"
             ],
             [
              0.3333333333333333,
              "#9c179e"
             ],
             [
              0.4444444444444444,
              "#bd3786"
             ],
             [
              0.5555555555555556,
              "#d8576b"
             ],
             [
              0.6666666666666666,
              "#ed7953"
             ],
             [
              0.7777777777777778,
              "#fb9f3a"
             ],
             [
              0.8888888888888888,
              "#fdca26"
             ],
             [
              1,
              "#f0f921"
             ]
            ],
            "type": "contour"
           }
          ],
          "contourcarpet": [
           {
            "colorbar": {
             "outlinewidth": 0,
             "ticks": ""
            },
            "type": "contourcarpet"
           }
          ],
          "heatmap": [
           {
            "colorbar": {
             "outlinewidth": 0,
             "ticks": ""
            },
            "colorscale": [
             [
              0,
              "#0d0887"
             ],
             [
              0.1111111111111111,
              "#46039f"
             ],
             [
              0.2222222222222222,
              "#7201a8"
             ],
             [
              0.3333333333333333,
              "#9c179e"
             ],
             [
              0.4444444444444444,
              "#bd3786"
             ],
             [
              0.5555555555555556,
              "#d8576b"
             ],
             [
              0.6666666666666666,
              "#ed7953"
             ],
             [
              0.7777777777777778,
              "#fb9f3a"
             ],
             [
              0.8888888888888888,
              "#fdca26"
             ],
             [
              1,
              "#f0f921"
             ]
            ],
            "type": "heatmap"
           }
          ],
          "heatmapgl": [
           {
            "colorbar": {
             "outlinewidth": 0,
             "ticks": ""
            },
            "colorscale": [
             [
              0,
              "#0d0887"
             ],
             [
              0.1111111111111111,
              "#46039f"
             ],
             [
              0.2222222222222222,
              "#7201a8"
             ],
             [
              0.3333333333333333,
              "#9c179e"
             ],
             [
              0.4444444444444444,
              "#bd3786"
             ],
             [
              0.5555555555555556,
              "#d8576b"
             ],
             [
              0.6666666666666666,
              "#ed7953"
             ],
             [
              0.7777777777777778,
              "#fb9f3a"
             ],
             [
              0.8888888888888888,
              "#fdca26"
             ],
             [
              1,
              "#f0f921"
             ]
            ],
            "type": "heatmapgl"
           }
          ],
          "histogram": [
           {
            "marker": {
             "pattern": {
              "fillmode": "overlay",
              "size": 10,
              "solidity": 0.2
             }
            },
            "type": "histogram"
           }
          ],
          "histogram2d": [
           {
            "colorbar": {
             "outlinewidth": 0,
             "ticks": ""
            },
            "colorscale": [
             [
              0,
              "#0d0887"
             ],
             [
              0.1111111111111111,
              "#46039f"
             ],
             [
              0.2222222222222222,
              "#7201a8"
             ],
             [
              0.3333333333333333,
              "#9c179e"
             ],
             [
              0.4444444444444444,
              "#bd3786"
             ],
             [
              0.5555555555555556,
              "#d8576b"
             ],
             [
              0.6666666666666666,
              "#ed7953"
             ],
             [
              0.7777777777777778,
              "#fb9f3a"
             ],
             [
              0.8888888888888888,
              "#fdca26"
             ],
             [
              1,
              "#f0f921"
             ]
            ],
            "type": "histogram2d"
           }
          ],
          "histogram2dcontour": [
           {
            "colorbar": {
             "outlinewidth": 0,
             "ticks": ""
            },
            "colorscale": [
             [
              0,
              "#0d0887"
             ],
             [
              0.1111111111111111,
              "#46039f"
             ],
             [
              0.2222222222222222,
              "#7201a8"
             ],
             [
              0.3333333333333333,
              "#9c179e"
             ],
             [
              0.4444444444444444,
              "#bd3786"
             ],
             [
              0.5555555555555556,
              "#d8576b"
             ],
             [
              0.6666666666666666,
              "#ed7953"
             ],
             [
              0.7777777777777778,
              "#fb9f3a"
             ],
             [
              0.8888888888888888,
              "#fdca26"
             ],
             [
              1,
              "#f0f921"
             ]
            ],
            "type": "histogram2dcontour"
           }
          ],
          "mesh3d": [
           {
            "colorbar": {
             "outlinewidth": 0,
             "ticks": ""
            },
            "type": "mesh3d"
           }
          ],
          "parcoords": [
           {
            "line": {
             "colorbar": {
              "outlinewidth": 0,
              "ticks": ""
             }
            },
            "type": "parcoords"
           }
          ],
          "pie": [
           {
            "automargin": true,
            "type": "pie"
           }
          ],
          "scatter": [
           {
            "fillpattern": {
             "fillmode": "overlay",
             "size": 10,
             "solidity": 0.2
            },
            "type": "scatter"
           }
          ],
          "scatter3d": [
           {
            "line": {
             "colorbar": {
              "outlinewidth": 0,
              "ticks": ""
             }
            },
            "marker": {
             "colorbar": {
              "outlinewidth": 0,
              "ticks": ""
             }
            },
            "type": "scatter3d"
           }
          ],
          "scattercarpet": [
           {
            "marker": {
             "colorbar": {
              "outlinewidth": 0,
              "ticks": ""
             }
            },
            "type": "scattercarpet"
           }
          ],
          "scattergeo": [
           {
            "marker": {
             "colorbar": {
              "outlinewidth": 0,
              "ticks": ""
             }
            },
            "type": "scattergeo"
           }
          ],
          "scattergl": [
           {
            "marker": {
             "colorbar": {
              "outlinewidth": 0,
              "ticks": ""
             }
            },
            "type": "scattergl"
           }
          ],
          "scattermapbox": [
           {
            "marker": {
             "colorbar": {
              "outlinewidth": 0,
              "ticks": ""
             }
            },
            "type": "scattermapbox"
           }
          ],
          "scatterpolar": [
           {
            "marker": {
             "colorbar": {
              "outlinewidth": 0,
              "ticks": ""
             }
            },
            "type": "scatterpolar"
           }
          ],
          "scatterpolargl": [
           {
            "marker": {
             "colorbar": {
              "outlinewidth": 0,
              "ticks": ""
             }
            },
            "type": "scatterpolargl"
           }
          ],
          "scatterternary": [
           {
            "marker": {
             "colorbar": {
              "outlinewidth": 0,
              "ticks": ""
             }
            },
            "type": "scatterternary"
           }
          ],
          "surface": [
           {
            "colorbar": {
             "outlinewidth": 0,
             "ticks": ""
            },
            "colorscale": [
             [
              0,
              "#0d0887"
             ],
             [
              0.1111111111111111,
              "#46039f"
             ],
             [
              0.2222222222222222,
              "#7201a8"
             ],
             [
              0.3333333333333333,
              "#9c179e"
             ],
             [
              0.4444444444444444,
              "#bd3786"
             ],
             [
              0.5555555555555556,
              "#d8576b"
             ],
             [
              0.6666666666666666,
              "#ed7953"
             ],
             [
              0.7777777777777778,
              "#fb9f3a"
             ],
             [
              0.8888888888888888,
              "#fdca26"
             ],
             [
              1,
              "#f0f921"
             ]
            ],
            "type": "surface"
           }
          ],
          "table": [
           {
            "cells": {
             "fill": {
              "color": "#EBF0F8"
             },
             "line": {
              "color": "white"
             }
            },
            "header": {
             "fill": {
              "color": "#C8D4E3"
             },
             "line": {
              "color": "white"
             }
            },
            "type": "table"
           }
          ]
         },
         "layout": {
          "annotationdefaults": {
           "arrowcolor": "#2a3f5f",
           "arrowhead": 0,
           "arrowwidth": 1
          },
          "autotypenumbers": "strict",
          "coloraxis": {
           "colorbar": {
            "outlinewidth": 0,
            "ticks": ""
           }
          },
          "colorscale": {
           "diverging": [
            [
             0,
             "#8e0152"
            ],
            [
             0.1,
             "#c51b7d"
            ],
            [
             0.2,
             "#de77ae"
            ],
            [
             0.3,
             "#f1b6da"
            ],
            [
             0.4,
             "#fde0ef"
            ],
            [
             0.5,
             "#f7f7f7"
            ],
            [
             0.6,
             "#e6f5d0"
            ],
            [
             0.7,
             "#b8e186"
            ],
            [
             0.8,
             "#7fbc41"
            ],
            [
             0.9,
             "#4d9221"
            ],
            [
             1,
             "#276419"
            ]
           ],
           "sequential": [
            [
             0,
             "#0d0887"
            ],
            [
             0.1111111111111111,
             "#46039f"
            ],
            [
             0.2222222222222222,
             "#7201a8"
            ],
            [
             0.3333333333333333,
             "#9c179e"
            ],
            [
             0.4444444444444444,
             "#bd3786"
            ],
            [
             0.5555555555555556,
             "#d8576b"
            ],
            [
             0.6666666666666666,
             "#ed7953"
            ],
            [
             0.7777777777777778,
             "#fb9f3a"
            ],
            [
             0.8888888888888888,
             "#fdca26"
            ],
            [
             1,
             "#f0f921"
            ]
           ],
           "sequentialminus": [
            [
             0,
             "#0d0887"
            ],
            [
             0.1111111111111111,
             "#46039f"
            ],
            [
             0.2222222222222222,
             "#7201a8"
            ],
            [
             0.3333333333333333,
             "#9c179e"
            ],
            [
             0.4444444444444444,
             "#bd3786"
            ],
            [
             0.5555555555555556,
             "#d8576b"
            ],
            [
             0.6666666666666666,
             "#ed7953"
            ],
            [
             0.7777777777777778,
             "#fb9f3a"
            ],
            [
             0.8888888888888888,
             "#fdca26"
            ],
            [
             1,
             "#f0f921"
            ]
           ]
          },
          "colorway": [
           "#636efa",
           "#EF553B",
           "#00cc96",
           "#ab63fa",
           "#FFA15A",
           "#19d3f3",
           "#FF6692",
           "#B6E880",
           "#FF97FF",
           "#FECB52"
          ],
          "font": {
           "color": "#2a3f5f"
          },
          "geo": {
           "bgcolor": "white",
           "lakecolor": "white",
           "landcolor": "#E5ECF6",
           "showlakes": true,
           "showland": true,
           "subunitcolor": "white"
          },
          "hoverlabel": {
           "align": "left"
          },
          "hovermode": "closest",
          "mapbox": {
           "style": "light"
          },
          "paper_bgcolor": "white",
          "plot_bgcolor": "#E5ECF6",
          "polar": {
           "angularaxis": {
            "gridcolor": "white",
            "linecolor": "white",
            "ticks": ""
           },
           "bgcolor": "#E5ECF6",
           "radialaxis": {
            "gridcolor": "white",
            "linecolor": "white",
            "ticks": ""
           }
          },
          "scene": {
           "xaxis": {
            "backgroundcolor": "#E5ECF6",
            "gridcolor": "white",
            "gridwidth": 2,
            "linecolor": "white",
            "showbackground": true,
            "ticks": "",
            "zerolinecolor": "white"
           },
           "yaxis": {
            "backgroundcolor": "#E5ECF6",
            "gridcolor": "white",
            "gridwidth": 2,
            "linecolor": "white",
            "showbackground": true,
            "ticks": "",
            "zerolinecolor": "white"
           },
           "zaxis": {
            "backgroundcolor": "#E5ECF6",
            "gridcolor": "white",
            "gridwidth": 2,
            "linecolor": "white",
            "showbackground": true,
            "ticks": "",
            "zerolinecolor": "white"
           }
          },
          "shapedefaults": {
           "line": {
            "color": "#2a3f5f"
           }
          },
          "ternary": {
           "aaxis": {
            "gridcolor": "white",
            "linecolor": "white",
            "ticks": ""
           },
           "baxis": {
            "gridcolor": "white",
            "linecolor": "white",
            "ticks": ""
           },
           "bgcolor": "#E5ECF6",
           "caxis": {
            "gridcolor": "white",
            "linecolor": "white",
            "ticks": ""
           }
          },
          "title": {
           "x": 0.05
          },
          "xaxis": {
           "automargin": true,
           "gridcolor": "white",
           "linecolor": "white",
           "ticks": "",
           "title": {
            "standoff": 15
           },
           "zerolinecolor": "white",
           "zerolinewidth": 2
          },
          "yaxis": {
           "automargin": true,
           "gridcolor": "white",
           "linecolor": "white",
           "ticks": "",
           "title": {
            "standoff": 15
           },
           "zerolinecolor": "white",
           "zerolinewidth": 2
          }
         }
        },
        "width": 400,
        "xaxis": {
         "anchor": "y",
         "domain": [
          0,
          1
         ],
         "title": {
          "text": "Type"
         }
        },
        "yaxis": {
         "anchor": "x",
         "domain": [
          0,
          1
         ],
         "title": {
          "text": "SNR"
         }
        }
       }
      }
     },
     "metadata": {},
     "output_type": "display_data"
    }
   ],
   "source": [
    "### DO NOT REMOVE FROM STUDENT VERSION\n",
    "\n",
    "stapled_results = pd.concat([results, shrunk_results])\n",
    "px.box(stapled_results, x='Type', y='SNR', points='all', width=400)\n"
   ]
  },
  {
   "cell_type": "markdown",
   "metadata": {},
   "source": [
    "By shrinking our objects so that they only included pixels from the nucleus and not the borders, we drastically increased the signal to noise ratio."
   ]
  },
  {
   "cell_type": "code",
   "execution_count": null,
   "metadata": {},
   "outputs": [],
   "source": []
  },
  {
   "cell_type": "code",
   "execution_count": null,
   "metadata": {},
   "outputs": [],
   "source": []
  }
 ],
 "metadata": {
  "kernelspec": {
   "display_name": "napari",
   "language": "python",
   "name": "python3"
  },
  "language_info": {
   "codemirror_mode": {
    "name": "ipython",
    "version": 3
   },
   "file_extension": ".py",
   "mimetype": "text/x-python",
   "name": "python",
   "nbconvert_exporter": "python",
   "pygments_lexer": "ipython3",
   "version": "3.10.13"
  }
 },
 "nbformat": 4,
 "nbformat_minor": 2
}
