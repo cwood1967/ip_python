{
 "cells": [
  {
   "cell_type": "code",
   "execution_count": null,
   "metadata": {},
   "outputs": [],
   "source": [
    "import os\n",
    "import requests"
   ]
  },
  {
   "cell_type": "code",
   "execution_count": 1,
   "metadata": {},
   "outputs": [
    {
     "name": "stdout",
     "output_type": "stream",
     "text": [
      "File files/Neuromast.tif already exists.\n"
     ]
    }
   ],
   "source": [
    "\n",
    "\n",
    "url = 'https://www.dropbox.com/scl/fi/jfpl3hu5uqu8w0xwpg7xa/Neuromast.tif?rlkey=n2tf17v9mpq5ur3cec7dzlqea&dl=1'\n",
    "local_filename = 'files/Neuromast.tif'\n",
    "\n",
    "# Check if the files already exists\n",
    "if not os.path.exists(local_filename):\n",
    "    response = requests.get(url)\n",
    "\n",
    "    # Ensure the request was successful\n",
    "    response.raise_for_status()\n",
    "\n",
    "    # Write the content to a file\n",
    "    with open(local_filename, 'wb') as f:\n",
    "        f.write(response.content)\n",
    "else:\n",
    "    print(f\"File {local_filename} already exists.\")"
   ]
  },
  {
   "cell_type": "code",
   "execution_count": 2,
   "metadata": {},
   "outputs": [
    {
     "name": "stdout",
     "output_type": "stream",
     "text": [
      "File files/CTL E2 40x zstack 561 tbxta 647 sox2 dapi.czi already exists.\n"
     ]
    }
   ],
   "source": [
    "url = 'https://www.dropbox.com/scl/fi/jvcqdnsue1w955vxv0svk/CTL-E2-40x-zstack-561-tbxta-647-sox2-dapi.czi?rlkey=p286j43cea96npanu8zigzuhu&dl=1'\n",
    "local_filename = 'files/CTL E2 40x zstack 561 tbxta 647 sox2 dapi.czi'\n",
    "\n",
    "# Check if the files already exists\n",
    "if not os.path.exists(local_filename):\n",
    "    response = requests.get(url)\n",
    "\n",
    "    # Ensure the request was successful\n",
    "    response.raise_for_status()\n",
    "\n",
    "    # Write the content to a file\n",
    "    with open(local_filename, 'wb') as f:\n",
    "        f.write(response.content)\n",
    "else:\n",
    "    print(f\"File {local_filename} already exists.\")"
   ]
  },
  {
   "cell_type": "code",
   "execution_count": 3,
   "metadata": {},
   "outputs": [
    {
     "name": "stdout",
     "output_type": "stream",
     "text": [
      "File files/Slide10_trial_2.nd2 already exists.\n"
     ]
    }
   ],
   "source": [
    "url = 'https://www.dropbox.com/scl/fi/p13qawuq66wacdolna7go/Slide10_trial_2.nd2?rlkey=7l8jxprb9d904ljapm8wkalg6&dl=1'\n",
    "local_filename = 'files/Slide10_trial_2.nd2'\n",
    "\n",
    "# Check if the files already exists\n",
    "if not os.path.exists(local_filename):\n",
    "    response = requests.get(url)\n",
    "\n",
    "    # Ensure the request was successful\n",
    "    response.raise_for_status()\n",
    "\n",
    "    # Write the content to a file\n",
    "    with open(local_filename, 'wb') as f:\n",
    "        f.write(response.content)\n",
    "else:\n",
    "    print(f\"File {local_filename} already exists.\")"
   ]
  },
  {
   "cell_type": "code",
   "execution_count": 4,
   "metadata": {},
   "outputs": [
    {
     "name": "stdout",
     "output_type": "stream",
     "text": [
      "File files/C-hela-cells.tif already exists.\n"
     ]
    }
   ],
   "source": [
    "url = 'https://www.dropbox.com/scl/fi/zrtmz153veegneki079qh/C-hela-cells.tif?rlkey=q4qjcawy97sogixa4px6n57e8&dl=1'\n",
    "local_filename = 'files/C-hela-cells.tif'\n",
    "\n",
    "# Check if the files already exists\n",
    "if not os.path.exists(local_filename):\n",
    "    response = requests.get(url)\n",
    "\n",
    "    # Ensure the request was successful\n",
    "    response.raise_for_status()\n",
    "\n",
    "    # Write the content to a file\n",
    "    with open(local_filename, 'wb') as f:\n",
    "        f.write(response.content)\n",
    "else:\n",
    "    print(f\"File {local_filename} already exists.\")"
   ]
  },
  {
   "cell_type": "code",
   "execution_count": null,
   "metadata": {},
   "outputs": [],
   "source": []
  }
 ],
 "metadata": {
  "kernelspec": {
   "display_name": "napari",
   "language": "python",
   "name": "python3"
  },
  "language_info": {
   "codemirror_mode": {
    "name": "ipython",
    "version": 3
   },
   "file_extension": ".py",
   "mimetype": "text/x-python",
   "name": "python",
   "nbconvert_exporter": "python",
   "pygments_lexer": "ipython3",
   "version": "3.10.13"
  }
 },
 "nbformat": 4,
 "nbformat_minor": 2
}
