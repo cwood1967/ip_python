{
 "cells": [
  {
   "cell_type": "code",
   "execution_count": 1,
   "metadata": {},
   "outputs": [],
   "source": [
    "import numpy as np\n",
    "import pandas as pd\n",
    "import napari\n",
    "import tifffile\n",
    "import skimage as ski\n",
    "import scipy.ndimage as ndi\n",
    "import glob\n",
    "import plotly.express as px\n",
    "import cellpose.models as models\n",
    "import matplotlib.pyplot as plt\n",
    "import cv2\n",
    "import dask\n",
    "import cellpose.models as models"
   ]
  },
  {
   "cell_type": "code",
   "execution_count": 22,
   "metadata": {},
   "outputs": [],
   "source": [
    "def shrink_labels(label_image, shrinkage=3):\n",
    "    \"\"\"\n",
    "    This function shrinks the regions in a labeled image using morphological erosion.\n",
    "\n",
    "    Parameters:\n",
    "    label_image (numpy.ndarray): A 2D array where each unique non-zero value represents a unique object/region.\n",
    "    shrinkage (int, optional): The size of the structuring element used for the erosion operation. Default is 3.  This default shrinks by 1 pixel in each direction.\n",
    "\n",
    "    Returns:\n",
    "    shrunken_label_image (numpy.ndarray): A 2D array similar to label_image but with all regions shrunken.\n",
    "\n",
    "    How it works:\n",
    "    1. It first creates a circular structuring element of the specified size.\n",
    "    2. It then initializes an empty image of the same size as the input image.\n",
    "    3. It calculates the properties of each labeled region in the input image using skimage.measure.regionprops.\n",
    "    4. For each region, it extracts the region from the original label image, erodes it using the structuring element, and then updates the corresponding region in the shrunken_label_image.\n",
    "    5. The erosion operation shrinks the region by removing pixels from its boundary.\n",
    "    \"\"\"\n",
    "    kernel = cv2.getStructuringElement(cv2.MORPH_ELLIPSE, (shrinkage, shrinkage))\n",
    "\n",
    "    shrunken_label_image = np.zeros_like(label_image)\n",
    "    regions = ski.measure.regionprops(label_image)\n",
    "\n",
    "    for region in regions:\n",
    "        lbl = region.label\n",
    "        minr, minc, maxr, maxc = region.bbox\n",
    "\n",
    "        minr = max(minr - 1, 0)\n",
    "        minc = max(minc - 1, 0)\n",
    "        maxr = min(maxr + 1, label_image.shape[0])\n",
    "        maxc = min(maxc + 1, label_image.shape[1])\n",
    "\n",
    "        # Extract the region from the original label image\n",
    "        region_mask = label_image[minr:maxr, minc:maxc] == lbl\n",
    "\n",
    "        # Erode the region\n",
    "        eroded_region_mask = cv2.erode(region_mask.astype(np.uint8), kernel)\n",
    "\n",
    "        # Update the shrunken_label_image\n",
    "        shrunken_label_image[minr:maxr, minc:maxc][eroded_region_mask == 1] = lbl\n",
    "\n",
    "    return shrunken_label_image"
   ]
  },
  {
   "cell_type": "code",
   "execution_count": 60,
   "metadata": {},
   "outputs": [],
   "source": [
    "def remove_objects(label_image, area_min, area_max):\n",
    "    \"\"\"\n",
    "    This function removes objects from a labeled image based on their area.\n",
    "\n",
    "    Parameters:\n",
    "    label_image (numpy.ndarray): A 2D array where each unique non-zero value represents a unique object/region.\n",
    "    area_min (int): The minimum area threshold. Objects with area less than this will be removed.\n",
    "    area_max (int): The maximum area threshold. Objects with area more than this will be removed.\n",
    "\n",
    "    Returns:\n",
    "    cleaned_label_image (numpy.ndarray): A 2D array similar to label_image but with small and large objects removed.\n",
    "\n",
    "    How it works:\n",
    "    1. It first calculates the properties of each labeled region in the input image using skimage.measure.regionprops.\n",
    "    2. It then creates a boolean mask of the same size as the input image. This mask is True for pixels belonging to regions that are too small or too large.\n",
    "    3. Finally, it applies this mask to the input image, setting the labels of the small and large regions to zero, effectively removing them from the image.\n",
    "    \"\"\"\n",
    "    # Get properties of labeled regions\n",
    "    props = ski.measure.regionprops(label_image)\n",
    "\n",
    "    # Create a boolean mask where True indicates a region is too small or too large\n",
    "    object_mask = np.zeros_like(label_image, dtype=bool)\n",
    "    for prop in props:\n",
    "        if prop.area < area_min or prop.area > area_max:\n",
    "            object_mask[label_image == prop.label] = True\n",
    "\n",
    "    # Apply the mask to the label image\n",
    "    cleaned_label_image = np.where(object_mask, 0, label_image)\n",
    "\n",
    "    return cleaned_label_image"
   ]
  },
  {
   "cell_type": "code",
   "execution_count": 4,
   "metadata": {},
   "outputs": [],
   "source": [
    "viewer = napari.Viewer()"
   ]
  },
  {
   "cell_type": "code",
   "execution_count": 2,
   "metadata": {},
   "outputs": [],
   "source": [
    "model = models.Cellpose(gpu=True, model_type='cyto')"
   ]
  },
  {
   "cell_type": "markdown",
   "metadata": {},
   "source": [
    "# HOMEWORK"
   ]
  },
  {
   "cell_type": "markdown",
   "metadata": {},
   "source": [
    "## Part 1:  Finding a good diameter"
   ]
  },
  {
   "cell_type": "markdown",
   "metadata": {},
   "source": [
    "There is a file in our files folder:  chamber1KLF5in488SOX8in647.tif.  Open it up and take a look in napari.  "
   ]
  },
  {
   "cell_type": "code",
   "execution_count": 5,
   "metadata": {},
   "outputs": [
    {
     "data": {
      "text/plain": [
       "(6144, 6144, 3)"
      ]
     },
     "execution_count": 5,
     "metadata": {},
     "output_type": "execute_result"
    }
   ],
   "source": [
    "img = ski.io.imread('files/chamber1KLF5in488SOX8in647.tif')\n",
    "img.shape"
   ]
  },
  {
   "cell_type": "code",
   "execution_count": 6,
   "metadata": {},
   "outputs": [
    {
     "data": {
      "text/plain": [
       "[<Image layer 'Image' at 0x138a3c5de10>,\n",
       " <Image layer 'Image [1]' at 0x138b01a4a90>,\n",
       " <Image layer 'Image [2]' at 0x138b01d6da0>]"
      ]
     },
     "execution_count": 6,
     "metadata": {},
     "output_type": "execute_result"
    }
   ],
   "source": [
    "viewer.add_image(img, channel_axis=2)"
   ]
  },
  {
   "cell_type": "markdown",
   "metadata": {},
   "source": [
    "Now use your cursor in napari to guess a good diameter, and try segmenting the cells with cellpose, you will have to use the \"channels\" and \"channel_axis\" parameters.  Remember to choose one of the channels for the nucleus, and another for the cytosol."
   ]
  },
  {
   "cell_type": "code",
   "execution_count": 55,
   "metadata": {},
   "outputs": [
    {
     "data": {
      "text/plain": [
       "<Labels layer 'Diameter only' at 0x1393c196ad0>"
      ]
     },
     "execution_count": 55,
     "metadata": {},
     "output_type": "execute_result"
    }
   ],
   "source": [
    "cells, flows, styles, diams = model.eval(img, diameter=300, channels=[2,3], channel_axis=2)\n",
    "viewer.add_labels(cells, name='Diameter only')"
   ]
  },
  {
   "cell_type": "markdown",
   "metadata": {},
   "source": [
    "## Part 2:  Getting more cells"
   ]
  },
  {
   "cell_type": "markdown",
   "metadata": {},
   "source": [
    "Even with a good choice of diameter, and a good choice for the channels, you will find cellpose is not segmenting very many of the cells.  Next try to adjust \"cellprob_threshold\" and \"flow_threshold\" to get more cells segmented.  If you get some tiny slivers of garbage, don't worry we'll take care of those later."
   ]
  },
  {
   "cell_type": "code",
   "execution_count": 63,
   "metadata": {},
   "outputs": [
    {
     "data": {
      "text/plain": [
       "<Labels layer 'Cellprob and flow [1]' at 0x138ae2b7ee0>"
      ]
     },
     "execution_count": 63,
     "metadata": {},
     "output_type": "execute_result"
    }
   ],
   "source": [
    "cells, flows, styles, diams = model.eval(img, diameter=300, channels=[2,3], channel_axis=2, cellprob_threshold=-2, flow_threshold=1.0)\n",
    "viewer.add_labels(cells, name='Cellprob and flow')\n"
   ]
  },
  {
   "cell_type": "markdown",
   "metadata": {},
   "source": [
    "## Part 3:  Cleaning up the segmentation"
   ]
  },
  {
   "cell_type": "markdown",
   "metadata": {},
   "source": [
    "Now we want to do two things:  first clean up the garbage using the \"min_size\" parameter in model.eval."
   ]
  },
  {
   "cell_type": "code",
   "execution_count": 64,
   "metadata": {},
   "outputs": [
    {
     "data": {
      "text/plain": [
       "<Labels layer 'Cellprob and flow size filtered [1]' at 0x138ae2b64d0>"
      ]
     },
     "execution_count": 64,
     "metadata": {},
     "output_type": "execute_result"
    }
   ],
   "source": [
    "filtered_cells = remove_objects(cells, 20000, 10000000000)\n",
    "viewer.add_labels(cells, name='Cellprob and flow size filtered')"
   ]
  },
  {
   "cell_type": "markdown",
   "metadata": {},
   "source": [
    "Notice that our object boundaries usually stretch out beyond our objects.  This is because cellpose downsamples by so much when it does its segmentation, it effectively blurs.  To correct for this, and only have our segmentation cover where the cell is, we can shrink the label image using the shrink_labels function we've used before.  Play with different values of shrinkage until you think it looks good."
   ]
  },
  {
   "cell_type": "code",
   "execution_count": 65,
   "metadata": {},
   "outputs": [
    {
     "data": {
      "text/plain": [
       "<Labels layer 'Shrunk cells [1]' at 0x138ae4580a0>"
      ]
     },
     "execution_count": 65,
     "metadata": {},
     "output_type": "execute_result"
    }
   ],
   "source": [
    "shrunk_cells = shrink_labels(filtered_cells, shrinkage=40)\n",
    "viewer.add_labels(shrunk_cells, name='Shrunk cells')"
   ]
  },
  {
   "cell_type": "code",
   "execution_count": null,
   "metadata": {},
   "outputs": [],
   "source": []
  }
 ],
 "metadata": {
  "kernelspec": {
   "display_name": "napari",
   "language": "python",
   "name": "python3"
  },
  "language_info": {
   "codemirror_mode": {
    "name": "ipython",
    "version": 3
   },
   "file_extension": ".py",
   "mimetype": "text/x-python",
   "name": "python",
   "nbconvert_exporter": "python",
   "pygments_lexer": "ipython3",
   "version": "3.10.13"
  }
 },
 "nbformat": 4,
 "nbformat_minor": 2
}
