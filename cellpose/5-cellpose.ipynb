{
 "cells": [
  {
   "cell_type": "markdown",
   "metadata": {},
   "source": [
    "### Do the imports\n",
    "- If I am doing any processing of files in a folder I like to import os and glob\n",
    "- import cellpose models for training of inferance\n",
    "- import something to read your images \n",
    "- import libraries to save your results\n"
   ]
  },
  {
   "cell_type": "markdown",
   "metadata": {},
   "source": [
    "### Install pytorch if it isn't installed yeet\n",
    "\n",
    "Use this website to configure the right installation packages:\n",
    "[Pytorch](https://pytorch.org/get-started/locally/)\n",
    "\n",
    "then use `pip install <list of packages>` to install it\n",
    "\n",
    "For my macbook, it is\n",
    "\n",
    "```pip3 install torch torchvision torchaudio```\n",
    "\n"
   ]
  },
  {
   "cell_type": "code",
   "execution_count": 2,
   "metadata": {},
   "outputs": [],
   "source": [
    "import os\n",
    "import glob\n",
    "import sys\n",
    "\n",
    "import tifffile # read an write tiff files\n",
    "from cellpose import models\n",
    "import napari\n",
    "import torch\n",
    "import nd2\n",
    "import numpy as np\n",
    "\n",
    "from skimage.transform import rescale\n",
    "\n",
    "import utils"
   ]
  },
  {
   "cell_type": "markdown",
   "metadata": {},
   "source": [
    "Create the napari viewer to visualize images and mask"
   ]
  },
  {
   "cell_type": "code",
   "execution_count": 3,
   "metadata": {},
   "outputs": [],
   "source": [
    "viewer = napari.Viewer()"
   ]
  },
  {
   "cell_type": "markdown",
   "metadata": {},
   "source": [
    "Find the image files to work with. Different path for Window, Mac, and Linux"
   ]
  },
  {
   "cell_type": "code",
   "execution_count": 4,
   "metadata": {},
   "outputs": [
    {
     "data": {
      "text/plain": [
       "['/Volumes/core/micro/internal/cjw/PythonImageProcessing/cellpose/Data/01-yeast_many.tif',\n",
       " '/Volumes/core/micro/internal/cjw/PythonImageProcessing/cellpose/Data/02-a01_42.tif',\n",
       " '/Volumes/core/micro/internal/cjw/PythonImageProcessing/cellpose/Data/03-a01_43.tif',\n",
       " '/Volumes/core/micro/internal/cjw/PythonImageProcessing/cellpose/Data/04-nuclei_fish.tif',\n",
       " '/Volumes/core/micro/internal/cjw/PythonImageProcessing/cellpose/Data/05-yeast_01.tif',\n",
       " '/Volumes/core/micro/internal/cjw/PythonImageProcessing/cellpose/Data/06-yeast_02.tif',\n",
       " '/Volumes/core/micro/internal/cjw/PythonImageProcessing/cellpose/Data/fluo_00.tif']"
      ]
     },
     "execution_count": 4,
     "metadata": {},
     "output_type": "execute_result"
    }
   ],
   "source": [
    "if sys.platform == 'darwin': \n",
    "    imagedir = \"/Volumes/core/micro/internal/cjw/PythonImageProcessing/cellpose/Data\"\n",
    "elif sys.plaform == 'win32':\n",
    "    imagedir = os.path.join(['S:', 'micro',\n",
    "                             'internal', 'cjw',\n",
    "                             'PythonImageProcessing',\n",
    "                             'cellpose',\n",
    "                             'Data'])\n",
    "else:\n",
    "   imagedir = \"/n/core/micro/internal/cjw/PythonImageProcessing/cellpose/Data\"\n",
    "   \n",
    "imagefiles = sorted(glob.glob(f\"{imagedir}/*.tif\"))\n",
    "imagefiles"
   ]
  },
  {
   "cell_type": "code",
   "execution_count": 7,
   "metadata": {},
   "outputs": [
    {
     "data": {
      "text/plain": [
       "(2048, 2048)"
      ]
     },
     "execution_count": 7,
     "metadata": {},
     "output_type": "execute_result"
    }
   ],
   "source": [
    "yeast = tifffile.imread(imagefiles[0])\n",
    "yeast.shape"
   ]
  },
  {
   "cell_type": "code",
   "execution_count": 27,
   "metadata": {},
   "outputs": [
    {
     "data": {
      "text/plain": [
       "(3, 2044, 2048)"
      ]
     },
     "execution_count": 27,
     "metadata": {},
     "output_type": "execute_result"
    }
   ],
   "source": [
    "x = nd2.imread(\"/Volumes/core/micro/internal/cjw/PythonImageProcessing/cellpose/Data/QS_no-drug-0003.nd2\")\n",
    "x = x.max(axis=0)\n",
    "x.shape"
   ]
  },
  {
   "cell_type": "code",
   "execution_count": null,
   "metadata": {},
   "outputs": [],
   "source": []
  },
  {
   "cell_type": "markdown",
   "metadata": {},
   "source": [
    "Add the image to the napari viewer"
   ]
  },
  {
   "cell_type": "code",
   "execution_count": 28,
   "metadata": {},
   "outputs": [
    {
     "data": {
      "text/plain": [
       "<Image layer 'x' at 0x37bd026e0>"
      ]
     },
     "execution_count": 28,
     "metadata": {},
     "output_type": "execute_result"
    }
   ],
   "source": [
    "viewer.layers.clear()\n",
    "viewer.add_image(x)\n"
   ]
  },
  {
   "cell_type": "markdown",
   "metadata": {},
   "source": [
    "### Setup the cellpose model\n",
    "\n",
    "#### GPU setting\n",
    "- on windows or linux with an NVIDIA GPU, set `gpu=True``\n",
    "- on M1 or M2 mac, set `device=torch.device('mps')`\n",
    "- on old Mac or Windows without GPU, set `gpu=False` -- this will be slower\n",
    "\n",
    "#### Model\n",
    "- cellpose has a number of pretrained models to use. Start with `cyto` or `cyto2` (even it is nuclei)\n",
    "- info about pretrained cellpose [models](https://cellpose.readthedocs.io/en/latest/models.html)"
   ]
  },
  {
   "cell_type": "code",
   "execution_count": 11,
   "metadata": {},
   "outputs": [],
   "source": [
    "d = torch.device('mps')\n",
    "\n",
    "# change gpu=True is on windows, and get rid of device\n",
    "# model = models.Cellpose(gpu=True, model_type='cyto2')\n",
    "model = models.Cellpose(gpu=False, device=d, model_type='cyto2')"
   ]
  },
  {
   "cell_type": "markdown",
   "metadata": {},
   "source": [
    "### `model.eval`\n",
    "Parameters\n",
    "----------\n",
    "\n",
    "The basic options:\n",
    "- x : the image, can be a 2d numpy array, a list of numpy arrays,\n",
    "or a 3d numpy array\n",
    "- diameter : The approximate size of the object you are trying to segment\n",
    "- channels :\n",
    "    - [0, 0] for a grayscale image\n",
    "    - [] \n",
    "\n",
    "Returns\n",
    "-------\n",
    "- masks : An array or list of arrays with segmenation labels/masks\n",
    "- flows : A list of numpy arrays with fow"
   ]
  },
  {
   "cell_type": "code",
   "execution_count": 34,
   "metadata": {},
   "outputs": [],
   "source": [
    "\n",
    "masks, flows, styles, diams = model.eval(x[-1], channels=[0, 0],   #[0, 3] might work best\n",
    "                                         diameter=75)"
   ]
  },
  {
   "cell_type": "markdown",
   "metadata": {},
   "source": [
    "Show the results from cellpose a layers in napari"
   ]
  },
  {
   "cell_type": "code",
   "execution_count": 35,
   "metadata": {},
   "outputs": [
    {
     "data": {
      "text/plain": [
       "<Labels layer 'masks' at 0x37b966500>"
      ]
     },
     "execution_count": 35,
     "metadata": {},
     "output_type": "execute_result"
    }
   ],
   "source": [
    "viewer.layers.clear()\n",
    "viewer.add_image(x[-1])\n",
    "viewer.add_labels(masks)\n"
   ]
  },
  {
   "cell_type": "code",
   "execution_count": 25,
   "metadata": {},
   "outputs": [
    {
     "data": {
      "text/plain": [
       "1913"
      ]
     },
     "execution_count": 25,
     "metadata": {},
     "output_type": "execute_result"
    }
   ],
   "source": [
    "## Check to see how many yeast cells were found\n",
    "masks.max()"
   ]
  },
  {
   "cell_type": "code",
   "execution_count": null,
   "metadata": {},
   "outputs": [],
   "source": [
    "viewer.add_image(flows[0], visible=False, name=\"xyflow\")\n",
    "viewer.add_image(flows[1][0], visible=False, name=\"xflow\")\n",
    "viewer.add_image(flows[2], visible=False, name=\"probability\")"
   ]
  },
  {
   "cell_type": "markdown",
   "metadata": {},
   "source": [
    "See what happens when the diameter is changed. What diameter is the best?"
   ]
  },
  {
   "cell_type": "code",
   "execution_count": null,
   "metadata": {},
   "outputs": [],
   "source": []
  },
  {
   "cell_type": "code",
   "execution_count": null,
   "metadata": {},
   "outputs": [],
   "source": []
  }
 ],
 "metadata": {
  "kernelspec": {
   "display_name": "Python 3",
   "language": "python",
   "name": "python3"
  },
  "language_info": {
   "codemirror_mode": {
    "name": "ipython",
    "version": 3
   },
   "file_extension": ".py",
   "mimetype": "text/x-python",
   "name": "python",
   "nbconvert_exporter": "python",
   "pygments_lexer": "ipython3",
   "version": "3.10.10"
  }
 },
 "nbformat": 4,
 "nbformat_minor": 2
}
