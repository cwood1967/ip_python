{
 "cells": [
  {
   "cell_type": "markdown",
   "metadata": {},
   "source": [
    "### Do the imports\n",
    "- If I am doing any processing of files in a folder I like to import os and glob\n",
    "- import cellpose models for training of inferance\n",
    "- import something to read your images \n",
    "- import libraries to save your results\n"
   ]
  },
  {
   "cell_type": "code",
   "execution_count": 1,
   "metadata": {},
   "outputs": [],
   "source": [
    "import os\n",
    "import glob\n",
    "import sys\n",
    "\n",
    "import tifffile # read an write tiff files\n",
    "from cellpose import models\n",
    "import napari\n",
    "import torch\n",
    "import nd2\n",
    "import numpy as np\n",
    "\n",
    "from skimage.transform import rescale\n",
    "\n",
    "import utils"
   ]
  },
  {
   "cell_type": "markdown",
   "metadata": {},
   "source": [
    "Create the napari viewer to visualize images and mask"
   ]
  },
  {
   "cell_type": "code",
   "execution_count": 2,
   "metadata": {},
   "outputs": [],
   "source": [
    "viewer = napari.Viewer()"
   ]
  },
  {
   "cell_type": "markdown",
   "metadata": {},
   "source": [
    "Find the image files to work with. Different path for Window, Mac, and Linux"
   ]
  },
  {
   "cell_type": "code",
   "execution_count": 3,
   "metadata": {},
   "outputs": [
    {
     "name": "stdout",
     "output_type": "stream",
     "text": [
      "0 01-yeast_many.tif\n",
      "1 02-a01_42.tif\n",
      "2 03-a01_43.tif\n",
      "3 04-nuclei_fish.tif\n",
      "4 05-yeast_01.tif\n",
      "5 06-yeast_02.tif\n",
      "6 C-hela-cells.tif\n",
      "7 fluo_00.tif\n"
     ]
    }
   ],
   "source": [
    "if sys.platform == 'darwin': \n",
    "    imagedir = \"/Volumes/core/micro/internal/cjw/PythonImageProcessing/cellpose/Data\"\n",
    "elif sys.plaform == 'win32':\n",
    "    imagedir = os.path.join(['S:', 'micro',\n",
    "                             'internal', 'cjw',\n",
    "                             'PythonImageProcessing',\n",
    "                             'cellpose',\n",
    "                             'Data'])\n",
    "else:\n",
    "   imagedir = \"/n/core/micro/internal/cjw/PythonImageProcessing/cellpose/Data\"\n",
    "   \n",
    "imagefiles = sorted(glob.glob(f\"{imagedir}/*.tif\"))\n",
    "\n",
    "for i, f in enumerate(imagefiles):\n",
    "    print(i, os.path.basename(f))"
   ]
  },
  {
   "cell_type": "code",
   "execution_count": 8,
   "metadata": {},
   "outputs": [
    {
     "data": {
      "text/plain": [
       "(4, 2160, 2160)"
      ]
     },
     "execution_count": 8,
     "metadata": {},
     "output_type": "execute_result"
    }
   ],
   "source": [
    "file = \n",
    "xraw = tifffile.imread(imagefiles[1])\n",
    "xraw.shape"
   ]
  },
  {
   "cell_type": "markdown",
   "metadata": {},
   "source": [
    "Add the image to the napari viewer"
   ]
  },
  {
   "cell_type": "code",
   "execution_count": 7,
   "metadata": {},
   "outputs": [
    {
     "data": {
      "text/plain": [
       "[<Image layer 'Image' at 0x2dbf76590>,\n",
       " <Image layer 'Image [1]' at 0x2dbfea860>,\n",
       " <Image layer 'Image [2]' at 0x2fc06ccd0>,\n",
       " <Image layer 'Image [3]' at 0x2fc2b3460>]"
      ]
     },
     "execution_count": 7,
     "metadata": {},
     "output_type": "execute_result"
    }
   ],
   "source": [
    "viewer.layers.clear()\n",
    "viewer.add_image(x, channel_axis=0)"
   ]
  },
  {
   "cell_type": "code",
   "execution_count": 36,
   "metadata": {},
   "outputs": [
    {
     "data": {
      "text/plain": [
       "(2, 512, 512)"
      ]
     },
     "execution_count": 36,
     "metadata": {},
     "output_type": "execute_result"
    }
   ],
   "source": [
    "x = xraw[[0, 3], 200:712, 200:712]\n",
    "x.shape"
   ]
  },
  {
   "cell_type": "markdown",
   "metadata": {},
   "source": [
    "### Setup the cellpose model\n",
    "\n",
    "#### GPU setting\n",
    "- on windows or linux with an NVIDIA GPU, set `gpu=True``\n",
    "- on M1 or M2 mac, set `device=torch.device('mps')`\n",
    "- on old Mac or Windows without GPU, set `gpu=False` -- this will be slower\n",
    "\n",
    "#### Model\n",
    "- cellpose has a number of pretrained models to use. Start with `cyto` or `cyto2` (even it is nuclei)\n",
    "- info about pretrained cellpose [models](https://cellpose.readthedocs.io/en/latest/models.html)"
   ]
  },
  {
   "cell_type": "code",
   "execution_count": 41,
   "metadata": {},
   "outputs": [],
   "source": [
    "d = torch.device('mps')\n",
    "\n",
    "# change gpu=True if on windows, and get rid of device\n",
    "# model = models.Cellpose(gpu=True, model_type='cyto2')\n",
    "model = models.Cellpose(gpu=False, device=d, model_type='nuclei', net_avg=True)"
   ]
  },
  {
   "cell_type": "markdown",
   "metadata": {},
   "source": [
    "### `model.eval`\n",
    "Parameters\n",
    "----------\n",
    "\n",
    "The basic options:\n",
    "- x : the image, can be a 2d numpy array, a list of numpy arrays,\n",
    "or a 3d numpy array\n",
    "- diameter : The approximate size of the object you are trying to segment\n",
    "- channels :\n",
    "    - [0, 0] for a grayscale image\n",
    "    - [] \n",
    "\n",
    "Returns\n",
    "-------\n",
    "- masks : An array or list of arrays with segmenation labels/masks\n",
    "- flows : A list of numpy arrays with fow"
   ]
  },
  {
   "cell_type": "markdown",
   "metadata": {},
   "source": [
    "#### Try cellpose with no paramter changes"
   ]
  },
  {
   "cell_type": "code",
   "execution_count": 42,
   "metadata": {},
   "outputs": [],
   "source": [
    "\n",
    "masks, flows, styles, diams = model.eval(x[1], channels=[0, 0],\n",
    "                                         diameter=17)"
   ]
  },
  {
   "cell_type": "markdown",
   "metadata": {},
   "source": [
    "Show the results from cellpose a layers in napari"
   ]
  },
  {
   "cell_type": "code",
   "execution_count": 43,
   "metadata": {},
   "outputs": [
    {
     "data": {
      "text/plain": [
       "<Labels layer 'masks' at 0x3e3088070>"
      ]
     },
     "execution_count": 43,
     "metadata": {},
     "output_type": "execute_result"
    }
   ],
   "source": [
    "viewer.layers.clear()\n",
    "viewer.add_image(x, channel_axis=0)\n",
    "viewer.add_labels(masks)\n"
   ]
  },
  {
   "cell_type": "markdown",
   "metadata": {},
   "source": [
    "See what happens when the diameter is changed. What diameter is the best?"
   ]
  },
  {
   "cell_type": "code",
   "execution_count": 45,
   "metadata": {},
   "outputs": [
    {
     "data": {
      "text/plain": [
       "<Image layer 'probability [1]' at 0x38a8fed40>"
      ]
     },
     "execution_count": 45,
     "metadata": {},
     "output_type": "execute_result"
    }
   ],
   "source": [
    "viewer.add_image(flows[0], visible=False, name=\"xyflow\")\n",
    "viewer.add_image(flows[2], visible=False, name=\"probability\")"
   ]
  },
  {
   "cell_type": "code",
   "execution_count": 56,
   "metadata": {},
   "outputs": [],
   "source": [
    "masks2, flows2, styles2, diams2 = model.eval(x[1], channels=[0, 0],\n",
    "                                         diameter=17,\n",
    "                                         cellprob_threshold=-3,\n",
    "                                         flow_threshold=.8)"
   ]
  },
  {
   "cell_type": "code",
   "execution_count": 58,
   "metadata": {},
   "outputs": [
    {
     "data": {
      "text/plain": [
       "<Labels layer 'masks2' at 0x2e20eb610>"
      ]
     },
     "execution_count": 58,
     "metadata": {},
     "output_type": "execute_result"
    }
   ],
   "source": [
    "#viewer.layers.clear()\n",
    "#viewer.add_image(x, channel_axis=0)\n",
    "if \"masks2\" in viewer.layers:\n",
    "    viewer.layers.remove(\"mask2\")\n",
    "viewer.add_labels(masks2)"
   ]
  },
  {
   "cell_type": "code",
   "execution_count": 59,
   "metadata": {},
   "outputs": [
    {
     "data": {
      "text/plain": [
       "<Image layer 'a' at 0x2e25f3f10>"
      ]
     },
     "execution_count": 59,
     "metadata": {},
     "output_type": "execute_result"
    }
   ],
   "source": [
    "a = masks > 0\n",
    "viewer.add_image(a, blending='additive')"
   ]
  },
  {
   "cell_type": "code",
   "execution_count": null,
   "metadata": {},
   "outputs": [],
   "source": []
  }
 ],
 "metadata": {
  "kernelspec": {
   "display_name": "Python 3",
   "language": "python",
   "name": "python3"
  },
  "language_info": {
   "codemirror_mode": {
    "name": "ipython",
    "version": 3
   },
   "file_extension": ".py",
   "mimetype": "text/x-python",
   "name": "python",
   "nbconvert_exporter": "python",
   "pygments_lexer": "ipython3",
   "version": "3.10.10"
  }
 },
 "nbformat": 4,
 "nbformat_minor": 2
}
