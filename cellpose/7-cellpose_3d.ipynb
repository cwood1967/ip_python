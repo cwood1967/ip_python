{
 "cells": [
  {
   "cell_type": "code",
   "execution_count": 34,
   "metadata": {},
   "outputs": [],
   "source": [
    "import numpy as np\n",
    "from skimage.transform import rescale, resize\n",
    "from skimage.filters import gaussian\n",
    "from cellpose import models\n",
    "import torch\n",
    "import tifffile\n",
    "import nd2\n",
    "\n",
    "import napari"
   ]
  },
  {
   "cell_type": "code",
   "execution_count": 2,
   "metadata": {},
   "outputs": [],
   "source": [
    "viewer = napari.Viewer()"
   ]
  },
  {
   "cell_type": "code",
   "execution_count": 16,
   "metadata": {},
   "outputs": [],
   "source": [
    "d = torch.device('mps')\n",
    "\n",
    "# change gpu=True if on windows, and get rid of device\n",
    "# model = models.Cellpose(gpu=True, model_type='cyto2')\n",
    "model = models.Cellpose(gpu=False, device=d, model_type='cyto2')"
   ]
  },
  {
   "cell_type": "markdown",
   "metadata": {},
   "source": [
    "### nd2 files\n",
    "We will be using a Nikon file for this notebook, using the `nd2` package. The `nd2` package has an imread function like skimage and tifffile:\n",
    "\n",
    "```python\n",
    "data = nd2.imread(filename)\n",
    "```\n",
    "\n",
    "Instead, we will use the `ND2File` object gives us access to the metadata (like x, y, z scaling, excitation wavelengths, etc.) that we will need.\n"
   ]
  },
  {
   "cell_type": "code",
   "execution_count": 51,
   "metadata": {},
   "outputs": [
    {
     "name": "stderr",
     "output_type": "stream",
     "text": [
      "/var/folders/p_/_q13km4n1_l_m239h13462k8s9_w4f/T/ipykernel_21345/3635283605.py:4: UserWarning: ND2File file not closed before garbage collection. Please use `with ND2File(...):` context or call `.close()`.\n",
      "  nd2file = nd2.ND2File(imagefile)\n"
     ]
    },
    {
     "data": {
      "text/plain": [
       "(40, 3, 2044, 2048)"
      ]
     },
     "execution_count": 51,
     "metadata": {},
     "output_type": "execute_result"
    }
   ],
   "source": [
    "imagefile = 'Data/WT003.nd2'\n",
    "\n",
    "### create the file object - this doesn't read the image array data\n",
    "nd2file = nd2.ND2File(imagefile)\n",
    "image = nd2file.asarray()\n",
    "image.shape"
   ]
  },
  {
   "cell_type": "markdown",
   "metadata": {},
   "source": [
    "Add the image to the napari viewer. From the shape output in the last cell, the channel axis is 1"
   ]
  },
  {
   "cell_type": "code",
   "execution_count": 5,
   "metadata": {},
   "outputs": [
    {
     "data": {
      "text/plain": [
       "[<Image layer 'Image' at 0x3490dc130>,\n",
       " <Image layer 'Image [1]' at 0x2e53de620>,\n",
       " <Image layer 'Image [2]' at 0x348ec0d90>]"
      ]
     },
     "execution_count": 5,
     "metadata": {},
     "output_type": "execute_result"
    }
   ],
   "source": [
    "viewer.add_image(image, channel_axis=1)"
   ]
  },
  {
   "cell_type": "markdown",
   "metadata": {},
   "source": [
    "Rotate the image in 3D and notice the 3D scaling is not set. To get the right values for the z scaling we need to look at the metadata.\n"
   ]
  },
  {
   "cell_type": "code",
   "execution_count": 64,
   "metadata": {},
   "outputs": [
    {
     "data": {
      "text/plain": [
       "Volume(axesCalibrated=(True, True, True), axesCalibration=(0.065, 0.065, 0.3), axesInterpretation=('distance', 'distance', 'distance'), bitsPerComponentInMemory=16, bitsPerComponentSignificant=16, cameraTransformationMatrix=(0.999993283193413, -0.003665183223043356, 0.003665183223043356, 0.999993283193413), componentCount=1, componentDataType='unsigned', voxelCount=(2048, 2044, 40), componentMaxima=[0.0], componentMinima=[0.0], pixelToStageTransformationMatrix=None)"
      ]
     },
     "execution_count": 64,
     "metadata": {},
     "output_type": "execute_result"
    }
   ],
   "source": [
    "nd2file.metadata"
   ]
  },
  {
   "cell_type": "code",
   "execution_count": 10,
   "metadata": {},
   "outputs": [
    {
     "data": {
      "text/plain": [
       "(0.065, 0.065, 0.3, 0.21666666666666667)"
      ]
     },
     "execution_count": 10,
     "metadata": {},
     "output_type": "execute_result"
    }
   ],
   "source": [
    "md1 = nd2file.metadata.channels[1]\n",
    "xum, yum, zum = md1.volume.axesCalibration\n",
    "zscale = xum/zum\n",
    "xum, yum, zum, zscale"
   ]
  },
  {
   "cell_type": "code",
   "execution_count": 11,
   "metadata": {},
   "outputs": [],
   "source": [
    "for y in viewer.layers:\n",
    "    y.scale = (1/zscale, 1, 1)"
   ]
  },
  {
   "cell_type": "code",
   "execution_count": 20,
   "metadata": {},
   "outputs": [],
   "source": []
  },
  {
   "cell_type": "code",
   "execution_count": 21,
   "metadata": {},
   "outputs": [
    {
     "data": {
      "text/plain": [
       "<Image layer 'masks' at 0x30ace3910>"
      ]
     },
     "execution_count": 21,
     "metadata": {},
     "output_type": "execute_result"
    }
   ],
   "source": [
    "viewer.add_image(masks)"
   ]
  },
  {
   "cell_type": "code",
   "execution_count": 28,
   "metadata": {},
   "outputs": [
    {
     "data": {
      "text/plain": [
       "(40, 3, 221, 222)"
      ]
     },
     "execution_count": 28,
     "metadata": {},
     "output_type": "execute_result"
    }
   ],
   "source": [
    "scaled = rescale(image, (1, 1, .5*zscale, .5*zscale), preserve_range=True)\n",
    "scaled = gaussian(scaled, sigma=(1, 0, 1, 1))\n",
    "scaled.shape"
   ]
  },
  {
   "cell_type": "code",
   "execution_count": 29,
   "metadata": {},
   "outputs": [
    {
     "data": {
      "text/plain": [
       "[<Image layer 'Image' at 0x2f0ef7130>,\n",
       " <Image layer 'Image [1]' at 0x386821e10>,\n",
       " <Image layer 'Image [2]' at 0x40d80d180>]"
      ]
     },
     "execution_count": 29,
     "metadata": {},
     "output_type": "execute_result"
    }
   ],
   "source": [
    "viewer.layers.clear()\n",
    "viewer.add_image(scaled, channel_axis=1)"
   ]
  },
  {
   "cell_type": "code",
   "execution_count": 43,
   "metadata": {},
   "outputs": [],
   "source": [
    "masks, _, _, _ = model.eval(scaled, diameter=40, do_3D=True, channels=[1,2],\n",
    "                            cellprob_threshold=.5,\n",
    "                            flow_threshold=.3) "
   ]
  },
  {
   "cell_type": "code",
   "execution_count": 33,
   "metadata": {},
   "outputs": [
    {
     "data": {
      "text/plain": [
       "<Labels layer 'masks' at 0x386f51c30>"
      ]
     },
     "execution_count": 33,
     "metadata": {},
     "output_type": "execute_result"
    }
   ],
   "source": [
    "viewer.add_labels(masks)"
   ]
  },
  {
   "cell_type": "code",
   "execution_count": 47,
   "metadata": {},
   "outputs": [],
   "source": [
    "shape = (image.shape[0], image.shape[2], image.shape[3])\n",
    "smasks = resize(masks, shape, order=0, preserve_range=True)"
   ]
  },
  {
   "cell_type": "code",
   "execution_count": 49,
   "metadata": {},
   "outputs": [
    {
     "data": {
      "text/plain": [
       "<Labels layer 'smasks' at 0x3867c0070>"
      ]
     },
     "execution_count": 49,
     "metadata": {},
     "output_type": "execute_result"
    }
   ],
   "source": [
    "viewer.layers.clear()\n",
    "viewer.add_image(image, channel_axis=1)\n",
    "viewer.add_labels(smasks)\n"
   ]
  },
  {
   "cell_type": "code",
   "execution_count": null,
   "metadata": {},
   "outputs": [],
   "source": [
    "for y in viewer.layers:\n",
    "    y.scale = (1/zscale, 1, 1)"
   ]
  },
  {
   "cell_type": "code",
   "execution_count": null,
   "metadata": {},
   "outputs": [],
   "source": []
  }
 ],
 "metadata": {
  "kernelspec": {
   "display_name": "py310",
   "language": "python",
   "name": "python3"
  },
  "language_info": {
   "codemirror_mode": {
    "name": "ipython",
    "version": 3
   },
   "file_extension": ".py",
   "mimetype": "text/x-python",
   "name": "python",
   "nbconvert_exporter": "python",
   "pygments_lexer": "ipython3",
   "version": "3.10.10"
  }
 },
 "nbformat": 4,
 "nbformat_minor": 2
}
