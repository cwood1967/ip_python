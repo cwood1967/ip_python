{
 "cells": [
  {
   "cell_type": "code",
   "execution_count": 1,
   "metadata": {},
   "outputs": [],
   "source": [
    "import glob\n",
    "import os\n",
    "\n",
    "import tifffile\n",
    "import numpy as np"
   ]
  },
  {
   "cell_type": "code",
   "execution_count": 11,
   "metadata": {},
   "outputs": [
    {
     "name": "stdout",
     "output_type": "stream",
     "text": [
      "tsc1-R2-0001.tif Data/Training/Pombe/LexyImages/Masks/tsc1-R2-0001.tif True uint16 43858 165\n",
      "QS-R1-00.tif Data/Training/Pombe/LexyImages/Masks/QS-R1-00.tif True uint16 39373 84\n",
      "tsc1-R3-0.tif Data/Training/Pombe/LexyImages/Masks/tsc1-R3-0.tif True uint16 47247 135\n",
      "QS-R3-0003.tif Data/Training/Pombe/LexyImages/Masks/QS-R3-0003.tif True uint16 65535 88\n",
      "c3_image_4.tif Data/Training/Pombe/LexyImages/Masks/c3_image_4.tif True float64 1.0 421\n",
      "Tsc2-R1-0003.tif Data/Training/Pombe/LexyImages/Masks/Tsc2-R1-0003.tif True uint16 40708 133\n",
      "i000.tif Data/Training/Pombe/LexyImages/Masks/i000.tif True float32 7182.0 72\n",
      "i001.tif Data/Training/Pombe/LexyImages/Masks/i001.tif True float32 1.0 131\n",
      "c3_image_3.tif Data/Training/Pombe/LexyImages/Masks/c3_image_3.tif True float64 1.0 261\n",
      "i1.tif Data/Training/Pombe/LexyImages/Masks/i1.tif True float32 1.0 54\n",
      "c3_image_2.tif Data/Training/Pombe/LexyImages/Masks/c3_image_2.tif True float64 1.0 200\n"
     ]
    }
   ],
   "source": [
    "fdir = \"Data/Training/Pombe/LexyImages\"\n",
    "images = glob.glob(\"Data/Training/Pombe/LexyImages/Images/*.tif\")\n",
    "\n",
    "for idx, imgfile in enumerate(images):\n",
    "    bn = os.path.basename(imgfile)\n",
    "    img = tifffile.imread(imgfile)\n",
    "    maskname = f\"{fdir}/Masks/{bn}\"\n",
    "    \n",
    "    mask = tifffile.imread(maskname)\n",
    "    print(bn, maskname, os.path.exists(maskname), img.dtype, img.max(), mask.max())\n",
    "    d = np.stack([img, mask], axis=0)\n",
    "    d = d.astype(np.uint16)\n",
    "    \n",
    "    # tifffile.imwrite(f\"Data/Training/Pombe/training_images/y_{idx:03d}.tif\", d)"
   ]
  },
  {
   "cell_type": "code",
   "execution_count": 6,
   "metadata": {},
   "outputs": [
    {
     "data": {
      "text/plain": [
       "23"
      ]
     },
     "execution_count": 6,
     "metadata": {},
     "output_type": "execute_result"
    }
   ],
   "source": [
    "tdir = \"Data/Training/Pombe/training_images/\"\n",
    "tfiles = sorted(glob.glob(f\"{tdir}/*.tif\"))\n",
    "len(tfiles)"
   ]
  },
  {
   "cell_type": "code",
   "execution_count": 12,
   "metadata": {},
   "outputs": [
    {
     "name": "stdout",
     "output_type": "stream",
     "text": [
      "uint16 [58718 65535]\n",
      "uint16 [58834 65535]\n",
      "uint16 [52484 65535]\n",
      "uint16 [55119 65535]\n",
      "uint16 [62181 65535]\n",
      "uint16 [49556 65535]\n",
      "uint16 [46895 65535]\n",
      "uint16 [48679 65535]\n",
      "uint16 [54276 65535]\n",
      "uint16 [61340 65535]\n",
      "uint16 [60570 65535]\n",
      "uint16 [60570 65535]\n",
      "int64 [43858   165]\n",
      "int64 [39373    84]\n",
      "int64 [47247   135]\n",
      "int64 [65535    88]\n",
      "float64 [  1. 421.]\n",
      "int64 [40708   133]\n",
      "float64 [7182.   72.]\n",
      "float64 [  1. 131.]\n",
      "float64 [  1. 261.]\n",
      "float64 [ 1. 54.]\n",
      "float64 [  1. 200.]\n"
     ]
    }
   ],
   "source": [
    "for idx, imgfile in enumerate(tfiles):\n",
    "    bn = os.path.basename(imgfile)\n",
    "    img = tifffile.imread(imgfile)\n",
    "    print(img.dtype, img.max(axis=(1, 2)))\n",
    "    #tifffile.imwrite(f\"Data/Training/Pombe/sample_images/{bn}\", img[0])"
   ]
  },
  {
   "cell_type": "code",
   "execution_count": null,
   "metadata": {},
   "outputs": [],
   "source": []
  }
 ],
 "metadata": {
  "kernelspec": {
   "display_name": "py310",
   "language": "python",
   "name": "python3"
  },
  "language_info": {
   "codemirror_mode": {
    "name": "ipython",
    "version": 3
   },
   "file_extension": ".py",
   "mimetype": "text/x-python",
   "name": "python",
   "nbconvert_exporter": "python",
   "pygments_lexer": "ipython3",
   "version": "3.10.10"
  }
 },
 "nbformat": 4,
 "nbformat_minor": 2
}
