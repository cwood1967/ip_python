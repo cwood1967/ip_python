{
 "cells": [
  {
   "cell_type": "code",
   "execution_count": 1,
   "metadata": {},
   "outputs": [],
   "source": [
    "%load_ext autoreload\n",
    "%autoreload 2\n",
    "\n",
    "import logging\n",
    "import sys\n",
    "\n",
    "import napari\n",
    "import cellpose\n",
    "import torch\n",
    "import numpy as np\n",
    "import tifffile\n",
    "import cellpose\n",
    "from cellpose import models\n",
    "\n",
    "import utils"
   ]
  },
  {
   "cell_type": "code",
   "execution_count": 2,
   "metadata": {},
   "outputs": [
    {
     "name": "stdout",
     "output_type": "stream",
     "text": [
      "mps\n"
     ]
    }
   ],
   "source": [
    "d = torch.device('mps')\n",
    "print(d)"
   ]
  },
  {
   "cell_type": "code",
   "execution_count": null,
   "metadata": {},
   "outputs": [],
   "source": []
  },
  {
   "cell_type": "code",
   "execution_count": null,
   "metadata": {},
   "outputs": [],
   "source": [
    "import napari\n",
    "viewer = napari.Viewer()"
   ]
  },
  {
   "cell_type": "code",
   "execution_count": 7,
   "metadata": {},
   "outputs": [],
   "source": [
    "x = tifffile.imread(\"a01_42.tif\")"
   ]
  },
  {
   "cell_type": "code",
   "execution_count": null,
   "metadata": {},
   "outputs": [
    {
     "name": "stdout",
     "output_type": "stream",
     "text": [
      "2023-12-04 16:52:07,195 - napari.loader - DEBUG - ImageSlice.__init__\n",
      "2023-12-04 16:52:07,195 - napari.loader - DEBUG - ImageSlice.__init__\n",
      "2023-12-04 16:52:07,198 - napari.loader - DEBUG - ImageSlice.__init__\n",
      "2023-12-04 16:52:07,198 - napari.loader - DEBUG - ImageSlice.__init__\n",
      "2023-12-04 16:52:07,382 - napari.loader - DEBUG - ImageSlice.__init__\n",
      "2023-12-04 16:52:07,382 - napari.loader - DEBUG - ImageSlice.__init__\n",
      "2023-12-04 16:52:07,394 - napari.loader - DEBUG - ImageSlice.__init__\n",
      "2023-12-04 16:52:07,394 - napari.loader - DEBUG - ImageSlice.__init__\n",
      "2023-12-04 16:52:07,397 - napari.loader - DEBUG - ImageSlice.__init__\n",
      "2023-12-04 16:52:07,397 - napari.loader - DEBUG - ImageSlice.__init__\n",
      "2023-12-04 16:52:07,419 - napari.loader - DEBUG - ImageSlice.__init__\n",
      "2023-12-04 16:52:07,419 - napari.loader - DEBUG - ImageSlice.__init__\n",
      "2023-12-04 16:52:07,429 - napari.loader - DEBUG - ImageSlice.__init__\n",
      "2023-12-04 16:52:07,429 - napari.loader - DEBUG - ImageSlice.__init__\n",
      "2023-12-04 16:52:07,431 - napari.loader - DEBUG - ImageSlice.__init__\n",
      "2023-12-04 16:52:07,431 - napari.loader - DEBUG - ImageSlice.__init__\n",
      "2023-12-04 16:52:07,454 - napari.loader - DEBUG - ImageSlice.__init__\n",
      "2023-12-04 16:52:07,454 - napari.loader - DEBUG - ImageSlice.__init__\n",
      "2023-12-04 16:52:07,463 - napari.loader - DEBUG - ImageSlice.__init__\n",
      "2023-12-04 16:52:07,463 - napari.loader - DEBUG - ImageSlice.__init__\n",
      "2023-12-04 16:52:07,465 - napari.loader - DEBUG - ImageSlice.__init__\n",
      "2023-12-04 16:52:07,465 - napari.loader - DEBUG - ImageSlice.__init__\n",
      "2023-12-04 16:52:07,488 - napari.loader - DEBUG - ImageSlice.__init__\n",
      "2023-12-04 16:52:07,488 - napari.loader - DEBUG - ImageSlice.__init__\n"
     ]
    },
    {
     "data": {
      "text/plain": [
       "[<Image layer 'Image' at 0x46da8bf40>,\n",
       " <Image layer 'Image [1]' at 0x46da8be50>,\n",
       " <Image layer 'Image [2]' at 0x4744bff70>,\n",
       " <Image layer 'Image [3]' at 0x4752d1f00>]"
      ]
     },
     "execution_count": 19,
     "metadata": {},
     "output_type": "execute_result"
    },
    {
     "name": "stdout",
     "output_type": "stream",
     "text": [
      "2023-12-04 16:52:08,712 - in_n_out - DEBUG - Executing @injected reset_scroll_progress(viewer: napari.viewer.Viewer) with args: (Viewer(axes=Axes(visible=False, labels=True, colored=True, dashed=False, arrows=True), camera=Camera(center=(0.0, 1079.5, 1079.5), zoom=0.6702777777777778, angles=(0.0, 0.0, 90.0), perspective=0.0, interactive=True), cursor=Cursor(position=(1019.8232545855437, -151.33300555471817), scaled=True, size=1, style=<CursorStyle.STANDARD: 'standard'>), dims=Dims(ndim=2, ndisplay=2, last_used=0, range=((0.0, 2160.0, 1.0), (0.0, 2160.0, 1.0)), current_step=(1080, 1080), order=(0, 1), axis_labels=('0', '1')), grid=GridCanvas(stride=1, shape=(-1, -1), enabled=False), layers=[<Image layer 'Image' at 0x46da8bf40>, <Image layer 'Image [1]' at 0x46da8be50>, <Image layer 'Image [2]' at 0x4744bff70>, <Image layer 'Image [3]' at 0x4752d1f00>], scale_bar=ScaleBar(visible=False, colored=False, color=array([1., 0., 1., 1.], dtype=float32), ticks=True, position=<Position.BOTTOM_RIGHT: 'bottom_right'>, font_size=10.0, box=False, box_color=array([0. , 0. , 0. , 0.6], dtype=float32), unit=None), text_overlay=TextOverlay(visible=False, color=array([0.5, 0.5, 0.5, 1. ], dtype=float32), font_size=10.0, position=<TextOverlayPosition.TOP_LEFT: 'top_left'>, text=''), overlays=Overlays(interaction_box=InteractionBox(points=None, show=False, show_handle=False, show_vertices=False, selection_box_drag=None, selection_box_final=None, transform_start=<napari.utils.transforms.transforms.Affine object at 0x4271fad10>, transform_drag=<napari.utils.transforms.transforms.Affine object at 0x4271fad70>, transform_final=<napari.utils.transforms.transforms.Affine object at 0x4271fadd0>, transform=<napari.utils.transforms.transforms.Affine object at 0x4271fae30>, allow_new_selection=True, selected_vertex=None)), help='', status={'layer_base': 'Image [3]', 'source_type': '', 'plugin': '', 'coordinates': ' [1020 -151]'}, tooltip=Tooltip(visible=False, text=''), theme='dark', title='napari', mouse_over_canvas=True, mouse_move_callbacks=[<function InteractionBoxMouseBindings.initialize_mouse_events.<locals>.mouse_move at 0x46cfbf370>], mouse_drag_callbacks=[<function InteractionBoxMouseBindings.initialize_mouse_events.<locals>.mouse_drag at 0x46cfbf7f0>], mouse_double_click_callbacks=[], mouse_wheel_callbacks=[<function dims_scroll at 0x4271465f0>], _persisted_mouse_event={}, _mouse_drag_gen={}, _mouse_wheel_gen={}, keymap={'Shift': <function InteractionBoxMouseBindings.initialize_key_events.<locals>.hold_to_lock_aspect_ratio at 0x46cfbf640>, 'Control-Shift-R': <function InteractionBoxMouseBindings._reset_active_layer_affine at 0x46d051750>, 'Control-Shift-A': <function InteractionBoxMouseBindings._transform_active_layer at 0x46d051630>}),), kwargs: {}\n",
      "2023-12-04 16:52:08,712 - in_n_out - DEBUG - Executing @injected reset_scroll_progress(viewer: napari.viewer.Viewer) with args: (Viewer(axes=Axes(visible=False, labels=True, colored=True, dashed=False, arrows=True), camera=Camera(center=(0.0, 1079.5, 1079.5), zoom=0.6702777777777778, angles=(0.0, 0.0, 90.0), perspective=0.0, interactive=True), cursor=Cursor(position=(1019.8232545855437, -151.33300555471817), scaled=True, size=1, style=<CursorStyle.STANDARD: 'standard'>), dims=Dims(ndim=2, ndisplay=2, last_used=0, range=((0.0, 2160.0, 1.0), (0.0, 2160.0, 1.0)), current_step=(1080, 1080), order=(0, 1), axis_labels=('0', '1')), grid=GridCanvas(stride=1, shape=(-1, -1), enabled=False), layers=[<Image layer 'Image' at 0x46da8bf40>, <Image layer 'Image [1]' at 0x46da8be50>, <Image layer 'Image [2]' at 0x4744bff70>, <Image layer 'Image [3]' at 0x4752d1f00>], scale_bar=ScaleBar(visible=False, colored=False, color=array([1., 0., 1., 1.], dtype=float32), ticks=True, position=<Position.BOTTOM_RIGHT: 'bottom_right'>, font_size=10.0, box=False, box_color=array([0. , 0. , 0. , 0.6], dtype=float32), unit=None), text_overlay=TextOverlay(visible=False, color=array([0.5, 0.5, 0.5, 1. ], dtype=float32), font_size=10.0, position=<TextOverlayPosition.TOP_LEFT: 'top_left'>, text=''), overlays=Overlays(interaction_box=InteractionBox(points=None, show=False, show_handle=False, show_vertices=False, selection_box_drag=None, selection_box_final=None, transform_start=<napari.utils.transforms.transforms.Affine object at 0x4271fad10>, transform_drag=<napari.utils.transforms.transforms.Affine object at 0x4271fad70>, transform_final=<napari.utils.transforms.transforms.Affine object at 0x4271fadd0>, transform=<napari.utils.transforms.transforms.Affine object at 0x4271fae30>, allow_new_selection=True, selected_vertex=None)), help='', status={'layer_base': 'Image [3]', 'source_type': '', 'plugin': '', 'coordinates': ' [1020 -151]'}, tooltip=Tooltip(visible=False, text=''), theme='dark', title='napari', mouse_over_canvas=True, mouse_move_callbacks=[<function InteractionBoxMouseBindings.initialize_mouse_events.<locals>.mouse_move at 0x46cfbf370>], mouse_drag_callbacks=[<function InteractionBoxMouseBindings.initialize_mouse_events.<locals>.mouse_drag at 0x46cfbf7f0>], mouse_double_click_callbacks=[], mouse_wheel_callbacks=[<function dims_scroll at 0x4271465f0>], _persisted_mouse_event={}, _mouse_drag_gen={}, _mouse_wheel_gen={}, keymap={'Shift': <function InteractionBoxMouseBindings.initialize_key_events.<locals>.hold_to_lock_aspect_ratio at 0x46cfbf640>, 'Control-Shift-R': <function InteractionBoxMouseBindings._reset_active_layer_affine at 0x46d051750>, 'Control-Shift-A': <function InteractionBoxMouseBindings._transform_active_layer at 0x46d051630>}),), kwargs: {}\n",
      "2023-12-04 16:52:08,714 - in_n_out - DEBUG -   Calling reset_scroll_progress with {'viewer': Viewer(axes=Axes(visible=False, labels=True, colored=True, dashed=False, arrows=True), camera=Camera(center=(0.0, 1079.5, 1079.5), zoom=0.6702777777777778, angles=(0.0, 0.0, 90.0), perspective=0.0, interactive=True), cursor=Cursor(position=(1019.8232545855437, -151.33300555471817), scaled=True, size=1, style=<CursorStyle.STANDARD: 'standard'>), dims=Dims(ndim=2, ndisplay=2, last_used=0, range=((0.0, 2160.0, 1.0), (0.0, 2160.0, 1.0)), current_step=(1080, 1080), order=(0, 1), axis_labels=('0', '1')), grid=GridCanvas(stride=1, shape=(-1, -1), enabled=False), layers=[<Image layer 'Image' at 0x46da8bf40>, <Image layer 'Image [1]' at 0x46da8be50>, <Image layer 'Image [2]' at 0x4744bff70>, <Image layer 'Image [3]' at 0x4752d1f00>], scale_bar=ScaleBar(visible=False, colored=False, color=array([1., 0., 1., 1.], dtype=float32), ticks=True, position=<Position.BOTTOM_RIGHT: 'bottom_right'>, font_size=10.0, box=False, box_color=array([0. , 0. , 0. , 0.6], dtype=float32), unit=None), text_overlay=TextOverlay(visible=False, color=array([0.5, 0.5, 0.5, 1. ], dtype=float32), font_size=10.0, position=<TextOverlayPosition.TOP_LEFT: 'top_left'>, text=''), overlays=Overlays(interaction_box=InteractionBox(points=None, show=False, show_handle=False, show_vertices=False, selection_box_drag=None, selection_box_final=None, transform_start=<napari.utils.transforms.transforms.Affine object at 0x4271fad10>, transform_drag=<napari.utils.transforms.transforms.Affine object at 0x4271fad70>, transform_final=<napari.utils.transforms.transforms.Affine object at 0x4271fadd0>, transform=<napari.utils.transforms.transforms.Affine object at 0x4271fae30>, allow_new_selection=True, selected_vertex=None)), help='', status={'layer_base': 'Image [3]', 'source_type': '', 'plugin': '', 'coordinates': ' [1020 -151]'}, tooltip=Tooltip(visible=False, text=''), theme='dark', title='napari', mouse_over_canvas=True, mouse_move_callbacks=[<function InteractionBoxMouseBindings.initialize_mouse_events.<locals>.mouse_move at 0x46cfbf370>], mouse_drag_callbacks=[<function InteractionBoxMouseBindings.initialize_mouse_events.<locals>.mouse_drag at 0x46cfbf7f0>], mouse_double_click_callbacks=[], mouse_wheel_callbacks=[<function dims_scroll at 0x4271465f0>], _persisted_mouse_event={}, _mouse_drag_gen={}, _mouse_wheel_gen={}, keymap={'Shift': <function InteractionBoxMouseBindings.initialize_key_events.<locals>.hold_to_lock_aspect_ratio at 0x46cfbf640>, 'Control-Shift-R': <function InteractionBoxMouseBindings._reset_active_layer_affine at 0x46d051750>, 'Control-Shift-A': <function InteractionBoxMouseBindings._transform_active_layer at 0x46d051630>})} (injected set())\n",
      "2023-12-04 16:52:08,714 - in_n_out - DEBUG -   Calling reset_scroll_progress with {'viewer': Viewer(axes=Axes(visible=False, labels=True, colored=True, dashed=False, arrows=True), camera=Camera(center=(0.0, 1079.5, 1079.5), zoom=0.6702777777777778, angles=(0.0, 0.0, 90.0), perspective=0.0, interactive=True), cursor=Cursor(position=(1019.8232545855437, -151.33300555471817), scaled=True, size=1, style=<CursorStyle.STANDARD: 'standard'>), dims=Dims(ndim=2, ndisplay=2, last_used=0, range=((0.0, 2160.0, 1.0), (0.0, 2160.0, 1.0)), current_step=(1080, 1080), order=(0, 1), axis_labels=('0', '1')), grid=GridCanvas(stride=1, shape=(-1, -1), enabled=False), layers=[<Image layer 'Image' at 0x46da8bf40>, <Image layer 'Image [1]' at 0x46da8be50>, <Image layer 'Image [2]' at 0x4744bff70>, <Image layer 'Image [3]' at 0x4752d1f00>], scale_bar=ScaleBar(visible=False, colored=False, color=array([1., 0., 1., 1.], dtype=float32), ticks=True, position=<Position.BOTTOM_RIGHT: 'bottom_right'>, font_size=10.0, box=False, box_color=array([0. , 0. , 0. , 0.6], dtype=float32), unit=None), text_overlay=TextOverlay(visible=False, color=array([0.5, 0.5, 0.5, 1. ], dtype=float32), font_size=10.0, position=<TextOverlayPosition.TOP_LEFT: 'top_left'>, text=''), overlays=Overlays(interaction_box=InteractionBox(points=None, show=False, show_handle=False, show_vertices=False, selection_box_drag=None, selection_box_final=None, transform_start=<napari.utils.transforms.transforms.Affine object at 0x4271fad10>, transform_drag=<napari.utils.transforms.transforms.Affine object at 0x4271fad70>, transform_final=<napari.utils.transforms.transforms.Affine object at 0x4271fadd0>, transform=<napari.utils.transforms.transforms.Affine object at 0x4271fae30>, allow_new_selection=True, selected_vertex=None)), help='', status={'layer_base': 'Image [3]', 'source_type': '', 'plugin': '', 'coordinates': ' [1020 -151]'}, tooltip=Tooltip(visible=False, text=''), theme='dark', title='napari', mouse_over_canvas=True, mouse_move_callbacks=[<function InteractionBoxMouseBindings.initialize_mouse_events.<locals>.mouse_move at 0x46cfbf370>], mouse_drag_callbacks=[<function InteractionBoxMouseBindings.initialize_mouse_events.<locals>.mouse_drag at 0x46cfbf7f0>], mouse_double_click_callbacks=[], mouse_wheel_callbacks=[<function dims_scroll at 0x4271465f0>], _persisted_mouse_event={}, _mouse_drag_gen={}, _mouse_wheel_gen={}, keymap={'Shift': <function InteractionBoxMouseBindings.initialize_key_events.<locals>.hold_to_lock_aspect_ratio at 0x46cfbf640>, 'Control-Shift-R': <function InteractionBoxMouseBindings._reset_active_layer_affine at 0x46d051750>, 'Control-Shift-A': <function InteractionBoxMouseBindings._transform_active_layer at 0x46d051630>})} (injected set())\n"
     ]
    }
   ],
   "source": [
    "viewer.add_image(x, channel_axis=0)"
   ]
  },
  {
   "cell_type": "code",
   "execution_count": 26,
   "metadata": {},
   "outputs": [],
   "source": [
    "\n",
    "root = logging.getLogger()\n",
    "root.setLevel(logging.DEBUG)\n",
    "\n",
    "handler = logging.StreamHandler(sys.stdout)\n",
    "handler.setLevel(logging.DEBUG)\n",
    "formatter = logging.Formatter('%(asctime)s - %(name)s - %(levelname)s - %(message)s')\n",
    "handler.setFormatter(formatter)\n",
    "root.addHandler(handler)"
   ]
  },
  {
   "cell_type": "code",
   "execution_count": 13,
   "metadata": {},
   "outputs": [
    {
     "name": "stdout",
     "output_type": "stream",
     "text": [
      "2023-12-04 16:50:42,927 - cellpose.core - INFO - >>>> using CPU\n",
      "2023-12-04 16:50:42,927 - cellpose.core - INFO - >>>> using CPU\n",
      "2023-12-04 16:50:42,928 - cellpose.models - INFO - >> cyto << model set to be used\n",
      "2023-12-04 16:50:42,928 - cellpose.models - INFO - >> cyto << model set to be used\n",
      "2023-12-04 16:50:42,929 - cellpose.core - INFO - WARNING: MKL version on torch not working/installed - CPU version will be slightly slower.\n",
      "2023-12-04 16:50:42,929 - cellpose.core - INFO - WARNING: MKL version on torch not working/installed - CPU version will be slightly slower.\n",
      "2023-12-04 16:50:42,930 - cellpose.core - INFO - see https://pytorch.org/docs/stable/backends.html?highlight=mkl\n",
      "2023-12-04 16:50:42,930 - cellpose.core - INFO - see https://pytorch.org/docs/stable/backends.html?highlight=mkl\n",
      "2023-12-04 16:50:43,119 - cellpose.models - INFO - >>>> model diam_mean =  30.000 (ROIs rescaled to this size during training)\n",
      "2023-12-04 16:50:43,119 - cellpose.models - INFO - >>>> model diam_mean =  30.000 (ROIs rescaled to this size during training)\n"
     ]
    }
   ],
   "source": [
    "\n",
    "model = models.Cellpose(gpu=False, device=d)"
   ]
  },
  {
   "cell_type": "code",
   "execution_count": 17,
   "metadata": {},
   "outputs": [
    {
     "name": "stdout",
     "output_type": "stream",
     "text": [
      "2023-12-04 16:51:37,526 - cellpose.models - INFO - ~~~ FINDING MASKS ~~~\n",
      "2023-12-04 16:51:37,526 - cellpose.models - INFO - ~~~ FINDING MASKS ~~~\n",
      "2023-12-04 16:51:47,390 - cellpose.models - INFO - >>>> TOTAL TIME 9.86 sec\n",
      "2023-12-04 16:51:47,390 - cellpose.models - INFO - >>>> TOTAL TIME 9.86 sec\n",
      "CPU times: user 7.62 s, sys: 1.73 s, total: 9.34 s\n",
      "Wall time: 9.87 s\n"
     ]
    }
   ],
   "source": [
    "%time masks, _, _, _ = model.eval(x[3], channels=[0,0], diameter=30, batch_size=128)"
   ]
  },
  {
   "cell_type": "code",
   "execution_count": null,
   "metadata": {},
   "outputs": [
    {
     "name": "stdout",
     "output_type": "stream",
     "text": [
      "2023-12-04 16:52:26,086 - napari.loader - DEBUG - ImageSlice.__init__\n",
      "2023-12-04 16:52:26,086 - napari.loader - DEBUG - ImageSlice.__init__\n",
      "2023-12-04 16:52:26,088 - napari.loader - DEBUG - ImageSlice.__init__\n",
      "2023-12-04 16:52:26,088 - napari.loader - DEBUG - ImageSlice.__init__\n",
      "2023-12-04 16:52:26,099 - napari.loader - DEBUG - ImageSlice.__init__\n",
      "2023-12-04 16:52:26,099 - napari.loader - DEBUG - ImageSlice.__init__\n",
      "2023-12-04 16:52:26,109 - napari.loader - DEBUG - ImageSlice.__init__\n",
      "2023-12-04 16:52:26,109 - napari.loader - DEBUG - ImageSlice.__init__\n",
      "2023-12-04 16:52:26,142 - napari.loader - DEBUG - ImageSlice.__init__\n",
      "2023-12-04 16:52:26,142 - napari.loader - DEBUG - ImageSlice.__init__\n"
     ]
    },
    {
     "data": {
      "text/plain": [
       "<Labels layer 'masks' at 0x2dbe78c70>"
      ]
     },
     "execution_count": 21,
     "metadata": {},
     "output_type": "execute_result"
    },
    {
     "name": "stdout",
     "output_type": "stream",
     "text": [
      "2023-12-04 16:52:32,556 - napari.loader - DEBUG - ImageSlice.__init__\n",
      "2023-12-04 16:52:32,556 - napari.loader - DEBUG - ImageSlice.__init__\n",
      "2023-12-04 16:52:33,749 - napari.loader - DEBUG - ImageSlice.__init__\n",
      "2023-12-04 16:52:33,749 - napari.loader - DEBUG - ImageSlice.__init__\n",
      "2023-12-04 16:52:36,787 - napari.loader - DEBUG - ImageSlice.__init__\n",
      "2023-12-04 16:52:36,787 - napari.loader - DEBUG - ImageSlice.__init__\n",
      "2023-12-04 16:52:38,159 - napari.loader - DEBUG - ImageSlice.__init__\n",
      "2023-12-04 16:52:38,159 - napari.loader - DEBUG - ImageSlice.__init__\n",
      "2023-12-04 16:52:39,554 - napari.loader - DEBUG - ImageSlice.__init__\n",
      "2023-12-04 16:52:39,554 - napari.loader - DEBUG - ImageSlice.__init__\n",
      "2023-12-04 16:52:40,891 - napari.loader - DEBUG - ImageSlice.__init__\n",
      "2023-12-04 16:52:40,891 - napari.loader - DEBUG - ImageSlice.__init__\n",
      "2023-12-04 16:52:41,848 - napari.loader - DEBUG - ImageSlice.__init__\n",
      "2023-12-04 16:52:41,848 - napari.loader - DEBUG - ImageSlice.__init__\n",
      "2023-12-04 16:52:42,849 - napari.loader - DEBUG - ImageSlice.__init__\n",
      "2023-12-04 16:52:42,849 - napari.loader - DEBUG - ImageSlice.__init__\n",
      "2023-12-04 16:52:43,996 - napari.loader - DEBUG - ImageSlice.__init__\n",
      "2023-12-04 16:52:43,996 - napari.loader - DEBUG - ImageSlice.__init__\n",
      "2023-12-04 16:53:47,539 - napari.loader - DEBUG - ImageSlice.__init__\n",
      "2023-12-04 16:53:47,539 - napari.loader - DEBUG - ImageSlice.__init__\n",
      "2023-12-04 16:53:52,355 - napari.loader - DEBUG - ImageSlice.__init__\n",
      "2023-12-04 16:53:52,355 - napari.loader - DEBUG - ImageSlice.__init__\n",
      "2023-12-04 16:53:53,637 - napari.loader - DEBUG - ImageSlice.__init__\n",
      "2023-12-04 16:53:53,637 - napari.loader - DEBUG - ImageSlice.__init__\n",
      "2023-12-04 16:53:54,672 - napari.loader - DEBUG - ImageSlice.__init__\n",
      "2023-12-04 16:53:54,672 - napari.loader - DEBUG - ImageSlice.__init__\n",
      "2023-12-05 09:09:50,037 - in_n_out - DEBUG - Executing @injected reset_scroll_progress(viewer: napari.viewer.Viewer) with args: (Viewer(axes=Axes(visible=False, labels=True, colored=True, dashed=False, arrows=True), camera=Camera(center=(0.0, 279.70262727565563, 609.7840877774325), zoom=1.9084263494316682, angles=(0.0, 0.0, 90.0), perspective=0.0, interactive=True), cursor=Cursor(position=(163.37641811274017, 1209.754808923283), scaled=True, size=10, style=<CursorStyle.STANDARD: 'standard'>), dims=Dims(ndim=2, ndisplay=2, last_used=0, range=((0.0, 2160.0, 1.0), (0.0, 2160.0, 1.0)), current_step=(1080, 1080), order=(0, 1), axis_labels=('0', '1')), grid=GridCanvas(stride=1, shape=(-1, -1), enabled=False), layers=[<Image layer 'Image' at 0x46da8bf40>, <Image layer 'Image [1]' at 0x46da8be50>, <Image layer 'Image [2]' at 0x4744bff70>, <Image layer 'Image [3]' at 0x4752d1f00>, <Labels layer 'masks' at 0x2dbe78c70>], scale_bar=ScaleBar(visible=False, colored=False, color=array([1., 0., 1., 1.], dtype=float32), ticks=True, position=<Position.BOTTOM_RIGHT: 'bottom_right'>, font_size=10.0, box=False, box_color=array([0. , 0. , 0. , 0.6], dtype=float32), unit=None), text_overlay=TextOverlay(visible=False, color=array([0.5, 0.5, 0.5, 1. ], dtype=float32), font_size=10.0, position=<TextOverlayPosition.TOP_LEFT: 'top_left'>, text=''), overlays=Overlays(interaction_box=InteractionBox(points=None, show=False, show_handle=False, show_vertices=False, selection_box_drag=None, selection_box_final=None, transform_start=<napari.utils.transforms.transforms.Affine object at 0x4271fad10>, transform_drag=<napari.utils.transforms.transforms.Affine object at 0x4271fad70>, transform_final=<napari.utils.transforms.transforms.Affine object at 0x4271fadd0>, transform=<napari.utils.transforms.transforms.Affine object at 0x4271fae30>, allow_new_selection=True, selected_vertex=None)), help='use <1> for activate the label eraser, use <2> for activate the paint brush, use <3> for activate the fill bucket, use <4> for pick mode', status='', tooltip=Tooltip(visible=False, text=''), theme='dark', title='napari', mouse_over_canvas=False, mouse_move_callbacks=[<function InteractionBoxMouseBindings.initialize_mouse_events.<locals>.mouse_move at 0x46cfbf370>], mouse_drag_callbacks=[<function InteractionBoxMouseBindings.initialize_mouse_events.<locals>.mouse_drag at 0x46cfbf7f0>], mouse_double_click_callbacks=[], mouse_wheel_callbacks=[<function dims_scroll at 0x4271465f0>], _persisted_mouse_event={}, _mouse_drag_gen={}, _mouse_wheel_gen={}, keymap={'Shift': <function InteractionBoxMouseBindings.initialize_key_events.<locals>.hold_to_lock_aspect_ratio at 0x46cfbf640>, 'Control-Shift-R': <function InteractionBoxMouseBindings._reset_active_layer_affine at 0x46d051750>, 'Control-Shift-A': <function InteractionBoxMouseBindings._transform_active_layer at 0x46d051630>}),), kwargs: {}\n",
      "2023-12-05 09:09:50,037 - in_n_out - DEBUG - Executing @injected reset_scroll_progress(viewer: napari.viewer.Viewer) with args: (Viewer(axes=Axes(visible=False, labels=True, colored=True, dashed=False, arrows=True), camera=Camera(center=(0.0, 279.70262727565563, 609.7840877774325), zoom=1.9084263494316682, angles=(0.0, 0.0, 90.0), perspective=0.0, interactive=True), cursor=Cursor(position=(163.37641811274017, 1209.754808923283), scaled=True, size=10, style=<CursorStyle.STANDARD: 'standard'>), dims=Dims(ndim=2, ndisplay=2, last_used=0, range=((0.0, 2160.0, 1.0), (0.0, 2160.0, 1.0)), current_step=(1080, 1080), order=(0, 1), axis_labels=('0', '1')), grid=GridCanvas(stride=1, shape=(-1, -1), enabled=False), layers=[<Image layer 'Image' at 0x46da8bf40>, <Image layer 'Image [1]' at 0x46da8be50>, <Image layer 'Image [2]' at 0x4744bff70>, <Image layer 'Image [3]' at 0x4752d1f00>, <Labels layer 'masks' at 0x2dbe78c70>], scale_bar=ScaleBar(visible=False, colored=False, color=array([1., 0., 1., 1.], dtype=float32), ticks=True, position=<Position.BOTTOM_RIGHT: 'bottom_right'>, font_size=10.0, box=False, box_color=array([0. , 0. , 0. , 0.6], dtype=float32), unit=None), text_overlay=TextOverlay(visible=False, color=array([0.5, 0.5, 0.5, 1. ], dtype=float32), font_size=10.0, position=<TextOverlayPosition.TOP_LEFT: 'top_left'>, text=''), overlays=Overlays(interaction_box=InteractionBox(points=None, show=False, show_handle=False, show_vertices=False, selection_box_drag=None, selection_box_final=None, transform_start=<napari.utils.transforms.transforms.Affine object at 0x4271fad10>, transform_drag=<napari.utils.transforms.transforms.Affine object at 0x4271fad70>, transform_final=<napari.utils.transforms.transforms.Affine object at 0x4271fadd0>, transform=<napari.utils.transforms.transforms.Affine object at 0x4271fae30>, allow_new_selection=True, selected_vertex=None)), help='use <1> for activate the label eraser, use <2> for activate the paint brush, use <3> for activate the fill bucket, use <4> for pick mode', status='', tooltip=Tooltip(visible=False, text=''), theme='dark', title='napari', mouse_over_canvas=False, mouse_move_callbacks=[<function InteractionBoxMouseBindings.initialize_mouse_events.<locals>.mouse_move at 0x46cfbf370>], mouse_drag_callbacks=[<function InteractionBoxMouseBindings.initialize_mouse_events.<locals>.mouse_drag at 0x46cfbf7f0>], mouse_double_click_callbacks=[], mouse_wheel_callbacks=[<function dims_scroll at 0x4271465f0>], _persisted_mouse_event={}, _mouse_drag_gen={}, _mouse_wheel_gen={}, keymap={'Shift': <function InteractionBoxMouseBindings.initialize_key_events.<locals>.hold_to_lock_aspect_ratio at 0x46cfbf640>, 'Control-Shift-R': <function InteractionBoxMouseBindings._reset_active_layer_affine at 0x46d051750>, 'Control-Shift-A': <function InteractionBoxMouseBindings._transform_active_layer at 0x46d051630>}),), kwargs: {}\n",
      "2023-12-05 09:09:50,040 - in_n_out - DEBUG -   Calling reset_scroll_progress with {'viewer': Viewer(axes=Axes(visible=False, labels=True, colored=True, dashed=False, arrows=True), camera=Camera(center=(0.0, 279.70262727565563, 609.7840877774325), zoom=1.9084263494316682, angles=(0.0, 0.0, 90.0), perspective=0.0, interactive=True), cursor=Cursor(position=(163.37641811274017, 1209.754808923283), scaled=True, size=10, style=<CursorStyle.STANDARD: 'standard'>), dims=Dims(ndim=2, ndisplay=2, last_used=0, range=((0.0, 2160.0, 1.0), (0.0, 2160.0, 1.0)), current_step=(1080, 1080), order=(0, 1), axis_labels=('0', '1')), grid=GridCanvas(stride=1, shape=(-1, -1), enabled=False), layers=[<Image layer 'Image' at 0x46da8bf40>, <Image layer 'Image [1]' at 0x46da8be50>, <Image layer 'Image [2]' at 0x4744bff70>, <Image layer 'Image [3]' at 0x4752d1f00>, <Labels layer 'masks' at 0x2dbe78c70>], scale_bar=ScaleBar(visible=False, colored=False, color=array([1., 0., 1., 1.], dtype=float32), ticks=True, position=<Position.BOTTOM_RIGHT: 'bottom_right'>, font_size=10.0, box=False, box_color=array([0. , 0. , 0. , 0.6], dtype=float32), unit=None), text_overlay=TextOverlay(visible=False, color=array([0.5, 0.5, 0.5, 1. ], dtype=float32), font_size=10.0, position=<TextOverlayPosition.TOP_LEFT: 'top_left'>, text=''), overlays=Overlays(interaction_box=InteractionBox(points=None, show=False, show_handle=False, show_vertices=False, selection_box_drag=None, selection_box_final=None, transform_start=<napari.utils.transforms.transforms.Affine object at 0x4271fad10>, transform_drag=<napari.utils.transforms.transforms.Affine object at 0x4271fad70>, transform_final=<napari.utils.transforms.transforms.Affine object at 0x4271fadd0>, transform=<napari.utils.transforms.transforms.Affine object at 0x4271fae30>, allow_new_selection=True, selected_vertex=None)), help='use <1> for activate the label eraser, use <2> for activate the paint brush, use <3> for activate the fill bucket, use <4> for pick mode', status='', tooltip=Tooltip(visible=False, text=''), theme='dark', title='napari', mouse_over_canvas=False, mouse_move_callbacks=[<function InteractionBoxMouseBindings.initialize_mouse_events.<locals>.mouse_move at 0x46cfbf370>], mouse_drag_callbacks=[<function InteractionBoxMouseBindings.initialize_mouse_events.<locals>.mouse_drag at 0x46cfbf7f0>], mouse_double_click_callbacks=[], mouse_wheel_callbacks=[<function dims_scroll at 0x4271465f0>], _persisted_mouse_event={}, _mouse_drag_gen={}, _mouse_wheel_gen={}, keymap={'Shift': <function InteractionBoxMouseBindings.initialize_key_events.<locals>.hold_to_lock_aspect_ratio at 0x46cfbf640>, 'Control-Shift-R': <function InteractionBoxMouseBindings._reset_active_layer_affine at 0x46d051750>, 'Control-Shift-A': <function InteractionBoxMouseBindings._transform_active_layer at 0x46d051630>})} (injected set())\n",
      "2023-12-05 09:09:50,040 - in_n_out - DEBUG -   Calling reset_scroll_progress with {'viewer': Viewer(axes=Axes(visible=False, labels=True, colored=True, dashed=False, arrows=True), camera=Camera(center=(0.0, 279.70262727565563, 609.7840877774325), zoom=1.9084263494316682, angles=(0.0, 0.0, 90.0), perspective=0.0, interactive=True), cursor=Cursor(position=(163.37641811274017, 1209.754808923283), scaled=True, size=10, style=<CursorStyle.STANDARD: 'standard'>), dims=Dims(ndim=2, ndisplay=2, last_used=0, range=((0.0, 2160.0, 1.0), (0.0, 2160.0, 1.0)), current_step=(1080, 1080), order=(0, 1), axis_labels=('0', '1')), grid=GridCanvas(stride=1, shape=(-1, -1), enabled=False), layers=[<Image layer 'Image' at 0x46da8bf40>, <Image layer 'Image [1]' at 0x46da8be50>, <Image layer 'Image [2]' at 0x4744bff70>, <Image layer 'Image [3]' at 0x4752d1f00>, <Labels layer 'masks' at 0x2dbe78c70>], scale_bar=ScaleBar(visible=False, colored=False, color=array([1., 0., 1., 1.], dtype=float32), ticks=True, position=<Position.BOTTOM_RIGHT: 'bottom_right'>, font_size=10.0, box=False, box_color=array([0. , 0. , 0. , 0.6], dtype=float32), unit=None), text_overlay=TextOverlay(visible=False, color=array([0.5, 0.5, 0.5, 1. ], dtype=float32), font_size=10.0, position=<TextOverlayPosition.TOP_LEFT: 'top_left'>, text=''), overlays=Overlays(interaction_box=InteractionBox(points=None, show=False, show_handle=False, show_vertices=False, selection_box_drag=None, selection_box_final=None, transform_start=<napari.utils.transforms.transforms.Affine object at 0x4271fad10>, transform_drag=<napari.utils.transforms.transforms.Affine object at 0x4271fad70>, transform_final=<napari.utils.transforms.transforms.Affine object at 0x4271fadd0>, transform=<napari.utils.transforms.transforms.Affine object at 0x4271fae30>, allow_new_selection=True, selected_vertex=None)), help='use <1> for activate the label eraser, use <2> for activate the paint brush, use <3> for activate the fill bucket, use <4> for pick mode', status='', tooltip=Tooltip(visible=False, text=''), theme='dark', title='napari', mouse_over_canvas=False, mouse_move_callbacks=[<function InteractionBoxMouseBindings.initialize_mouse_events.<locals>.mouse_move at 0x46cfbf370>], mouse_drag_callbacks=[<function InteractionBoxMouseBindings.initialize_mouse_events.<locals>.mouse_drag at 0x46cfbf7f0>], mouse_double_click_callbacks=[], mouse_wheel_callbacks=[<function dims_scroll at 0x4271465f0>], _persisted_mouse_event={}, _mouse_drag_gen={}, _mouse_wheel_gen={}, keymap={'Shift': <function InteractionBoxMouseBindings.initialize_key_events.<locals>.hold_to_lock_aspect_ratio at 0x46cfbf640>, 'Control-Shift-R': <function InteractionBoxMouseBindings._reset_active_layer_affine at 0x46d051750>, 'Control-Shift-A': <function InteractionBoxMouseBindings._transform_active_layer at 0x46d051630>})} (injected set())\n"
     ]
    }
   ],
   "source": [
    "viewer.add_labels(masks)"
   ]
  },
  {
   "cell_type": "code",
   "execution_count": 15,
   "metadata": {},
   "outputs": [
    {
     "name": "stdout",
     "output_type": "stream",
     "text": [
      ">>>> using GPU\n"
     ]
    }
   ],
   "source": [
    "try:\n",
    "    device = torch.device('mps')\n",
    "    gpu=True\n",
    "    cpu=False\n",
    "    print('>>>> using GPU')\n",
    "except Exception as e:\n",
    "    cpu = True \n",
    "    gpu = False\n",
    "    print(e)\n"
   ]
  },
  {
   "cell_type": "code",
   "execution_count": 23,
   "metadata": {},
   "outputs": [
    {
     "name": "stdout",
     "output_type": "stream",
     "text": [
      "2023-12-04 15:51:36,138 - cellpose.core - INFO - >>>> using GPU\n"
     ]
    },
    {
     "data": {
      "text/plain": [
       "(device(type='mps'), True)"
      ]
     },
     "execution_count": 23,
     "metadata": {},
     "output_type": "execute_result"
    }
   ],
   "source": [
    "models.assign_device(device='mps', gpu=False)"
   ]
  },
  {
   "cell_type": "code",
   "execution_count": 18,
   "metadata": {},
   "outputs": [
    {
     "data": {
      "text/plain": [
       "'mps'"
      ]
     },
     "execution_count": 18,
     "metadata": {},
     "output_type": "execute_result"
    }
   ],
   "source": [
    "device.type"
   ]
  },
  {
   "cell_type": "code",
   "execution_count": null,
   "metadata": {},
   "outputs": [],
   "source": []
  }
 ],
 "metadata": {
  "kernelspec": {
   "display_name": "py310",
   "language": "python",
   "name": "python3"
  },
  "language_info": {
   "codemirror_mode": {
    "name": "ipython",
    "version": 3
   },
   "file_extension": ".py",
   "mimetype": "text/x-python",
   "name": "python",
   "nbconvert_exporter": "python",
   "pygments_lexer": "ipython3",
   "version": "3.10.10"
  }
 },
 "nbformat": 4,
 "nbformat_minor": 2
}
