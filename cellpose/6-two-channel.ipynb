{
 "cells": [
  {
   "cell_type": "markdown",
   "metadata": {},
   "source": [
    "### Do the imports\n",
    "- If I am doing any processing of files in a folder I like to import os and glob\n",
    "- import cellpose models for training of inferance\n",
    "- import something to read your images \n",
    "- import libraries to save your results\n"
   ]
  },
  {
   "cell_type": "code",
   "execution_count": 1,
   "metadata": {},
   "outputs": [],
   "source": [
    "import os\n",
    "import glob\n",
    "import sys\n",
    "\n",
    "import tifffile # read an write tiff files\n",
    "from cellpose import models\n",
    "import napari\n",
    "import torch\n",
    "\n",
    "import numpy as np\n",
    "from skimage.filters import gaussian\n",
    "\n",
    "from skimage.transform import rescale\n",
    "import skimage as ski\n",
    "\n",
    "import utils"
   ]
  },
  {
   "cell_type": "markdown",
   "metadata": {},
   "source": [
    "Create the napari viewer to visualize images and mask"
   ]
  },
  {
   "cell_type": "code",
   "execution_count": 2,
   "metadata": {},
   "outputs": [],
   "source": [
    "viewer = napari.Viewer()"
   ]
  },
  {
   "cell_type": "markdown",
   "metadata": {},
   "source": [
    "Find the image files to work with. Different path for Window, Mac, and Linux"
   ]
  },
  {
   "cell_type": "code",
   "execution_count": 3,
   "metadata": {},
   "outputs": [
    {
     "data": {
      "text/plain": [
       "(384, 512, 3)"
      ]
     },
     "execution_count": 3,
     "metadata": {},
     "output_type": "execute_result"
    }
   ],
   "source": [
    "cells = ski.io.imread('Data/120_img.png')\n",
    "cells.shape"
   ]
  },
  {
   "cell_type": "code",
   "execution_count": 6,
   "metadata": {},
   "outputs": [
    {
     "data": {
      "text/plain": [
       "0"
      ]
     },
     "execution_count": 6,
     "metadata": {},
     "output_type": "execute_result"
    }
   ],
   "source": [
    "cells[..., 2].max()"
   ]
  },
  {
   "cell_type": "code",
   "execution_count": 7,
   "metadata": {},
   "outputs": [],
   "source": [
    "nuclei = cells[..., 0]\n",
    "cyto = cells[..., 1]"
   ]
  },
  {
   "cell_type": "markdown",
   "metadata": {},
   "source": [
    "Add the image to the napari viewer"
   ]
  },
  {
   "cell_type": "code",
   "execution_count": 5,
   "metadata": {},
   "outputs": [
    {
     "data": {
      "text/plain": [
       "<Image layer 'nuclei' at 0x2f0f598a0>"
      ]
     },
     "execution_count": 5,
     "metadata": {},
     "output_type": "execute_result"
    }
   ],
   "source": [
    "viewer.layers.clear()\n",
    "\n",
    "viewer.add_image(cyto, colormap='green', blending='additive')\n",
    "viewer.add_image(nuclei, colormap='magenta', blending='additive')\n",
    "\n"
   ]
  },
  {
   "cell_type": "code",
   "execution_count": 8,
   "metadata": {},
   "outputs": [],
   "source": [
    "if sys.platform == 'darwin': \n",
    "    d = torch.device('mps')\n",
    "    nuclei_model = models.Cellpose(gpu=False, device=d, model_type='nuclei')\n",
    "    cyto_model = models.Cellpose(gpu=False, device=d, model_type='cyto2')\n",
    "else:   \n",
    "    nuclei_model = models.Cellpose(gpu=True, model_type='nuclei')\n",
    "    cyto_model = models.Cellpose(gpu=True, model_type='cyto2')\n"
   ]
  },
  {
   "cell_type": "markdown",
   "metadata": {},
   "source": [
    "The nuclei image is very hazy - do a background subtration using white tophat.  "
   ]
  },
  {
   "cell_type": "code",
   "execution_count": 9,
   "metadata": {},
   "outputs": [],
   "source": [
    "bs_nuc = ski.morphology.white_tophat(nuclei, ski.morphology.disk(10))"
   ]
  },
  {
   "cell_type": "code",
   "execution_count": 10,
   "metadata": {},
   "outputs": [
    {
     "data": {
      "text/plain": [
       "<Image layer 'bs_nuc' at 0x2f6e631f0>"
      ]
     },
     "execution_count": 10,
     "metadata": {},
     "output_type": "execute_result"
    }
   ],
   "source": [
    "viewer.add_image(bs_nuc)"
   ]
  },
  {
   "cell_type": "markdown",
   "metadata": {},
   "source": [
    "Use nuclei model to segment the nuclei image."
   ]
  },
  {
   "cell_type": "code",
   "execution_count": 13,
   "metadata": {},
   "outputs": [],
   "source": [
    "\n",
    "masks, flows, styles, diams = nuclei_model.eval(bs_nuc, channels=[0, 0],   #[0, 3] might work best\n",
    "                                         diameter=15,\n",
    "                                         cellprob_threshold=-1,\n",
    "                                         flow_threshold=1)"
   ]
  },
  {
   "cell_type": "code",
   "execution_count": null,
   "metadata": {},
   "outputs": [],
   "source": []
  },
  {
   "cell_type": "code",
   "execution_count": 14,
   "metadata": {},
   "outputs": [
    {
     "data": {
      "text/plain": [
       "<Labels layer 'masks' at 0x2f99d3f40>"
      ]
     },
     "execution_count": 14,
     "metadata": {},
     "output_type": "execute_result"
    }
   ],
   "source": [
    "viewer.layers.clear()\n",
    "viewer.add_image(nuclei, colormap='magenta', blending='additive')\n",
    "viewer.add_image(cyto, colormap='green', blending='additive')\n",
    "viewer.add_image(bs_nuc, colormap='cyan', blending='additive', visible=False)\n",
    "viewer.add_labels(masks)"
   ]
  },
  {
   "cell_type": "code",
   "execution_count": null,
   "metadata": {},
   "outputs": [],
   "source": [
    "viewer.add_image(flows[0], blending=\"additive\")"
   ]
  },
  {
   "cell_type": "markdown",
   "metadata": {},
   "source": [
    "Use the cyto model to segment the cytoplasm with default diameter"
   ]
  },
  {
   "cell_type": "code",
   "execution_count": 15,
   "metadata": {},
   "outputs": [
    {
     "data": {
      "text/plain": [
       "<Labels layer 'cyto_masks' at 0x340e2ff70>"
      ]
     },
     "execution_count": 15,
     "metadata": {},
     "output_type": "execute_result"
    }
   ],
   "source": [
    "cyto_masks, flows, styles, diams = cyto_model.eval(cyto, channels=[0, 0],\n",
    "                                         diameter=30)\n",
    "viewer.add_labels(cyto_masks)"
   ]
  },
  {
   "cell_type": "markdown",
   "metadata": {},
   "source": [
    "Can you find anything that looks questionable?\n",
    "\n",
    "The cellpose cyto models can use a second channel with nuclei to help find and serparate cells.\n",
    "\n",
    "In the `channels` parameter, make the first index the channel to segment, the second index the channel with nuclei. It is important to start these at 1, not zero. "
   ]
  },
  {
   "cell_type": "code",
   "execution_count": 16,
   "metadata": {},
   "outputs": [
    {
     "data": {
      "text/plain": [
       "<Labels layer 'data_masks' at 0x340ee3eb0>"
      ]
     },
     "execution_count": 16,
     "metadata": {},
     "output_type": "execute_result"
    }
   ],
   "source": [
    "data = np.stack([cyto, bs_nuc])\n",
    "data_masks, flows, styles, diams = cyto_model.eval(data, channels=[1, 2],\n",
    "                                         diameter=30)\n",
    "\n",
    "viewer.add_labels(data_masks)"
   ]
  },
  {
   "cell_type": "markdown",
   "metadata": {},
   "source": [
    "Compare the results of the different methods. It might be easier if the masks are set to contours."
   ]
  },
  {
   "cell_type": "code",
   "execution_count": 17,
   "metadata": {},
   "outputs": [
    {
     "data": {
      "text/plain": [
       "<Labels layer 'gt' at 0x3545d44f0>"
      ]
     },
     "execution_count": 17,
     "metadata": {},
     "output_type": "execute_result"
    }
   ],
   "source": [
    "gt = ski.io.imread(\"Data/120_masks.png\")\n",
    "viewer.add_labels(gt)"
   ]
  },
  {
   "cell_type": "code",
   "execution_count": null,
   "metadata": {},
   "outputs": [],
   "source": []
  }
 ],
 "metadata": {
  "kernelspec": {
   "display_name": "Python 3",
   "language": "python",
   "name": "python3"
  },
  "language_info": {
   "codemirror_mode": {
    "name": "ipython",
    "version": 3
   },
   "file_extension": ".py",
   "mimetype": "text/x-python",
   "name": "python",
   "nbconvert_exporter": "python",
   "pygments_lexer": "ipython3",
   "version": "3.10.10"
  }
 },
 "nbformat": 4,
 "nbformat_minor": 2
}
