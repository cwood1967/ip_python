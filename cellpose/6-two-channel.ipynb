{
 "cells": [
  {
   "cell_type": "markdown",
   "metadata": {},
   "source": [
    "### Do the imports\n",
    "- If I am doing any processing of files in a folder I like to import os and glob\n",
    "- import cellpose models for training of inferance\n",
    "- import something to read your images \n",
    "- import libraries to save your results\n"
   ]
  },
  {
   "cell_type": "markdown",
   "metadata": {},
   "source": [
    "### Install pytorch if it isn't installed yeet\n",
    "\n",
    "Use this website to configure the right installation packages:\n",
    "[Pytorch](https://pytorch.org/get-started/locally/)\n",
    "\n",
    "then use `pip install <list of packages>` to install it\n",
    "\n",
    "For my macbook, it is\n",
    "\n",
    "```pip3 install torch torchvision torchaudio```\n",
    "\n"
   ]
  },
  {
   "cell_type": "code",
   "execution_count": 72,
   "metadata": {},
   "outputs": [],
   "source": [
    "import os\n",
    "import glob\n",
    "import sys\n",
    "\n",
    "import tifffile # read an write tiff files\n",
    "from cellpose import models\n",
    "import napari\n",
    "import torch\n",
    "import nd2\n",
    "import numpy as np\n",
    "from skimage.filters import gaussian\n",
    "\n",
    "from skimage.transform import rescale\n",
    "import skimage as ski\n",
    "\n",
    "import utils"
   ]
  },
  {
   "cell_type": "markdown",
   "metadata": {},
   "source": [
    "Create the napari viewer to visualize images and mask"
   ]
  },
  {
   "cell_type": "code",
   "execution_count": 2,
   "metadata": {},
   "outputs": [],
   "source": [
    "viewer = napari.Viewer()"
   ]
  },
  {
   "cell_type": "markdown",
   "metadata": {},
   "source": [
    "Find the image files to work with. Different path for Window, Mac, and Linux"
   ]
  },
  {
   "cell_type": "code",
   "execution_count": 3,
   "metadata": {},
   "outputs": [
    {
     "data": {
      "text/plain": [
       "['/Volumes/core/micro/internal/cjw/PythonImageProcessing/cellpose/Data/01-yeast_many.tif',\n",
       " '/Volumes/core/micro/internal/cjw/PythonImageProcessing/cellpose/Data/02-a01_42.tif',\n",
       " '/Volumes/core/micro/internal/cjw/PythonImageProcessing/cellpose/Data/03-a01_43.tif',\n",
       " '/Volumes/core/micro/internal/cjw/PythonImageProcessing/cellpose/Data/04-nuclei_fish.tif',\n",
       " '/Volumes/core/micro/internal/cjw/PythonImageProcessing/cellpose/Data/05-yeast_01.tif',\n",
       " '/Volumes/core/micro/internal/cjw/PythonImageProcessing/cellpose/Data/06-yeast_02.tif',\n",
       " '/Volumes/core/micro/internal/cjw/PythonImageProcessing/cellpose/Data/C-hela-cells.tif',\n",
       " '/Volumes/core/micro/internal/cjw/PythonImageProcessing/cellpose/Data/fluo_00.tif']"
      ]
     },
     "execution_count": 3,
     "metadata": {},
     "output_type": "execute_result"
    }
   ],
   "source": [
    "if sys.platform == 'darwin': \n",
    "    imagedir = \"/Volumes/core/micro/internal/cjw/PythonImageProcessing/cellpose/Data\"\n",
    "elif sys.plaform == 'win32':\n",
    "    imagedir = os.path.join(['S:', 'micro',\n",
    "                             'internal', 'cjw',\n",
    "                             'PythonImageProcessing',\n",
    "                             'cellpose',\n",
    "                             'Data'])\n",
    "else:\n",
    "   imagedir = \"/n/core/micro/internal/cjw/PythonImageProcessing/cellpose/Data\"\n",
    "   \n",
    "imagefiles = sorted(glob.glob(f\"{imagedir}/*.tif\"))\n",
    "imagefiles"
   ]
  },
  {
   "cell_type": "code",
   "execution_count": 53,
   "metadata": {},
   "outputs": [
    {
     "data": {
      "text/plain": [
       "(3, 1030, 1300)"
      ]
     },
     "execution_count": 53,
     "metadata": {},
     "output_type": "execute_result"
    }
   ],
   "source": [
    "cells = tifffile.imread(imagefiles[-1])\n",
    "cells.shape"
   ]
  },
  {
   "cell_type": "code",
   "execution_count": 58,
   "metadata": {},
   "outputs": [],
   "source": [
    "lysosomes = cells[0]\n",
    "mitocondria = cells[1]\n",
    "nuclei = cells[2]"
   ]
  },
  {
   "cell_type": "markdown",
   "metadata": {},
   "source": [
    "Add the image to the napari viewer"
   ]
  },
  {
   "cell_type": "code",
   "execution_count": 59,
   "metadata": {},
   "outputs": [
    {
     "data": {
      "text/plain": [
       "<Image layer 'nuclei' at 0x2f3fe03a0>"
      ]
     },
     "execution_count": 59,
     "metadata": {},
     "output_type": "execute_result"
    }
   ],
   "source": [
    "viewer.layers.clear()\n",
    "viewer.add_image(lysosomes, colormap='magenta', blending='additive')\n",
    "viewer.add_image(mitocondria, colormap='green', blending='additive')\n",
    "viewer.add_image(nuclei, colormap='bop blue', blending='additive')\n",
    "\n"
   ]
  },
  {
   "cell_type": "markdown",
   "metadata": {},
   "source": [
    "### Setup the cellpose model\n",
    "\n",
    "#### GPU setting\n",
    "- on windows or linux with an NVIDIA GPU, set `gpu=True``\n",
    "- on M1 or M2 mac, set `device=torch.device('mps')`\n",
    "- on old Mac or Windows without GPU, set `gpu=False` -- this will be slower\n",
    "\n",
    "#### Model\n",
    "- cellpose has a number of pretrained models to use. Start with `cyto` or `cyto2` (even it is nuclei)\n",
    "- info about pretrained cellpose [models](https://cellpose.readthedocs.io/en/latest/models.html)"
   ]
  },
  {
   "cell_type": "code",
   "execution_count": 85,
   "metadata": {},
   "outputs": [],
   "source": [
    "d = torch.device('mps')\n",
    "\n",
    "# change gpu=True is on windows, and get rid of device\n",
    "# model = models.Cellpose(gpu=True, model_type='cyto2')\n",
    "model = models.Cellpose(gpu=False, device=d, model_type='nuclei')\n",
    "cyto = models.Cellpose(gpu=False, device=d, model_type='cyto2')"
   ]
  },
  {
   "cell_type": "markdown",
   "metadata": {},
   "source": [
    "### `model.eval`\n",
    "Parameters\n",
    "----------\n",
    "\n",
    "The basic options:\n",
    "- x : the image, can be a 2d numpy array, a list of numpy arrays,\n",
    "or a 3d numpy array\n",
    "- diameter : The approximate size of the object you are trying to segment\n",
    "- channels :\n",
    "    - [0, 0] for a grayscale image\n",
    "    - [] \n",
    "\n",
    "Returns\n",
    "-------\n",
    "- masks : An array or list of arrays with segmenation labels/masks\n",
    "- flows : A list of numpy arrays with fow"
   ]
  },
  {
   "cell_type": "code",
   "execution_count": 74,
   "metadata": {},
   "outputs": [],
   "source": [
    "bs_nuc = ski.morphology.white_tophat(nuclei, ski.morphology.disk(25))"
   ]
  },
  {
   "cell_type": "code",
   "execution_count": 75,
   "metadata": {},
   "outputs": [
    {
     "data": {
      "text/plain": [
       "<Image layer 'bs_nuc' at 0x32663ba00>"
      ]
     },
     "execution_count": 75,
     "metadata": {},
     "output_type": "execute_result"
    }
   ],
   "source": [
    "viewer.add_image(bs_nuc)"
   ]
  },
  {
   "cell_type": "code",
   "execution_count": 83,
   "metadata": {},
   "outputs": [],
   "source": [
    "\n",
    "masks, flows, styles, diams = model.eval(nuclei, channels=[0, 0],   #[0, 3] might work best\n",
    "                                         diameter=50)"
   ]
  },
  {
   "cell_type": "code",
   "execution_count": 104,
   "metadata": {},
   "outputs": [],
   "source": [
    "mitonuc = np.stack([mitocondria, bs_nuc])\n",
    "mito_masks, flows, styles, diams = cyto.eval(mitonuc, channels=[1, 2],   #[0, 3] might work best\n",
    "                                         diameter=75)"
   ]
  },
  {
   "cell_type": "code",
   "execution_count": 109,
   "metadata": {},
   "outputs": [],
   "source": [
    "lysonuc = np.stack([lysosomes, bs_nuc])\n",
    "lyto_masks, flows, styles, diams = cyto.eval(lysonuc, channels=[1, 2],   #[0, 3] might work best\n",
    "                                         diameter=75)"
   ]
  },
  {
   "cell_type": "markdown",
   "metadata": {},
   "source": [
    "Show the results from cellpose a layers in napari"
   ]
  },
  {
   "cell_type": "code",
   "execution_count": 110,
   "metadata": {},
   "outputs": [
    {
     "data": {
      "text/plain": [
       "<Labels layer 'lyto_masks' at 0x39e015330>"
      ]
     },
     "execution_count": 110,
     "metadata": {},
     "output_type": "execute_result"
    }
   ],
   "source": [
    "#viewer.layers.clear()\n",
    "clear = True\n",
    "if clear:\n",
    "    rlist =list()\n",
    "    for idx, y in enumerate(viewer.layers):\n",
    "        if 'mask' in y.name:\n",
    "            rlist.append(y)\n",
    "    for r in rlist:\n",
    "        viewer.layers.remove(r)\n",
    "viewer.add_labels(masks, name='nuclei_mask')\n",
    "viewer.add_labels(mito_masks)\n",
    "viewer.add_labels(lyto_masks)\n"
   ]
  },
  {
   "cell_type": "code",
   "execution_count": 98,
   "metadata": {},
   "outputs": [
    {
     "name": "stdout",
     "output_type": "stream",
     "text": [
      "lysosomes\n",
      "mitocondria\n",
      "nuclei\n",
      "Image\n",
      "bs_nuc\n",
      "nuclei_mask\n",
      "nuclei_mask [1]\n",
      "mito_masks\n"
     ]
    }
   ],
   "source": [
    "for y in viewer.layers:\n",
    "        print(y.name)"
   ]
  },
  {
   "cell_type": "code",
   "execution_count": 41,
   "metadata": {},
   "outputs": [],
   "source": [
    "g_mito = gaussian(mitocondria, 3, preserve_range=True)\n",
    "g_lyso = gaussian(lysosomes, 3, preserve_range=True)"
   ]
  },
  {
   "cell_type": "code",
   "execution_count": 50,
   "metadata": {},
   "outputs": [],
   "source": [
    "lysonuc = np.stack([g_lyso, nuclei])\n",
    "lyso_mask, flows, styles, diams = model.eval(g_lyso, channels=[1, 2],   #[0, 3] might work best\n",
    "                                         diameter=200)\n",
    "\n",
    "mitonuc = np.stack([g_mito, nuclei])\n",
    "mito_mask, flows, styles, diams = model.eval(g_mito, channels=[1, 2],   #[0, 3] might work best\n",
    "                                         diameter=200,\n",
    "                                         )"
   ]
  },
  {
   "cell_type": "code",
   "execution_count": 51,
   "metadata": {},
   "outputs": [
    {
     "data": {
      "text/plain": [
       "<Labels layer 'mito_mask [1]' at 0x2f374d4b0>"
      ]
     },
     "execution_count": 51,
     "metadata": {},
     "output_type": "execute_result"
    }
   ],
   "source": [
    "clear = False\n",
    "if clear:\n",
    "    for y in viewer.layers:\n",
    "        if 'mask' in y.name:\n",
    "            viewer.layers.remove(y)\n",
    "\n",
    "viewer.add_labels(lyso_mask)\n",
    "viewer.add_labels(mito_mask)"
   ]
  },
  {
   "cell_type": "code",
   "execution_count": 37,
   "metadata": {},
   "outputs": [
    {
     "data": {
      "text/plain": [
       "<Image layer 'probability' at 0x30e8bfca0>"
      ]
     },
     "execution_count": 37,
     "metadata": {},
     "output_type": "execute_result"
    }
   ],
   "source": [
    "viewer.add_image(flows[0], visible=False, name=\"xyflow\")\n",
    "viewer.add_image(flows[1][0], visible=False, name=\"xflow\")\n",
    "viewer.add_image(flows[2], visible=False, name=\"probability\")"
   ]
  },
  {
   "cell_type": "markdown",
   "metadata": {},
   "source": [
    "See what happens when the diameter is changed. What diameter is the best?"
   ]
  },
  {
   "cell_type": "code",
   "execution_count": 52,
   "metadata": {},
   "outputs": [
    {
     "data": {
      "text/plain": [
       "<Image layer 'g_mito' at 0x2f5019360>"
      ]
     },
     "execution_count": 52,
     "metadata": {},
     "output_type": "execute_result"
    }
   ],
   "source": [
    "viewer.add_image(g_lyso, colormap='magenta')\n",
    "viewer.add_image(g_mito, colormap='green')"
   ]
  },
  {
   "cell_type": "code",
   "execution_count": null,
   "metadata": {},
   "outputs": [],
   "source": []
  }
 ],
 "metadata": {
  "kernelspec": {
   "display_name": "Python 3",
   "language": "python",
   "name": "python3"
  },
  "language_info": {
   "codemirror_mode": {
    "name": "ipython",
    "version": 3
   },
   "file_extension": ".py",
   "mimetype": "text/x-python",
   "name": "python",
   "nbconvert_exporter": "python",
   "pygments_lexer": "ipython3",
   "version": "3.10.10"
  }
 },
 "nbformat": 4,
 "nbformat_minor": 2
}
